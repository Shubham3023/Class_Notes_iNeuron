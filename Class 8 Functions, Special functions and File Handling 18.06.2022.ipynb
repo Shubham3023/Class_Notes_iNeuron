{
 "cells": [
  {
   "cell_type": "code",
   "execution_count": 3,
   "id": "d5c26497",
   "metadata": {},
   "outputs": [],
   "source": [
    "l = [ 1,2,3,4,5]"
   ]
  },
  {
   "cell_type": "code",
   "execution_count": 4,
   "id": "99057dfb",
   "metadata": {},
   "outputs": [
    {
     "name": "stdout",
     "output_type": "stream",
     "text": [
      "1\n",
      "2\n",
      "3\n",
      "4\n",
      "5\n"
     ]
    }
   ],
   "source": [
    "for i in l:\n",
    "    print(i)"
   ]
  },
  {
   "cell_type": "code",
   "execution_count": 5,
   "id": "f515704e",
   "metadata": {},
   "outputs": [
    {
     "ename": "TypeError",
     "evalue": "'list' object is not an iterator",
     "output_type": "error",
     "traceback": [
      "\u001b[1;31m---------------------------------------------------------------------------\u001b[0m",
      "\u001b[1;31mTypeError\u001b[0m                                 Traceback (most recent call last)",
      "Input \u001b[1;32mIn [5]\u001b[0m, in \u001b[0;36m<cell line: 1>\u001b[1;34m()\u001b[0m\n\u001b[1;32m----> 1\u001b[0m \u001b[38;5;28;43mnext\u001b[39;49m\u001b[43m(\u001b[49m\u001b[43ml\u001b[49m\u001b[43m)\u001b[49m\n",
      "\u001b[1;31mTypeError\u001b[0m: 'list' object is not an iterator"
     ]
    }
   ],
   "source": [
    "next(l)"
   ]
  },
  {
   "cell_type": "code",
   "execution_count": 7,
   "id": "6aa7a5e3",
   "metadata": {},
   "outputs": [],
   "source": [
    "b = iter(l)"
   ]
  },
  {
   "cell_type": "code",
   "execution_count": 8,
   "id": "dcab2642",
   "metadata": {},
   "outputs": [
    {
     "data": {
      "text/plain": [
       "1"
      ]
     },
     "execution_count": 8,
     "metadata": {},
     "output_type": "execute_result"
    }
   ],
   "source": [
    "next(b)"
   ]
  },
  {
   "cell_type": "code",
   "execution_count": 9,
   "id": "78468daa",
   "metadata": {},
   "outputs": [
    {
     "data": {
      "text/plain": [
       "2"
      ]
     },
     "execution_count": 9,
     "metadata": {},
     "output_type": "execute_result"
    }
   ],
   "source": [
    "next(b)"
   ]
  },
  {
   "cell_type": "code",
   "execution_count": 10,
   "id": "04dfde90",
   "metadata": {},
   "outputs": [
    {
     "data": {
      "text/plain": [
       "3"
      ]
     },
     "execution_count": 10,
     "metadata": {},
     "output_type": "execute_result"
    }
   ],
   "source": [
    "next(b)"
   ]
  },
  {
   "cell_type": "code",
   "execution_count": 11,
   "id": "8b7b88f5",
   "metadata": {},
   "outputs": [
    {
     "data": {
      "text/plain": [
       "4"
      ]
     },
     "execution_count": 11,
     "metadata": {},
     "output_type": "execute_result"
    }
   ],
   "source": [
    "next(b)"
   ]
  },
  {
   "cell_type": "code",
   "execution_count": 12,
   "id": "ce2422e0",
   "metadata": {},
   "outputs": [
    {
     "data": {
      "text/plain": [
       "5"
      ]
     },
     "execution_count": 12,
     "metadata": {},
     "output_type": "execute_result"
    }
   ],
   "source": [
    "next(b)"
   ]
  },
  {
   "cell_type": "code",
   "execution_count": 13,
   "id": "bfddc007",
   "metadata": {},
   "outputs": [
    {
     "ename": "TypeError",
     "evalue": "'int' object is not an iterator",
     "output_type": "error",
     "traceback": [
      "\u001b[1;31m---------------------------------------------------------------------------\u001b[0m",
      "\u001b[1;31mTypeError\u001b[0m                                 Traceback (most recent call last)",
      "Input \u001b[1;32mIn [13]\u001b[0m, in \u001b[0;36m<cell line: 1>\u001b[1;34m()\u001b[0m\n\u001b[1;32m----> 1\u001b[0m \u001b[38;5;28;43mnext\u001b[39;49m\u001b[43m(\u001b[49m\u001b[38;5;241;43m45\u001b[39;49m\u001b[43m)\u001b[49m\n",
      "\u001b[1;31mTypeError\u001b[0m: 'int' object is not an iterator"
     ]
    }
   ],
   "source": [
    "next(45)"
   ]
  },
  {
   "cell_type": "code",
   "execution_count": 15,
   "id": "660fd93a",
   "metadata": {},
   "outputs": [
    {
     "ename": "TypeError",
     "evalue": "'int' object is not iterable",
     "output_type": "error",
     "traceback": [
      "\u001b[1;31m---------------------------------------------------------------------------\u001b[0m",
      "\u001b[1;31mTypeError\u001b[0m                                 Traceback (most recent call last)",
      "Input \u001b[1;32mIn [15]\u001b[0m, in \u001b[0;36m<cell line: 1>\u001b[1;34m()\u001b[0m\n\u001b[1;32m----> 1\u001b[0m \u001b[38;5;28;43miter\u001b[39;49m\u001b[43m(\u001b[49m\u001b[38;5;241;43m45\u001b[39;49m\u001b[43m)\u001b[49m\n",
      "\u001b[1;31mTypeError\u001b[0m: 'int' object is not iterable"
     ]
    }
   ],
   "source": [
    "iter(45)"
   ]
  },
  {
   "cell_type": "code",
   "execution_count": 16,
   "id": "9c17fe0b",
   "metadata": {},
   "outputs": [
    {
     "ename": "TypeError",
     "evalue": "'int' object is not iterable",
     "output_type": "error",
     "traceback": [
      "\u001b[1;31m---------------------------------------------------------------------------\u001b[0m",
      "\u001b[1;31mTypeError\u001b[0m                                 Traceback (most recent call last)",
      "Input \u001b[1;32mIn [16]\u001b[0m, in \u001b[0;36m<cell line: 1>\u001b[1;34m()\u001b[0m\n\u001b[1;32m----> 1\u001b[0m \u001b[38;5;28;01mfor\u001b[39;00m i \u001b[38;5;129;01min\u001b[39;00m \u001b[38;5;241m45678\u001b[39m:\n\u001b[0;32m      2\u001b[0m     \u001b[38;5;28mprint\u001b[39m(i)\n",
      "\u001b[1;31mTypeError\u001b[0m: 'int' object is not iterable"
     ]
    }
   ],
   "source": [
    "for i in 45678:\n",
    "    print(i)"
   ]
  },
  {
   "cell_type": "code",
   "execution_count": 17,
   "id": "e48f3cc7",
   "metadata": {},
   "outputs": [
    {
     "name": "stdout",
     "output_type": "stream",
     "text": [
      "1\n",
      "2\n",
      "3\n",
      "4\n",
      "5\n"
     ]
    }
   ],
   "source": [
    "for i in l:\n",
    "    print(i)"
   ]
  },
  {
   "cell_type": "code",
   "execution_count": 24,
   "id": "38037375",
   "metadata": {},
   "outputs": [],
   "source": [
    "s= \"sudh\""
   ]
  },
  {
   "cell_type": "code",
   "execution_count": 25,
   "id": "c5d3a71b",
   "metadata": {},
   "outputs": [],
   "source": [
    "s = iter(s)"
   ]
  },
  {
   "cell_type": "code",
   "execution_count": 26,
   "id": "4f9c9c93",
   "metadata": {},
   "outputs": [
    {
     "data": {
      "text/plain": [
       "'s'"
      ]
     },
     "execution_count": 26,
     "metadata": {},
     "output_type": "execute_result"
    }
   ],
   "source": [
    "next(s)"
   ]
  },
  {
   "cell_type": "code",
   "execution_count": 27,
   "id": "2c09199e",
   "metadata": {},
   "outputs": [
    {
     "data": {
      "text/plain": [
       "'u'"
      ]
     },
     "execution_count": 27,
     "metadata": {},
     "output_type": "execute_result"
    }
   ],
   "source": [
    "next(s)"
   ]
  },
  {
   "cell_type": "code",
   "execution_count": 28,
   "id": "b1d7e9bc",
   "metadata": {},
   "outputs": [
    {
     "data": {
      "text/plain": [
       "'d'"
      ]
     },
     "execution_count": 28,
     "metadata": {},
     "output_type": "execute_result"
    }
   ],
   "source": [
    "next(s)"
   ]
  },
  {
   "cell_type": "code",
   "execution_count": 30,
   "id": "f15828b2",
   "metadata": {},
   "outputs": [
    {
     "ename": "StopIteration",
     "evalue": "",
     "output_type": "error",
     "traceback": [
      "\u001b[1;31m---------------------------------------------------------------------------\u001b[0m",
      "\u001b[1;31mStopIteration\u001b[0m                             Traceback (most recent call last)",
      "Input \u001b[1;32mIn [30]\u001b[0m, in \u001b[0;36m<cell line: 1>\u001b[1;34m()\u001b[0m\n\u001b[1;32m----> 1\u001b[0m \u001b[38;5;28;43mnext\u001b[39;49m\u001b[43m(\u001b[49m\u001b[43ms\u001b[49m\u001b[43m)\u001b[49m\n",
      "\u001b[1;31mStopIteration\u001b[0m: "
     ]
    }
   ],
   "source": [
    "next(s)"
   ]
  },
  {
   "cell_type": "code",
   "execution_count": 31,
   "id": "f0531663",
   "metadata": {},
   "outputs": [
    {
     "name": "stdout",
     "output_type": "stream",
     "text": [
      "s\n",
      "u\n",
      "d\n",
      "h\n"
     ]
    }
   ],
   "source": [
    "s = \"sudh\"\n",
    "for i in s:\n",
    "    print(i)"
   ]
  },
  {
   "cell_type": "code",
   "execution_count": 48,
   "id": "b121e696",
   "metadata": {},
   "outputs": [],
   "source": [
    "#for loop uses iter(), next() and len() function internally"
   ]
  },
  {
   "cell_type": "code",
   "execution_count": 49,
   "id": "f03d0084",
   "metadata": {},
   "outputs": [],
   "source": [
    "t = (5,6,7,)"
   ]
  },
  {
   "cell_type": "code",
   "execution_count": 50,
   "id": "983b07e0",
   "metadata": {},
   "outputs": [
    {
     "ename": "TypeError",
     "evalue": "'tuple' object is not an iterator",
     "output_type": "error",
     "traceback": [
      "\u001b[1;31m---------------------------------------------------------------------------\u001b[0m",
      "\u001b[1;31mTypeError\u001b[0m                                 Traceback (most recent call last)",
      "Input \u001b[1;32mIn [50]\u001b[0m, in \u001b[0;36m<cell line: 1>\u001b[1;34m()\u001b[0m\n\u001b[1;32m----> 1\u001b[0m \u001b[38;5;28;43mnext\u001b[39;49m\u001b[43m(\u001b[49m\u001b[43mt\u001b[49m\u001b[43m)\u001b[49m\n",
      "\u001b[1;31mTypeError\u001b[0m: 'tuple' object is not an iterator"
     ]
    }
   ],
   "source": [
    "next(t)"
   ]
  },
  {
   "cell_type": "code",
   "execution_count": 51,
   "id": "4bcdc8bb",
   "metadata": {},
   "outputs": [],
   "source": [
    "t = iter(t)"
   ]
  },
  {
   "cell_type": "code",
   "execution_count": 52,
   "id": "2f194715",
   "metadata": {},
   "outputs": [
    {
     "data": {
      "text/plain": [
       "5"
      ]
     },
     "execution_count": 52,
     "metadata": {},
     "output_type": "execute_result"
    }
   ],
   "source": [
    "next(t)"
   ]
  },
  {
   "cell_type": "code",
   "execution_count": 53,
   "id": "d9b46485",
   "metadata": {},
   "outputs": [
    {
     "data": {
      "text/plain": [
       "6"
      ]
     },
     "execution_count": 53,
     "metadata": {},
     "output_type": "execute_result"
    }
   ],
   "source": [
    "next(t)"
   ]
  },
  {
   "cell_type": "code",
   "execution_count": 54,
   "id": "9c609bff",
   "metadata": {},
   "outputs": [
    {
     "data": {
      "text/plain": [
       "7"
      ]
     },
     "execution_count": 54,
     "metadata": {},
     "output_type": "execute_result"
    }
   ],
   "source": [
    "next(t)"
   ]
  },
  {
   "cell_type": "code",
   "execution_count": 55,
   "id": "2e52669f",
   "metadata": {},
   "outputs": [
    {
     "ename": "StopIteration",
     "evalue": "",
     "output_type": "error",
     "traceback": [
      "\u001b[1;31m---------------------------------------------------------------------------\u001b[0m",
      "\u001b[1;31mStopIteration\u001b[0m                             Traceback (most recent call last)",
      "Input \u001b[1;32mIn [55]\u001b[0m, in \u001b[0;36m<cell line: 1>\u001b[1;34m()\u001b[0m\n\u001b[1;32m----> 1\u001b[0m \u001b[38;5;28;43mnext\u001b[39;49m\u001b[43m(\u001b[49m\u001b[43mt\u001b[49m\u001b[43m)\u001b[49m\n",
      "\u001b[1;31mStopIteration\u001b[0m: "
     ]
    }
   ],
   "source": [
    "next(t)"
   ]
  },
  {
   "cell_type": "code",
   "execution_count": 56,
   "id": "85c86221",
   "metadata": {},
   "outputs": [],
   "source": [
    "#generator function"
   ]
  },
  {
   "cell_type": "code",
   "execution_count": 58,
   "id": "81cbd6e0",
   "metadata": {},
   "outputs": [
    {
     "data": {
      "text/plain": [
       "[1, 2, 3, 4, 5, 6, 7, 8, 9]"
      ]
     },
     "execution_count": 58,
     "metadata": {},
     "output_type": "execute_result"
    }
   ],
   "source": [
    "list(range(1,10))"
   ]
  },
  {
   "cell_type": "code",
   "execution_count": 62,
   "id": "92582608",
   "metadata": {},
   "outputs": [],
   "source": [
    "def gen():\n",
    "    l= []\n",
    "    for i in [1,2,3,4,5,6,7,8,9,10]:\n",
    "        sq = i**2\n",
    "        l.append(sq)\n",
    "    return l"
   ]
  },
  {
   "cell_type": "code",
   "execution_count": 63,
   "id": "7eb47a8e",
   "metadata": {},
   "outputs": [
    {
     "data": {
      "text/plain": [
       "[1, 4, 9, 16, 25, 36, 49, 64, 81, 100]"
      ]
     },
     "execution_count": 63,
     "metadata": {},
     "output_type": "execute_result"
    }
   ],
   "source": [
    "gen()"
   ]
  },
  {
   "cell_type": "code",
   "execution_count": 68,
   "id": "60ba5607",
   "metadata": {},
   "outputs": [],
   "source": [
    "def square_fun(n):\n",
    "    x = [i*i for i in range(n+1)]\n",
    "    return x"
   ]
  },
  {
   "cell_type": "code",
   "execution_count": 69,
   "id": "b6b0861a",
   "metadata": {},
   "outputs": [
    {
     "data": {
      "text/plain": [
       "[0, 1, 4, 9, 16]"
      ]
     },
     "execution_count": 69,
     "metadata": {},
     "output_type": "execute_result"
    }
   ],
   "source": [
    "square_fun(4)"
   ]
  },
  {
   "cell_type": "code",
   "execution_count": 70,
   "id": "e400d900",
   "metadata": {},
   "outputs": [
    {
     "data": {
      "text/plain": [
       "[0, 1, 2, 3]"
      ]
     },
     "execution_count": 70,
     "metadata": {},
     "output_type": "execute_result"
    }
   ],
   "source": [
    "list(range(4))"
   ]
  },
  {
   "cell_type": "code",
   "execution_count": 78,
   "id": "75fc4e60",
   "metadata": {},
   "outputs": [],
   "source": [
    "# ramge like fun\n",
    "def square_fun1(n):\n",
    "    x = [i*i for i in range(n)]\n",
    "    yield x"
   ]
  },
  {
   "cell_type": "code",
   "execution_count": 79,
   "id": "1410780e",
   "metadata": {},
   "outputs": [
    {
     "data": {
      "text/plain": [
       "<generator object square_fun1 at 0x0000024070819580>"
      ]
     },
     "execution_count": 79,
     "metadata": {},
     "output_type": "execute_result"
    }
   ],
   "source": [
    "square_fun1(4)"
   ]
  },
  {
   "cell_type": "code",
   "execution_count": 80,
   "id": "16f4bc02",
   "metadata": {},
   "outputs": [
    {
     "data": {
      "text/plain": [
       "range(0, 5)"
      ]
     },
     "execution_count": 80,
     "metadata": {},
     "output_type": "execute_result"
    }
   ],
   "source": [
    "range(5)"
   ]
  },
  {
   "cell_type": "code",
   "execution_count": 81,
   "id": "ff7a455e",
   "metadata": {},
   "outputs": [
    {
     "name": "stdout",
     "output_type": "stream",
     "text": [
      "[0, 1, 4, 9]\n"
     ]
    }
   ],
   "source": [
    "for i in square_fun1(4):\n",
    "    print(i)"
   ]
  },
  {
   "cell_type": "code",
   "execution_count": 82,
   "id": "643983e5",
   "metadata": {},
   "outputs": [
    {
     "name": "stdout",
     "output_type": "stream",
     "text": [
      "0\n",
      "1\n",
      "2\n",
      "3\n"
     ]
    }
   ],
   "source": [
    "for i in range(4):\n",
    "    print(i)"
   ]
  },
  {
   "cell_type": "code",
   "execution_count": 83,
   "id": "d1ae1a40",
   "metadata": {},
   "outputs": [
    {
     "data": {
      "text/plain": [
       "[0, 1, 4, 9]"
      ]
     },
     "execution_count": 83,
     "metadata": {},
     "output_type": "execute_result"
    }
   ],
   "source": [
    "next(square_fun1(4))"
   ]
  },
  {
   "cell_type": "code",
   "execution_count": 84,
   "id": "09f7d32a",
   "metadata": {},
   "outputs": [
    {
     "ename": "TypeError",
     "evalue": "'range' object is not an iterator",
     "output_type": "error",
     "traceback": [
      "\u001b[1;31m---------------------------------------------------------------------------\u001b[0m",
      "\u001b[1;31mTypeError\u001b[0m                                 Traceback (most recent call last)",
      "Input \u001b[1;32mIn [84]\u001b[0m, in \u001b[0;36m<cell line: 1>\u001b[1;34m()\u001b[0m\n\u001b[1;32m----> 1\u001b[0m \u001b[38;5;28;43mnext\u001b[39;49m\u001b[43m(\u001b[49m\u001b[38;5;28;43mrange\u001b[39;49m\u001b[43m(\u001b[49m\u001b[38;5;241;43m4\u001b[39;49m\u001b[43m)\u001b[49m\u001b[43m)\u001b[49m\n",
      "\u001b[1;31mTypeError\u001b[0m: 'range' object is not an iterator"
     ]
    }
   ],
   "source": [
    "next(range(4))"
   ]
  },
  {
   "cell_type": "code",
   "execution_count": 85,
   "id": "ddea9682",
   "metadata": {},
   "outputs": [],
   "source": [
    "r =iter(range(4))"
   ]
  },
  {
   "cell_type": "code",
   "execution_count": 86,
   "id": "87fe2ebb",
   "metadata": {},
   "outputs": [
    {
     "data": {
      "text/plain": [
       "0"
      ]
     },
     "execution_count": 86,
     "metadata": {},
     "output_type": "execute_result"
    }
   ],
   "source": [
    "next(r)"
   ]
  },
  {
   "cell_type": "code",
   "execution_count": 87,
   "id": "a5059946",
   "metadata": {},
   "outputs": [
    {
     "data": {
      "text/plain": [
       "1"
      ]
     },
     "execution_count": 87,
     "metadata": {},
     "output_type": "execute_result"
    }
   ],
   "source": [
    "next(r)"
   ]
  },
  {
   "cell_type": "code",
   "execution_count": 88,
   "id": "b75d86f0",
   "metadata": {},
   "outputs": [
    {
     "data": {
      "text/plain": [
       "2"
      ]
     },
     "execution_count": 88,
     "metadata": {},
     "output_type": "execute_result"
    }
   ],
   "source": [
    "next(r)"
   ]
  },
  {
   "cell_type": "code",
   "execution_count": 89,
   "id": "dc2ee714",
   "metadata": {},
   "outputs": [
    {
     "data": {
      "text/plain": [
       "3"
      ]
     },
     "execution_count": 89,
     "metadata": {},
     "output_type": "execute_result"
    }
   ],
   "source": [
    "next(r)"
   ]
  },
  {
   "cell_type": "code",
   "execution_count": 90,
   "id": "d9cfa894",
   "metadata": {},
   "outputs": [
    {
     "ename": "StopIteration",
     "evalue": "",
     "output_type": "error",
     "traceback": [
      "\u001b[1;31m---------------------------------------------------------------------------\u001b[0m",
      "\u001b[1;31mStopIteration\u001b[0m                             Traceback (most recent call last)",
      "Input \u001b[1;32mIn [90]\u001b[0m, in \u001b[0;36m<cell line: 1>\u001b[1;34m()\u001b[0m\n\u001b[1;32m----> 1\u001b[0m \u001b[38;5;28;43mnext\u001b[39;49m\u001b[43m(\u001b[49m\u001b[43mr\u001b[49m\u001b[43m)\u001b[49m\n",
      "\u001b[1;31mStopIteration\u001b[0m: "
     ]
    }
   ],
   "source": [
    "next(r)"
   ]
  },
  {
   "cell_type": "code",
   "execution_count": 94,
   "id": "a2518480",
   "metadata": {},
   "outputs": [],
   "source": [
    "def genfib(n):\n",
    "    \n",
    "    a = 1\n",
    "    b = 1\n",
    "    l = []\n",
    "    for i in range(n):\n",
    "        l.append(a)\n",
    "        a,b = b , a+b\n",
    "    return l"
   ]
  },
  {
   "cell_type": "code",
   "execution_count": 95,
   "id": "35b8d227",
   "metadata": {},
   "outputs": [
    {
     "data": {
      "text/plain": [
       "[1, 1, 2, 3, 5, 8, 13, 21, 34, 55]"
      ]
     },
     "execution_count": 95,
     "metadata": {},
     "output_type": "execute_result"
    }
   ],
   "source": [
    "genfib(10) # if n value is large it consumes lots of memory and crashes system"
   ]
  },
  {
   "cell_type": "code",
   "execution_count": 97,
   "id": "220f65fa",
   "metadata": {},
   "outputs": [],
   "source": [
    "def genfib1(n):\n",
    "    a =1\n",
    "    b =1\n",
    "    for i in range(n):\n",
    "        yield a\n",
    "        a,b = b, a+b"
   ]
  },
  {
   "cell_type": "code",
   "execution_count": 99,
   "id": "d583333b",
   "metadata": {},
   "outputs": [
    {
     "name": "stdout",
     "output_type": "stream",
     "text": [
      "1\n",
      "1\n",
      "2\n",
      "3\n",
      "5\n",
      "8\n",
      "13\n",
      "21\n",
      "34\n",
      "55\n"
     ]
    }
   ],
   "source": [
    "for i in genfib1(10): # generator function will not use resourses completely and other programs can be used\n",
    "    print(i)"
   ]
  },
  {
   "cell_type": "code",
   "execution_count": 100,
   "id": "b545c685",
   "metadata": {},
   "outputs": [],
   "source": [
    "# file operation"
   ]
  },
  {
   "cell_type": "code",
   "execution_count": 101,
   "id": "a267c067",
   "metadata": {},
   "outputs": [
    {
     "ename": "FileNotFoundError",
     "evalue": "[Errno 2] No such file or directory: 'sudh.txt'",
     "output_type": "error",
     "traceback": [
      "\u001b[1;31m---------------------------------------------------------------------------\u001b[0m",
      "\u001b[1;31mFileNotFoundError\u001b[0m                         Traceback (most recent call last)",
      "Input \u001b[1;32mIn [101]\u001b[0m, in \u001b[0;36m<cell line: 1>\u001b[1;34m()\u001b[0m\n\u001b[1;32m----> 1\u001b[0m f \u001b[38;5;241m=\u001b[39m \u001b[38;5;28;43mopen\u001b[39;49m\u001b[43m(\u001b[49m\u001b[38;5;124;43m\"\u001b[39;49m\u001b[38;5;124;43msudh.txt\u001b[39;49m\u001b[38;5;124;43m\"\u001b[39;49m\u001b[43m)\u001b[49m\n",
      "\u001b[1;31mFileNotFoundError\u001b[0m: [Errno 2] No such file or directory: 'sudh.txt'"
     ]
    }
   ],
   "source": [
    "f = open(\"sudh.txt\")"
   ]
  },
  {
   "cell_type": "code",
   "execution_count": 104,
   "id": "1cf4de49",
   "metadata": {},
   "outputs": [
    {
     "name": "stdout",
     "output_type": "stream",
     "text": [
      " Volume in drive C is Windows\n",
      " Volume Serial Number is 6406-1D0E\n",
      "\n",
      " Directory of C:\\Users\\Shubham\n",
      "\n",
      "18-06-2022  16:38    <DIR>          .\n",
      "18-06-2022  16:38    <DIR>          ..\n",
      "26-05-2021  21:14    <DIR>          .android\n",
      "24-03-2022  08:17    <DIR>          .idlerc\n",
      "13-06-2022  21:29    <DIR>          .ipynb_checkpoints\n",
      "28-05-2022  06:44    <DIR>          .ipython\n",
      "05-06-2022  19:28    <DIR>          .jupyter\n",
      "18-11-2021  22:06    <DIR>          3D Objects\n",
      "03-06-2022  18:11            28,037 abc.pdf\n",
      "28-05-2022  06:37    <DIR>          anaconda3\n",
      "13-01-2022  14:52    <DIR>          Contacts\n",
      "18-06-2022  13:41    <DIR>          Desktop\n",
      "06-06-2022  14:30    <DIR>          Documents\n",
      "18-06-2022  12:47    <DIR>          Downloads\n",
      "17-06-2022  06:28            31,818 Exception handelling by sudhanshu sir.ipynb\n",
      "17-06-2022  11:28    <DIR>          Exercises by sudhanshu sir\n",
      "18-01-2022  02:04    <DIR>          Favorites\n",
      "01-06-2022  19:39            23,573 FOR LOOP Practice 1.06.2022.ipynb\n",
      "05-06-2022  16:45            22,026 functions 5.6.2022.ipynb\n",
      "18-01-2022  02:04    <DIR>          Links\n",
      "28-05-2022  17:28            16,844 List for loop 28.05.2022.ipynb\n",
      "29-05-2022  14:30            60,812 list,set,tuple, dict 29.05.ipynb\n",
      "03-06-2022  18:18            45,729 MergedPDF.pdf\n",
      "18-01-2022  02:04    <DIR>          Music\n",
      "30-05-2022  12:22    <DIR>          OneDrive\n",
      "08-05-2022  07:40    <DIR>          Pictures\n",
      "03-06-2022  18:11            27,095 pqr.pdf\n",
      "09-06-2022  18:17            39,854 practise 4.6.22.ipynb\n",
      "28-04-2022  23:15    <DIR>          PycharmProjects\n",
      "18-01-2022  02:04    <DIR>          Saved Games\n",
      "13-01-2022  14:52    <DIR>          Searches\n",
      "29-05-2022  08:58            35,394 String 29.05.2022.ipynb\n",
      "18-06-2022  16:38                 0 sudh1.txt\n",
      "04-06-2022  08:11           469,866 test.mp4\n",
      "13-06-2022  22:37                 0 test.txt\n",
      "16-06-2022  19:22                 0 test1.txt\n",
      "13-06-2022  16:35    <DIR>          Tracing\n",
      "18-06-2022  16:37            22,970 Untitled.ipynb\n",
      "18-01-2022  02:04    <DIR>          Videos\n",
      "02-06-2022  16:55            26,847 while loop and functions basic 29.05.2022.ipynb\n",
      "              16 File(s)        850,865 bytes\n",
      "              24 Dir(s)  138,438,455,296 bytes free\n"
     ]
    }
   ],
   "source": [
    "ls"
   ]
  },
  {
   "cell_type": "code",
   "execution_count": 103,
   "id": "12566416",
   "metadata": {},
   "outputs": [],
   "source": [
    "f = open(\"sudh1.txt\",\"w\")"
   ]
  },
  {
   "cell_type": "code",
   "execution_count": 105,
   "id": "cb2fa967",
   "metadata": {},
   "outputs": [
    {
     "data": {
      "text/plain": [
       "36"
      ]
     },
     "execution_count": 105,
     "metadata": {},
     "output_type": "execute_result"
    }
   ],
   "source": [
    "f.write(\"this is my very first file operation\")"
   ]
  },
  {
   "cell_type": "code",
   "execution_count": 106,
   "id": "a0e5809f",
   "metadata": {},
   "outputs": [],
   "source": [
    "f.close()"
   ]
  },
  {
   "cell_type": "code",
   "execution_count": 109,
   "id": "abd18f5a",
   "metadata": {},
   "outputs": [
    {
     "name": "stdout",
     "output_type": "stream",
     "text": [
      " Volume in drive C is Windows\n",
      " Volume Serial Number is 6406-1D0E\n",
      "\n",
      " Directory of C:\\Users\\Shubham\n",
      "\n",
      "18-06-2022  16:39    <DIR>          .\n",
      "18-06-2022  16:39    <DIR>          ..\n",
      "26-05-2021  21:14    <DIR>          .android\n",
      "24-03-2022  08:17    <DIR>          .idlerc\n",
      "13-06-2022  21:29    <DIR>          .ipynb_checkpoints\n",
      "28-05-2022  06:44    <DIR>          .ipython\n",
      "05-06-2022  19:28    <DIR>          .jupyter\n",
      "18-11-2021  22:06    <DIR>          3D Objects\n",
      "03-06-2022  18:11            28,037 abc.pdf\n",
      "28-05-2022  06:37    <DIR>          anaconda3\n",
      "13-01-2022  14:52    <DIR>          Contacts\n",
      "18-06-2022  13:41    <DIR>          Desktop\n",
      "06-06-2022  14:30    <DIR>          Documents\n",
      "18-06-2022  12:47    <DIR>          Downloads\n",
      "17-06-2022  06:28            31,818 Exception handelling by sudhanshu sir.ipynb\n",
      "17-06-2022  11:28    <DIR>          Exercises by sudhanshu sir\n",
      "18-01-2022  02:04    <DIR>          Favorites\n",
      "01-06-2022  19:39            23,573 FOR LOOP Practice 1.06.2022.ipynb\n",
      "05-06-2022  16:45            22,026 functions 5.6.2022.ipynb\n",
      "18-01-2022  02:04    <DIR>          Links\n",
      "28-05-2022  17:28            16,844 List for loop 28.05.2022.ipynb\n",
      "29-05-2022  14:30            60,812 list,set,tuple, dict 29.05.ipynb\n",
      "03-06-2022  18:18            45,729 MergedPDF.pdf\n",
      "18-01-2022  02:04    <DIR>          Music\n",
      "30-05-2022  12:22    <DIR>          OneDrive\n",
      "08-05-2022  07:40    <DIR>          Pictures\n",
      "03-06-2022  18:11            27,095 pqr.pdf\n",
      "09-06-2022  18:17            39,854 practise 4.6.22.ipynb\n",
      "28-04-2022  23:15    <DIR>          PycharmProjects\n",
      "18-01-2022  02:04    <DIR>          Saved Games\n",
      "13-01-2022  14:52    <DIR>          Searches\n",
      "29-05-2022  08:58            35,394 String 29.05.2022.ipynb\n",
      "18-06-2022  16:40                36 sudh1.txt\n",
      "04-06-2022  08:11           469,866 test.mp4\n",
      "13-06-2022  22:37                 0 test.txt\n",
      "16-06-2022  19:22                 0 test1.txt\n",
      "13-06-2022  16:35    <DIR>          Tracing\n",
      "18-06-2022  16:39            25,806 Untitled.ipynb\n",
      "18-01-2022  02:04    <DIR>          Videos\n",
      "02-06-2022  16:55            26,847 while loop and functions basic 29.05.2022.ipynb\n",
      "              16 File(s)        853,737 bytes\n",
      "              24 Dir(s)  138,438,074,368 bytes free\n"
     ]
    }
   ],
   "source": [
    "ls"
   ]
  },
  {
   "cell_type": "code",
   "execution_count": 110,
   "id": "fce3d17a",
   "metadata": {},
   "outputs": [],
   "source": [
    "f1 = open(\"test12.txt\", \"w\")"
   ]
  },
  {
   "cell_type": "code",
   "execution_count": 111,
   "id": "843dac1d",
   "metadata": {},
   "outputs": [
    {
     "data": {
      "text/plain": [
       "54"
      ]
     },
     "execution_count": 111,
     "metadata": {},
     "output_type": "execute_result"
    }
   ],
   "source": [
    "f1.write(\"this is na file operation ia ma doing in my FSDS class\")"
   ]
  },
  {
   "cell_type": "code",
   "execution_count": 113,
   "id": "85cf8220",
   "metadata": {},
   "outputs": [],
   "source": [
    "f1.close()"
   ]
  },
  {
   "cell_type": "code",
   "execution_count": 114,
   "id": "f5cf0190",
   "metadata": {},
   "outputs": [],
   "source": [
    "l = [1,2,3,4,5,6,7,788,9,90]"
   ]
  },
  {
   "cell_type": "code",
   "execution_count": 123,
   "id": "f824731c",
   "metadata": {},
   "outputs": [],
   "source": [
    "f2 = open(\"test1234.txt\",\"w\")"
   ]
  },
  {
   "cell_type": "code",
   "execution_count": 124,
   "id": "1d71a496",
   "metadata": {},
   "outputs": [
    {
     "ename": "TypeError",
     "evalue": "write() argument must be str, not list",
     "output_type": "error",
     "traceback": [
      "\u001b[1;31m---------------------------------------------------------------------------\u001b[0m",
      "\u001b[1;31mTypeError\u001b[0m                                 Traceback (most recent call last)",
      "Input \u001b[1;32mIn [124]\u001b[0m, in \u001b[0;36m<cell line: 1>\u001b[1;34m()\u001b[0m\n\u001b[1;32m----> 1\u001b[0m \u001b[43mf2\u001b[49m\u001b[38;5;241;43m.\u001b[39;49m\u001b[43mwrite\u001b[49m\u001b[43m(\u001b[49m\u001b[43ml\u001b[49m\u001b[43m)\u001b[49m\n",
      "\u001b[1;31mTypeError\u001b[0m: write() argument must be str, not list"
     ]
    }
   ],
   "source": [
    "f2.write(l)"
   ]
  },
  {
   "cell_type": "code",
   "execution_count": 125,
   "id": "f4e83cce",
   "metadata": {},
   "outputs": [
    {
     "data": {
      "text/plain": [
       "33"
      ]
     },
     "execution_count": 125,
     "metadata": {},
     "output_type": "execute_result"
    }
   ],
   "source": [
    "f2.write(str(l)) # data will only be visible after closing that file"
   ]
  },
  {
   "cell_type": "code",
   "execution_count": 126,
   "id": "3792eded",
   "metadata": {},
   "outputs": [],
   "source": [
    "f2.close()"
   ]
  },
  {
   "cell_type": "code",
   "execution_count": 127,
   "id": "0c014b5b",
   "metadata": {},
   "outputs": [],
   "source": [
    "f3 = open(\"tst.sudh\", \"w\")\n",
    "f3.write(\"asdsad sd asd asd sa da sd sad\")\n",
    "f3.close()"
   ]
  },
  {
   "cell_type": "code",
   "execution_count": 134,
   "id": "0826d062",
   "metadata": {},
   "outputs": [
    {
     "name": "stdout",
     "output_type": "stream",
     "text": [
      "Overwriting test5.txt\n"
     ]
    }
   ],
   "source": [
    "%%writefile test5.txt\n",
    "this is my pythojn progran to write file in different way\n",
    "this is my pythojn progran to write file in different way\n",
    "this is my pythojn progran to write file in different way\n",
    "this is my pythojn progran to write file in different way\n",
    "this is my pythojn progran to write file in different way\n",
    "this is my pythojn progran to write file in different way\n",
    "this is my pythojn progran to write file in different way"
   ]
  },
  {
   "cell_type": "code",
   "execution_count": 135,
   "id": "bded5f0f",
   "metadata": {},
   "outputs": [],
   "source": [
    "f = open(\"test12.txt\")"
   ]
  },
  {
   "cell_type": "code",
   "execution_count": 136,
   "id": "619445e6",
   "metadata": {},
   "outputs": [
    {
     "data": {
      "text/plain": [
       "'this is na file operation ia ma doing in my FSDS class'"
      ]
     },
     "execution_count": 136,
     "metadata": {},
     "output_type": "execute_result"
    }
   ],
   "source": [
    "f.read()"
   ]
  },
  {
   "cell_type": "code",
   "execution_count": 137,
   "id": "6f6c824f",
   "metadata": {},
   "outputs": [],
   "source": [
    "f.close()"
   ]
  },
  {
   "cell_type": "code",
   "execution_count": 138,
   "id": "99da5113",
   "metadata": {},
   "outputs": [],
   "source": [
    "f = open(\"test5.txt\")"
   ]
  },
  {
   "cell_type": "code",
   "execution_count": 139,
   "id": "d7932b69",
   "metadata": {},
   "outputs": [
    {
     "data": {
      "text/plain": [
       "'this is my pythojn progran to write file in different way\\nthis is my pythojn progran to write file in different way\\nthis is my pythojn progran to write file in different way\\nthis is my pythojn progran to write file in different way\\nthis is my pythojn progran to write file in different way\\nthis is my pythojn progran to write file in different way\\nthis is my pythojn progran to write file in different way\\n'"
      ]
     },
     "execution_count": 139,
     "metadata": {},
     "output_type": "execute_result"
    }
   ],
   "source": [
    "f.read()"
   ]
  },
  {
   "cell_type": "code",
   "execution_count": 142,
   "id": "56dc82c9",
   "metadata": {},
   "outputs": [
    {
     "data": {
      "text/plain": [
       "''"
      ]
     },
     "execution_count": 142,
     "metadata": {},
     "output_type": "execute_result"
    }
   ],
   "source": [
    "f.read() # here the pointer/ index is available at end of string"
   ]
  },
  {
   "cell_type": "code",
   "execution_count": 144,
   "id": "e42c34b8",
   "metadata": {},
   "outputs": [
    {
     "data": {
      "text/plain": [
       "0"
      ]
     },
     "execution_count": 144,
     "metadata": {},
     "output_type": "execute_result"
    }
   ],
   "source": [
    "f.seek(0) # cursor is at zeroth index"
   ]
  },
  {
   "cell_type": "code",
   "execution_count": 145,
   "id": "3de85145",
   "metadata": {},
   "outputs": [
    {
     "data": {
      "text/plain": [
       "'this is my pythojn progran to write file in different way\\nthis is my pythojn progran to write file in different way\\nthis is my pythojn progran to write file in different way\\nthis is my pythojn progran to write file in different way\\nthis is my pythojn progran to write file in different way\\nthis is my pythojn progran to write file in different way\\nthis is my pythojn progran to write file in different way\\n'"
      ]
     },
     "execution_count": 145,
     "metadata": {},
     "output_type": "execute_result"
    }
   ],
   "source": [
    "f.read()"
   ]
  },
  {
   "cell_type": "code",
   "execution_count": 146,
   "id": "83c804df",
   "metadata": {},
   "outputs": [
    {
     "data": {
      "text/plain": [
       "''"
      ]
     },
     "execution_count": 146,
     "metadata": {},
     "output_type": "execute_result"
    }
   ],
   "source": [
    "f.read()"
   ]
  },
  {
   "cell_type": "code",
   "execution_count": 147,
   "id": "81e1a535",
   "metadata": {},
   "outputs": [
    {
     "data": {
      "text/plain": [
       "100"
      ]
     },
     "execution_count": 147,
     "metadata": {},
     "output_type": "execute_result"
    }
   ],
   "source": [
    "f.seek(100)"
   ]
  },
  {
   "cell_type": "code",
   "execution_count": 148,
   "id": "6059daf7",
   "metadata": {},
   "outputs": [
    {
     "data": {
      "text/plain": [
       "'in different way\\nthis is my pythojn progran to write file in different way\\nthis is my pythojn progran to write file in different way\\nthis is my pythojn progran to write file in different way\\nthis is my pythojn progran to write file in different way\\nthis is my pythojn progran to write file in different way\\n'"
      ]
     },
     "execution_count": 148,
     "metadata": {},
     "output_type": "execute_result"
    }
   ],
   "source": [
    "f.read()"
   ]
  },
  {
   "cell_type": "code",
   "execution_count": 149,
   "id": "c2fce868",
   "metadata": {},
   "outputs": [
    {
     "data": {
      "text/plain": [
       "4"
      ]
     },
     "execution_count": 149,
     "metadata": {},
     "output_type": "execute_result"
    }
   ],
   "source": [
    "f.seek(4)"
   ]
  },
  {
   "cell_type": "code",
   "execution_count": 150,
   "id": "c98e31ec",
   "metadata": {},
   "outputs": [
    {
     "data": {
      "text/plain": [
       "' is my pythojn progran to write file in different way\\nthis is my pythojn progran to write file in different way\\nthis is my pythojn progran to write file in different way\\nthis is my pythojn progran to write file in different way\\nthis is my pythojn progran to write file in different way\\nthis is my pythojn progran to write file in different way\\nthis is my pythojn progran to write file in different way\\n'"
      ]
     },
     "execution_count": 150,
     "metadata": {},
     "output_type": "execute_result"
    }
   ],
   "source": [
    "f.read()"
   ]
  },
  {
   "cell_type": "code",
   "execution_count": 159,
   "id": "db76ad48",
   "metadata": {},
   "outputs": [],
   "source": [
    "f.close()"
   ]
  },
  {
   "cell_type": "code",
   "execution_count": 151,
   "id": "7aaee8c4",
   "metadata": {},
   "outputs": [],
   "source": [
    "f1= open(\"test5.txt\")"
   ]
  },
  {
   "cell_type": "code",
   "execution_count": 152,
   "id": "772e9863",
   "metadata": {},
   "outputs": [
    {
     "data": {
      "text/plain": [
       "0"
      ]
     },
     "execution_count": 152,
     "metadata": {},
     "output_type": "execute_result"
    }
   ],
   "source": [
    "f1.tell()"
   ]
  },
  {
   "cell_type": "code",
   "execution_count": 153,
   "id": "395613da",
   "metadata": {},
   "outputs": [
    {
     "data": {
      "text/plain": [
       "'this is my pythojn progran to write file in different way\\nthis is my pythojn progran to write file in different way\\nthis is my pythojn progran to write file in different way\\nthis is my pythojn progran to write file in different way\\nthis is my pythojn progran to write file in different way\\nthis is my pythojn progran to write file in different way\\nthis is my pythojn progran to write file in different way\\n'"
      ]
     },
     "execution_count": 153,
     "metadata": {},
     "output_type": "execute_result"
    }
   ],
   "source": [
    "f1.read()"
   ]
  },
  {
   "cell_type": "code",
   "execution_count": 154,
   "id": "059f5043",
   "metadata": {},
   "outputs": [
    {
     "data": {
      "text/plain": [
       "413"
      ]
     },
     "execution_count": 154,
     "metadata": {},
     "output_type": "execute_result"
    }
   ],
   "source": [
    "f1.tell()"
   ]
  },
  {
   "cell_type": "code",
   "execution_count": 166,
   "id": "0829ed16",
   "metadata": {},
   "outputs": [
    {
     "data": {
      "text/plain": [
       "5"
      ]
     },
     "execution_count": 166,
     "metadata": {},
     "output_type": "execute_result"
    }
   ],
   "source": [
    "f1.seek(5)"
   ]
  },
  {
   "cell_type": "code",
   "execution_count": 167,
   "id": "08809ca6",
   "metadata": {},
   "outputs": [
    {
     "data": {
      "text/plain": [
       "5"
      ]
     },
     "execution_count": 167,
     "metadata": {},
     "output_type": "execute_result"
    }
   ],
   "source": [
    "f1.tell()"
   ]
  },
  {
   "cell_type": "code",
   "execution_count": 168,
   "id": "f37d19c3",
   "metadata": {},
   "outputs": [
    {
     "data": {
      "text/plain": [
       "'is my pythojn p'"
      ]
     },
     "execution_count": 168,
     "metadata": {},
     "output_type": "execute_result"
    }
   ],
   "source": [
    "f1.read(15) # index 5 to 15"
   ]
  },
  {
   "cell_type": "code",
   "execution_count": 169,
   "id": "2d31158a",
   "metadata": {},
   "outputs": [],
   "source": [
    "f1.close()"
   ]
  },
  {
   "cell_type": "code",
   "execution_count": 170,
   "id": "4d5c22d9",
   "metadata": {},
   "outputs": [],
   "source": [
    "f2 = open(\"test5.txt\")"
   ]
  },
  {
   "cell_type": "code",
   "execution_count": 171,
   "id": "b9c73f36",
   "metadata": {},
   "outputs": [
    {
     "data": {
      "text/plain": [
       "'this is my pythojn progran to write file in different way\\nthis is my pythojn progran to write file in different way\\nthis is my pythojn progran to write file in different way\\nthis is my pythojn progran to write file in different way\\nthis is my pythojn progran to write file in different way\\nthis is my pythojn progran to write file in different way\\nthis is my pythojn progran to write file in different way\\n'"
      ]
     },
     "execution_count": 171,
     "metadata": {},
     "output_type": "execute_result"
    }
   ],
   "source": [
    "f2.read()"
   ]
  },
  {
   "cell_type": "code",
   "execution_count": 176,
   "id": "80819820",
   "metadata": {},
   "outputs": [
    {
     "data": {
      "text/plain": [
       "0"
      ]
     },
     "execution_count": 176,
     "metadata": {},
     "output_type": "execute_result"
    }
   ],
   "source": [
    "f2.seek(0)"
   ]
  },
  {
   "cell_type": "code",
   "execution_count": 177,
   "id": "8c78382b",
   "metadata": {},
   "outputs": [
    {
     "data": {
      "text/plain": [
       "'this is my pythojn progran to write file in different way\\n'"
      ]
     },
     "execution_count": 177,
     "metadata": {},
     "output_type": "execute_result"
    }
   ],
   "source": [
    "f2.readline()"
   ]
  },
  {
   "cell_type": "code",
   "execution_count": 178,
   "id": "9ee92ace",
   "metadata": {},
   "outputs": [
    {
     "data": {
      "text/plain": [
       "0"
      ]
     },
     "execution_count": 178,
     "metadata": {},
     "output_type": "execute_result"
    }
   ],
   "source": [
    "f2.seek(0)"
   ]
  },
  {
   "cell_type": "code",
   "execution_count": 179,
   "id": "57c3ecf5",
   "metadata": {},
   "outputs": [
    {
     "data": {
      "text/plain": [
       "['this is my pythojn progran to write file in different way\\n',\n",
       " 'this is my pythojn progran to write file in different way\\n',\n",
       " 'this is my pythojn progran to write file in different way\\n',\n",
       " 'this is my pythojn progran to write file in different way\\n',\n",
       " 'this is my pythojn progran to write file in different way\\n',\n",
       " 'this is my pythojn progran to write file in different way\\n',\n",
       " 'this is my pythojn progran to write file in different way\\n']"
      ]
     },
     "execution_count": 179,
     "metadata": {},
     "output_type": "execute_result"
    }
   ],
   "source": [
    "f2.readlines()"
   ]
  },
  {
   "cell_type": "code",
   "execution_count": 180,
   "id": "6179ce39",
   "metadata": {},
   "outputs": [
    {
     "data": {
      "text/plain": [
       "<_io.TextIOWrapper name='test5.txt' mode='r' encoding='cp1252'>"
      ]
     },
     "execution_count": 180,
     "metadata": {},
     "output_type": "execute_result"
    }
   ],
   "source": [
    "f2"
   ]
  },
  {
   "cell_type": "code",
   "execution_count": 181,
   "id": "967e108c",
   "metadata": {},
   "outputs": [
    {
     "data": {
      "text/plain": [
       "4"
      ]
     },
     "execution_count": 181,
     "metadata": {},
     "output_type": "execute_result"
    }
   ],
   "source": [
    "f2.fileno()"
   ]
  },
  {
   "cell_type": "code",
   "execution_count": 182,
   "id": "b0b01c30",
   "metadata": {},
   "outputs": [],
   "source": [
    "f= open(\"text.txt\",\"w\")"
   ]
  },
  {
   "cell_type": "code",
   "execution_count": 183,
   "id": "802ee084",
   "metadata": {},
   "outputs": [
    {
     "data": {
      "text/plain": [
       "424"
      ]
     },
     "execution_count": 183,
     "metadata": {},
     "output_type": "execute_result"
    }
   ],
   "source": [
    "f.write(\"\"\"this is my pythojn progran to write file in different way\\n,\n",
    " this is my pythojn progran to write file in different way\\n,\n",
    " this is my pythojn progran to write file in different way\\n,\n",
    " this is my pythojn progran to write file in different way\\n,\n",
    " this is my pythojn progran to write file in different way\\n,\n",
    " this is my pythojn progran to write file in different way\\n,\n",
    " this is my pythojn progran to write file in different way\\n\"\"\")"
   ]
  },
  {
   "cell_type": "code",
   "execution_count": 184,
   "id": "8ab01ac5",
   "metadata": {},
   "outputs": [],
   "source": [
    "f.close()"
   ]
  },
  {
   "cell_type": "code",
   "execution_count": 187,
   "id": "d6efc4c5",
   "metadata": {},
   "outputs": [],
   "source": [
    "f = open(\"text.txt\",\"w\")"
   ]
  },
  {
   "cell_type": "code",
   "execution_count": 188,
   "id": "0ecdb5bb",
   "metadata": {},
   "outputs": [
    {
     "data": {
      "text/plain": [
       "32"
      ]
     },
     "execution_count": 188,
     "metadata": {},
     "output_type": "execute_result"
    }
   ],
   "source": [
    "f.write(\"asfdas  asfasfas asfasfas asfasf\")"
   ]
  },
  {
   "cell_type": "code",
   "execution_count": 190,
   "id": "6c084236",
   "metadata": {},
   "outputs": [],
   "source": [
    "f.close()"
   ]
  },
  {
   "cell_type": "code",
   "execution_count": 195,
   "id": "4f8c4dab",
   "metadata": {},
   "outputs": [],
   "source": [
    "f = open(\"text.txt\",\"a\") # a is append"
   ]
  },
  {
   "cell_type": "code",
   "execution_count": 196,
   "id": "5bca17a7",
   "metadata": {},
   "outputs": [
    {
     "data": {
      "text/plain": [
       "24"
      ]
     },
     "execution_count": 196,
     "metadata": {},
     "output_type": "execute_result"
    }
   ],
   "source": [
    "f.write(\"this is my new data set \")"
   ]
  },
  {
   "cell_type": "code",
   "execution_count": 197,
   "id": "746ba4b1",
   "metadata": {},
   "outputs": [],
   "source": [
    "f.close()"
   ]
  },
  {
   "cell_type": "code",
   "execution_count": 198,
   "id": "ee51d231",
   "metadata": {},
   "outputs": [
    {
     "data": {
      "text/plain": [
       "'text.txt'"
      ]
     },
     "execution_count": 198,
     "metadata": {},
     "output_type": "execute_result"
    }
   ],
   "source": [
    "f.name"
   ]
  },
  {
   "cell_type": "code",
   "execution_count": 199,
   "id": "4b2e5d9a",
   "metadata": {},
   "outputs": [
    {
     "data": {
      "text/plain": [
       "True"
      ]
     },
     "execution_count": 199,
     "metadata": {},
     "output_type": "execute_result"
    }
   ],
   "source": [
    "f.closed"
   ]
  },
  {
   "cell_type": "code",
   "execution_count": 200,
   "id": "b4543fda",
   "metadata": {},
   "outputs": [
    {
     "data": {
      "text/plain": [
       "'a'"
      ]
     },
     "execution_count": 200,
     "metadata": {},
     "output_type": "execute_result"
    }
   ],
   "source": [
    "f.mode"
   ]
  },
  {
   "cell_type": "code",
   "execution_count": 202,
   "id": "c984587b",
   "metadata": {},
   "outputs": [],
   "source": [
    "f = open(\"d:/tsst.txt\",\"w\")"
   ]
  },
  {
   "cell_type": "code",
   "execution_count": 203,
   "id": "30d48860",
   "metadata": {},
   "outputs": [],
   "source": [
    "f.close()"
   ]
  },
  {
   "cell_type": "code",
   "execution_count": 201,
   "id": "efc6877e",
   "metadata": {},
   "outputs": [],
   "source": [
    "# map, reduce and filter function"
   ]
  },
  {
   "cell_type": "code",
   "execution_count": 204,
   "id": "ae01127e",
   "metadata": {},
   "outputs": [],
   "source": [
    "l =[2,3,4,5,6,7]"
   ]
  },
  {
   "cell_type": "code",
   "execution_count": 208,
   "id": "8679ecab",
   "metadata": {},
   "outputs": [
    {
     "name": "stdout",
     "output_type": "stream",
     "text": [
      "[4, 9, 16, 25, 36, 49]\n"
     ]
    }
   ],
   "source": [
    "l1= []\n",
    "for i in l:\n",
    "    l1.append(i**2)\n",
    "print(l1)"
   ]
  },
  {
   "cell_type": "code",
   "execution_count": 205,
   "id": "5f2a2f09",
   "metadata": {},
   "outputs": [],
   "source": [
    "z = list(map(lambda x: x**2 ,l))"
   ]
  },
  {
   "cell_type": "code",
   "execution_count": 206,
   "id": "03cdf8e8",
   "metadata": {},
   "outputs": [
    {
     "data": {
      "text/plain": [
       "[4, 9, 16, 25, 36, 49]"
      ]
     },
     "execution_count": 206,
     "metadata": {},
     "output_type": "execute_result"
    }
   ],
   "source": [
    "z"
   ]
  },
  {
   "cell_type": "code",
   "execution_count": 209,
   "id": "083539a1",
   "metadata": {},
   "outputs": [],
   "source": [
    "def sq(n):\n",
    "    return(n**2)"
   ]
  },
  {
   "cell_type": "code",
   "execution_count": 214,
   "id": "9f02c691",
   "metadata": {},
   "outputs": [
    {
     "data": {
      "text/plain": [
       "<map at 0x240713d85e0>"
      ]
     },
     "execution_count": 214,
     "metadata": {},
     "output_type": "execute_result"
    }
   ],
   "source": [
    "map(sq,l) # map Generator object"
   ]
  },
  {
   "cell_type": "code",
   "execution_count": 211,
   "id": "51d2ae89",
   "metadata": {},
   "outputs": [
    {
     "data": {
      "text/plain": [
       "[4, 9, 16, 25, 36, 49]"
      ]
     },
     "execution_count": 211,
     "metadata": {},
     "output_type": "execute_result"
    }
   ],
   "source": [
    "list(map(sq,l))"
   ]
  },
  {
   "cell_type": "code",
   "execution_count": 215,
   "id": "7ede1075",
   "metadata": {},
   "outputs": [
    {
     "data": {
      "text/plain": [
       "<map at 0x2406feaba90>"
      ]
     },
     "execution_count": 215,
     "metadata": {},
     "output_type": "execute_result"
    }
   ],
   "source": [
    "map(lambda x : x**2 , l)"
   ]
  },
  {
   "cell_type": "code",
   "execution_count": 216,
   "id": "acb54546",
   "metadata": {},
   "outputs": [
    {
     "data": {
      "text/plain": [
       "[4, 9, 16, 25, 36, 49]"
      ]
     },
     "execution_count": 216,
     "metadata": {},
     "output_type": "execute_result"
    }
   ],
   "source": [
    "list(map(lambda x : x**2 , l))# map wont work with 2 arguments"
   ]
  },
  {
   "cell_type": "code",
   "execution_count": 217,
   "id": "98c53dbf",
   "metadata": {},
   "outputs": [
    {
     "data": {
      "text/plain": [
       "['2', '3', '4', '5', '6', '7']"
      ]
     },
     "execution_count": 217,
     "metadata": {},
     "output_type": "execute_result"
    }
   ],
   "source": [
    "list(map(lambda x : str(x) , l))"
   ]
  },
  {
   "cell_type": "code",
   "execution_count": 218,
   "id": "014ac432",
   "metadata": {},
   "outputs": [],
   "source": [
    "def str_convert(n):\n",
    "    return str(n)"
   ]
  },
  {
   "cell_type": "code",
   "execution_count": 222,
   "id": "965dd31e",
   "metadata": {},
   "outputs": [
    {
     "data": {
      "text/plain": [
       "['2', '3', '4', '5', '6', '7']"
      ]
     },
     "execution_count": 222,
     "metadata": {},
     "output_type": "execute_result"
    }
   ],
   "source": [
    "list(map(str_convert , l))"
   ]
  },
  {
   "cell_type": "code",
   "execution_count": 229,
   "id": "9a1b692c",
   "metadata": {},
   "outputs": [],
   "source": [
    "#reduce"
   ]
  },
  {
   "cell_type": "code",
   "execution_count": 223,
   "id": "775bad77",
   "metadata": {},
   "outputs": [],
   "source": [
    "from functools import reduce"
   ]
  },
  {
   "cell_type": "code",
   "execution_count": 224,
   "id": "8b6e9fb1",
   "metadata": {},
   "outputs": [],
   "source": [
    "l = [3,4,5,6,7,8,9]"
   ]
  },
  {
   "cell_type": "code",
   "execution_count": 225,
   "id": "655715cb",
   "metadata": {},
   "outputs": [
    {
     "data": {
      "text/plain": [
       "42"
      ]
     },
     "execution_count": 225,
     "metadata": {},
     "output_type": "execute_result"
    }
   ],
   "source": [
    "sum(l)"
   ]
  },
  {
   "cell_type": "code",
   "execution_count": 227,
   "id": "229cf4fd",
   "metadata": {},
   "outputs": [
    {
     "data": {
      "text/plain": [
       "42"
      ]
     },
     "execution_count": 227,
     "metadata": {},
     "output_type": "execute_result"
    }
   ],
   "source": [
    "reduce(lambda a , b : a+b , l)"
   ]
  },
  {
   "cell_type": "code",
   "execution_count": 228,
   "id": "703b082c",
   "metadata": {},
   "outputs": [
    {
     "data": {
      "text/plain": [
       "181440"
      ]
     },
     "execution_count": 228,
     "metadata": {},
     "output_type": "execute_result"
    }
   ],
   "source": [
    "reduce(lambda a , b : a*b , l)"
   ]
  },
  {
   "cell_type": "code",
   "execution_count": 230,
   "id": "090a7369",
   "metadata": {},
   "outputs": [
    {
     "ename": "TypeError",
     "evalue": "<lambda>() missing 1 required positional argument: 'c'",
     "output_type": "error",
     "traceback": [
      "\u001b[1;31m---------------------------------------------------------------------------\u001b[0m",
      "\u001b[1;31mTypeError\u001b[0m                                 Traceback (most recent call last)",
      "Input \u001b[1;32mIn [230]\u001b[0m, in \u001b[0;36m<cell line: 1>\u001b[1;34m()\u001b[0m\n\u001b[1;32m----> 1\u001b[0m \u001b[43mreduce\u001b[49m\u001b[43m(\u001b[49m\u001b[38;5;28;43;01mlambda\u001b[39;49;00m\u001b[43m \u001b[49m\u001b[43ma\u001b[49m\u001b[43m \u001b[49m\u001b[43m,\u001b[49m\u001b[43m \u001b[49m\u001b[43mb\u001b[49m\u001b[43m \u001b[49m\u001b[43m,\u001b[49m\u001b[43mc\u001b[49m\u001b[43m \u001b[49m\u001b[43m:\u001b[49m\u001b[43m \u001b[49m\u001b[43ma\u001b[49m\u001b[38;5;241;43m*\u001b[39;49m\u001b[43mb\u001b[49m\u001b[38;5;241;43m*\u001b[39;49m\u001b[43mc\u001b[49m\u001b[43m \u001b[49m\u001b[43m,\u001b[49m\u001b[43m \u001b[49m\u001b[43ml\u001b[49m\u001b[43m)\u001b[49m\n",
      "\u001b[1;31mTypeError\u001b[0m: <lambda>() missing 1 required positional argument: 'c'"
     ]
    }
   ],
   "source": [
    "reduce(lambda a , b ,c : a*b*c , l) # will not work with three argument"
   ]
  },
  {
   "cell_type": "code",
   "execution_count": 231,
   "id": "caa471de",
   "metadata": {},
   "outputs": [],
   "source": [
    "l1 = [3]"
   ]
  },
  {
   "cell_type": "code",
   "execution_count": 234,
   "id": "b76dfadb",
   "metadata": {},
   "outputs": [
    {
     "data": {
      "text/plain": [
       "3"
      ]
     },
     "execution_count": 234,
     "metadata": {},
     "output_type": "execute_result"
    }
   ],
   "source": [
    "reduce(lambda a , b : a+b , l1) # exception of reduce function"
   ]
  },
  {
   "cell_type": "code",
   "execution_count": 235,
   "id": "d77e4488",
   "metadata": {},
   "outputs": [],
   "source": [
    "#filter,........ function return should be True for filter to work"
   ]
  },
  {
   "cell_type": "code",
   "execution_count": 238,
   "id": "8deb435f",
   "metadata": {},
   "outputs": [],
   "source": [
    "l = [1,2,3,4,5]"
   ]
  },
  {
   "cell_type": "code",
   "execution_count": 249,
   "id": "6457499d",
   "metadata": {},
   "outputs": [
    {
     "name": "stdout",
     "output_type": "stream",
     "text": [
      "2\n",
      "4\n"
     ]
    }
   ],
   "source": [
    "for i in l:\n",
    "    if i%2 == 0:\n",
    "        print(i)"
   ]
  },
  {
   "cell_type": "code",
   "execution_count": 240,
   "id": "023367aa",
   "metadata": {},
   "outputs": [
    {
     "data": {
      "text/plain": [
       "<filter at 0x24071375e20>"
      ]
     },
     "execution_count": 240,
     "metadata": {},
     "output_type": "execute_result"
    }
   ],
   "source": [
    "filter(lambda x : x % 2 , l)"
   ]
  },
  {
   "cell_type": "code",
   "execution_count": 242,
   "id": "3e6c49e6",
   "metadata": {},
   "outputs": [
    {
     "data": {
      "text/plain": [
       "[2, 4]"
      ]
     },
     "execution_count": 242,
     "metadata": {},
     "output_type": "execute_result"
    }
   ],
   "source": [
    "list(filter(lambda x : x % 2 == 0 , l))"
   ]
  },
  {
   "cell_type": "code",
   "execution_count": 250,
   "id": "aaa6a13f",
   "metadata": {},
   "outputs": [],
   "source": [
    "def check_evn(n):\n",
    "    if n%2 == 0:\n",
    "        return True"
   ]
  },
  {
   "cell_type": "code",
   "execution_count": 251,
   "id": "386923ef",
   "metadata": {},
   "outputs": [
    {
     "data": {
      "text/plain": [
       "[2, 4]"
      ]
     },
     "execution_count": 251,
     "metadata": {},
     "output_type": "execute_result"
    }
   ],
   "source": [
    "list(filter(check_evn, l))"
   ]
  },
  {
   "cell_type": "code",
   "execution_count": null,
   "id": "667d34f7",
   "metadata": {},
   "outputs": [],
   "source": []
  }
 ],
 "metadata": {
  "kernelspec": {
   "display_name": "Python 3 (ipykernel)",
   "language": "python",
   "name": "python3"
  },
  "language_info": {
   "codemirror_mode": {
    "name": "ipython",
    "version": 3
   },
   "file_extension": ".py",
   "mimetype": "text/x-python",
   "name": "python",
   "nbconvert_exporter": "python",
   "pygments_lexer": "ipython3",
   "version": "3.9.12"
  }
 },
 "nbformat": 4,
 "nbformat_minor": 5
}
