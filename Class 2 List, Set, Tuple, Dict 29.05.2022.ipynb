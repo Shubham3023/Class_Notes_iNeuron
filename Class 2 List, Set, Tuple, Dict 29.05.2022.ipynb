{
 "cells": [
  {
   "cell_type": "code",
   "execution_count": 5,
   "id": "9e153193",
   "metadata": {},
   "outputs": [],
   "source": [
    "l=[1,2,3,4,5,\"sudh\",45.67,True]"
   ]
  },
  {
   "cell_type": "code",
   "execution_count": 6,
   "id": "0f29f1fa",
   "metadata": {},
   "outputs": [
    {
     "data": {
      "text/plain": [
       "1"
      ]
     },
     "execution_count": 6,
     "metadata": {},
     "output_type": "execute_result"
    }
   ],
   "source": [
    "l[0]"
   ]
  },
  {
   "cell_type": "code",
   "execution_count": 7,
   "id": "05c19b1f",
   "metadata": {},
   "outputs": [
    {
     "data": {
      "text/plain": [
       "True"
      ]
     },
     "execution_count": 7,
     "metadata": {},
     "output_type": "execute_result"
    }
   ],
   "source": [
    "l[-1]"
   ]
  },
  {
   "cell_type": "code",
   "execution_count": 8,
   "id": "e859fdaa",
   "metadata": {},
   "outputs": [
    {
     "data": {
      "text/plain": [
       "8"
      ]
     },
     "execution_count": 8,
     "metadata": {},
     "output_type": "execute_result"
    }
   ],
   "source": [
    "len(l)"
   ]
  },
  {
   "cell_type": "code",
   "execution_count": 9,
   "id": "14eb86ea",
   "metadata": {},
   "outputs": [
    {
     "data": {
      "text/plain": [
       "[1, 2, 3, 4, 5]"
      ]
     },
     "execution_count": 9,
     "metadata": {},
     "output_type": "execute_result"
    }
   ],
   "source": [
    "l[0:5]"
   ]
  },
  {
   "cell_type": "code",
   "execution_count": 10,
   "id": "fb3f714f",
   "metadata": {},
   "outputs": [
    {
     "data": {
      "text/plain": [
       "[True, 45.67, 'sudh', 5, 4, 3, 2, 1]"
      ]
     },
     "execution_count": 10,
     "metadata": {},
     "output_type": "execute_result"
    }
   ],
   "source": [
    "l[::-1]"
   ]
  },
  {
   "cell_type": "code",
   "execution_count": 12,
   "id": "97c53da1",
   "metadata": {},
   "outputs": [
    {
     "data": {
      "text/plain": [
       "[1, 2, 3, 4, 5, 'sudh', 45.67, True]"
      ]
     },
     "execution_count": 12,
     "metadata": {},
     "output_type": "execute_result"
    }
   ],
   "source": [
    "l[0:100]"
   ]
  },
  {
   "cell_type": "code",
   "execution_count": 14,
   "id": "643b8303",
   "metadata": {},
   "outputs": [
    {
     "data": {
      "text/plain": [
       "[1, 3, 5, 45.67]"
      ]
     },
     "execution_count": 14,
     "metadata": {},
     "output_type": "execute_result"
    }
   ],
   "source": [
    "l[0:100:2]"
   ]
  },
  {
   "cell_type": "code",
   "execution_count": 15,
   "id": "5a3eb2a4",
   "metadata": {},
   "outputs": [
    {
     "data": {
      "text/plain": [
       "[]"
      ]
     },
     "execution_count": 15,
     "metadata": {},
     "output_type": "execute_result"
    }
   ],
   "source": [
    "l[0:8:-1]"
   ]
  },
  {
   "cell_type": "code",
   "execution_count": 16,
   "id": "9d3a552b",
   "metadata": {},
   "outputs": [
    {
     "data": {
      "text/plain": [
       "[True, 45.67, 'sudh', 5, 4, 3, 2]"
      ]
     },
     "execution_count": 16,
     "metadata": {},
     "output_type": "execute_result"
    }
   ],
   "source": [
    "l[8:0:-1]"
   ]
  },
  {
   "cell_type": "code",
   "execution_count": 17,
   "id": "4feaa016",
   "metadata": {},
   "outputs": [
    {
     "data": {
      "text/plain": [
       "[]"
      ]
     },
     "execution_count": 17,
     "metadata": {},
     "output_type": "execute_result"
    }
   ],
   "source": [
    "l[8:0:1]"
   ]
  },
  {
   "cell_type": "code",
   "execution_count": 18,
   "id": "915b3cc2",
   "metadata": {},
   "outputs": [
    {
     "data": {
      "text/plain": [
       "[1, 2, 3]"
      ]
     },
     "execution_count": 18,
     "metadata": {},
     "output_type": "execute_result"
    }
   ],
   "source": [
    "l[:3]"
   ]
  },
  {
   "cell_type": "code",
   "execution_count": 19,
   "id": "e449cb10",
   "metadata": {},
   "outputs": [
    {
     "data": {
      "text/plain": [
       "[1, 2, 3, 4, 5, 'sudh', 45.67, True]"
      ]
     },
     "execution_count": 19,
     "metadata": {},
     "output_type": "execute_result"
    }
   ],
   "source": [
    "l[0:]"
   ]
  },
  {
   "cell_type": "code",
   "execution_count": 20,
   "id": "cd6d6614",
   "metadata": {},
   "outputs": [
    {
     "ename": "TypeError",
     "evalue": "can only concatenate list (not \"str\") to list",
     "output_type": "error",
     "traceback": [
      "\u001b[1;31m---------------------------------------------------------------------------\u001b[0m",
      "\u001b[1;31mTypeError\u001b[0m                                 Traceback (most recent call last)",
      "Input \u001b[1;32mIn [20]\u001b[0m, in \u001b[0;36m<cell line: 1>\u001b[1;34m()\u001b[0m\n\u001b[1;32m----> 1\u001b[0m \u001b[43ml\u001b[49m\u001b[38;5;241;43m+\u001b[39;49m\u001b[43m \u001b[49m\u001b[38;5;124;43m\"\u001b[39;49m\u001b[38;5;124;43msudh\u001b[39;49m\u001b[38;5;124;43m\"\u001b[39;49m\n",
      "\u001b[1;31mTypeError\u001b[0m: can only concatenate list (not \"str\") to list"
     ]
    }
   ],
   "source": [
    "l+ \"sudh\""
   ]
  },
  {
   "cell_type": "code",
   "execution_count": 24,
   "id": "a3472e6f",
   "metadata": {},
   "outputs": [
    {
     "data": {
      "text/plain": [
       "[1, 2, 3, 4, 5, 'sudh', 45.67, True, 's', 'u', 'd', 'h', 'shubh']"
      ]
     },
     "execution_count": 24,
     "metadata": {},
     "output_type": "execute_result"
    }
   ],
   "source": [
    "l+ list(\"sudh\")+[\"shubh\"]"
   ]
  },
  {
   "cell_type": "code",
   "execution_count": 25,
   "id": "47cd3511",
   "metadata": {},
   "outputs": [
    {
     "data": {
      "text/plain": [
       "[1, 2, 3, 4, 5, 'sudh', 45.67, True, 1, 2, 3, 4, 5, 'sudh', 45.67, True]"
      ]
     },
     "execution_count": 25,
     "metadata": {},
     "output_type": "execute_result"
    }
   ],
   "source": [
    "l*2"
   ]
  },
  {
   "cell_type": "code",
   "execution_count": 26,
   "id": "317af07e",
   "metadata": {},
   "outputs": [
    {
     "data": {
      "text/plain": [
       "[1, 2, 3, 4, 5, 'sudh', 45.67, True]"
      ]
     },
     "execution_count": 26,
     "metadata": {},
     "output_type": "execute_result"
    }
   ],
   "source": [
    "l"
   ]
  },
  {
   "cell_type": "code",
   "execution_count": 27,
   "id": "894aead2",
   "metadata": {},
   "outputs": [
    {
     "data": {
      "text/plain": [
       "False"
      ]
     },
     "execution_count": 27,
     "metadata": {},
     "output_type": "execute_result"
    }
   ],
   "source": [
    "60 in l"
   ]
  },
  {
   "cell_type": "code",
   "execution_count": 28,
   "id": "d4ad2b17",
   "metadata": {},
   "outputs": [
    {
     "data": {
      "text/plain": [
       "True"
      ]
     },
     "execution_count": 28,
     "metadata": {},
     "output_type": "execute_result"
    }
   ],
   "source": [
    "2in l"
   ]
  },
  {
   "cell_type": "code",
   "execution_count": 29,
   "id": "bd355167",
   "metadata": {},
   "outputs": [
    {
     "data": {
      "text/plain": [
       "True"
      ]
     },
     "execution_count": 29,
     "metadata": {},
     "output_type": "execute_result"
    }
   ],
   "source": [
    "True in l"
   ]
  },
  {
   "cell_type": "code",
   "execution_count": 30,
   "id": "e9e6d270",
   "metadata": {},
   "outputs": [
    {
     "ename": "TypeError",
     "evalue": "'>' not supported between instances of 'str' and 'int'",
     "output_type": "error",
     "traceback": [
      "\u001b[1;31m---------------------------------------------------------------------------\u001b[0m",
      "\u001b[1;31mTypeError\u001b[0m                                 Traceback (most recent call last)",
      "Input \u001b[1;32mIn [30]\u001b[0m, in \u001b[0;36m<cell line: 1>\u001b[1;34m()\u001b[0m\n\u001b[1;32m----> 1\u001b[0m \u001b[38;5;28;43mmax\u001b[39;49m\u001b[43m(\u001b[49m\u001b[43ml\u001b[49m\u001b[43m)\u001b[49m\n",
      "\u001b[1;31mTypeError\u001b[0m: '>' not supported between instances of 'str' and 'int'"
     ]
    }
   ],
   "source": [
    "max(l)"
   ]
  },
  {
   "cell_type": "code",
   "execution_count": 34,
   "id": "2d797b2c",
   "metadata": {},
   "outputs": [],
   "source": [
    "l1=[1,1,-111,2,3,44,55,66,77,8888]"
   ]
  },
  {
   "cell_type": "code",
   "execution_count": 35,
   "id": "e27ec51b",
   "metadata": {},
   "outputs": [
    {
     "data": {
      "text/plain": [
       "8888"
      ]
     },
     "execution_count": 35,
     "metadata": {},
     "output_type": "execute_result"
    }
   ],
   "source": [
    "max(l1)"
   ]
  },
  {
   "cell_type": "code",
   "execution_count": 36,
   "id": "758143c3",
   "metadata": {},
   "outputs": [
    {
     "data": {
      "text/plain": [
       "-111"
      ]
     },
     "execution_count": 36,
     "metadata": {},
     "output_type": "execute_result"
    }
   ],
   "source": [
    "min(l1)"
   ]
  },
  {
   "cell_type": "code",
   "execution_count": 38,
   "id": "694a86d6",
   "metadata": {},
   "outputs": [],
   "source": [
    "l2=[\"sudh\",\"ineuron\",\"kumar\"]"
   ]
  },
  {
   "cell_type": "code",
   "execution_count": 39,
   "id": "6304c85b",
   "metadata": {},
   "outputs": [
    {
     "data": {
      "text/plain": [
       "'sudh'"
      ]
     },
     "execution_count": 39,
     "metadata": {},
     "output_type": "execute_result"
    }
   ],
   "source": [
    "max(l2)"
   ]
  },
  {
   "cell_type": "code",
   "execution_count": 40,
   "id": "8bb4a925",
   "metadata": {},
   "outputs": [
    {
     "data": {
      "text/plain": [
       "'ineuron'"
      ]
     },
     "execution_count": 40,
     "metadata": {},
     "output_type": "execute_result"
    }
   ],
   "source": [
    "min(l2)"
   ]
  },
  {
   "cell_type": "code",
   "execution_count": 41,
   "id": "7bd0198a",
   "metadata": {},
   "outputs": [
    {
     "data": {
      "text/plain": [
       "[1, 2, 3, 4, 5, 'sudh', 45.67, True]"
      ]
     },
     "execution_count": 41,
     "metadata": {},
     "output_type": "execute_result"
    }
   ],
   "source": [
    "l"
   ]
  },
  {
   "cell_type": "code",
   "execution_count": 42,
   "id": "a3b22912",
   "metadata": {},
   "outputs": [],
   "source": [
    "l.append(\"maybe\")"
   ]
  },
  {
   "cell_type": "code",
   "execution_count": 43,
   "id": "b224413b",
   "metadata": {},
   "outputs": [
    {
     "data": {
      "text/plain": [
       "[1, 2, 3, 4, 5, 'sudh', 45.67, True, 'maybe']"
      ]
     },
     "execution_count": 43,
     "metadata": {},
     "output_type": "execute_result"
    }
   ],
   "source": [
    "l\n"
   ]
  },
  {
   "cell_type": "code",
   "execution_count": 44,
   "id": "26ae7330",
   "metadata": {},
   "outputs": [],
   "source": [
    "l.append([1,33,44,55])"
   ]
  },
  {
   "cell_type": "code",
   "execution_count": 45,
   "id": "cb7c9595",
   "metadata": {},
   "outputs": [
    {
     "data": {
      "text/plain": [
       "[1, 2, 3, 4, 5, 'sudh', 45.67, True, 'maybe', [1, 33, 44, 55]]"
      ]
     },
     "execution_count": 45,
     "metadata": {},
     "output_type": "execute_result"
    }
   ],
   "source": [
    "l\n"
   ]
  },
  {
   "cell_type": "code",
   "execution_count": 46,
   "id": "e7e7aa45",
   "metadata": {},
   "outputs": [
    {
     "data": {
      "text/plain": [
       "1"
      ]
     },
     "execution_count": 46,
     "metadata": {},
     "output_type": "execute_result"
    }
   ],
   "source": [
    "l.pop(0)"
   ]
  },
  {
   "cell_type": "code",
   "execution_count": 47,
   "id": "e0ac9034",
   "metadata": {},
   "outputs": [
    {
     "data": {
      "text/plain": [
       "[2, 3, 4, 5, 'sudh', 45.67, True, 'maybe', [1, 33, 44, 55]]"
      ]
     },
     "execution_count": 47,
     "metadata": {},
     "output_type": "execute_result"
    }
   ],
   "source": [
    "l"
   ]
  },
  {
   "cell_type": "code",
   "execution_count": 48,
   "id": "d069397c",
   "metadata": {},
   "outputs": [
    {
     "data": {
      "text/plain": [
       "[1, 33, 44, 55]"
      ]
     },
     "execution_count": 48,
     "metadata": {},
     "output_type": "execute_result"
    }
   ],
   "source": [
    "l.pop()"
   ]
  },
  {
   "cell_type": "raw",
   "id": "cbf54770",
   "metadata": {},
   "source": [
    "l"
   ]
  },
  {
   "cell_type": "code",
   "execution_count": 50,
   "id": "b7e36136",
   "metadata": {},
   "outputs": [],
   "source": [
    "l.reverse()"
   ]
  },
  {
   "cell_type": "code",
   "execution_count": 51,
   "id": "dbe07f22",
   "metadata": {},
   "outputs": [
    {
     "data": {
      "text/plain": [
       "['maybe', True, 45.67, 'sudh', 5, 4, 3, 2]"
      ]
     },
     "execution_count": 51,
     "metadata": {},
     "output_type": "execute_result"
    }
   ],
   "source": [
    "l"
   ]
  },
  {
   "cell_type": "code",
   "execution_count": 52,
   "id": "2959da02",
   "metadata": {},
   "outputs": [],
   "source": [
    "l.reverse()"
   ]
  },
  {
   "cell_type": "code",
   "execution_count": 53,
   "id": "8fc58bc3",
   "metadata": {},
   "outputs": [
    {
     "data": {
      "text/plain": [
       "[2, 3, 4, 5, 'sudh', 45.67, True, 'maybe']"
      ]
     },
     "execution_count": 53,
     "metadata": {},
     "output_type": "execute_result"
    }
   ],
   "source": [
    "l"
   ]
  },
  {
   "cell_type": "code",
   "execution_count": 54,
   "id": "4d17f365",
   "metadata": {},
   "outputs": [
    {
     "ename": "TypeError",
     "evalue": "'<' not supported between instances of 'str' and 'int'",
     "output_type": "error",
     "traceback": [
      "\u001b[1;31m---------------------------------------------------------------------------\u001b[0m",
      "\u001b[1;31mTypeError\u001b[0m                                 Traceback (most recent call last)",
      "Input \u001b[1;32mIn [54]\u001b[0m, in \u001b[0;36m<cell line: 1>\u001b[1;34m()\u001b[0m\n\u001b[1;32m----> 1\u001b[0m \u001b[43ml\u001b[49m\u001b[38;5;241;43m.\u001b[39;49m\u001b[43msort\u001b[49m\u001b[43m(\u001b[49m\u001b[43m)\u001b[49m\n",
      "\u001b[1;31mTypeError\u001b[0m: '<' not supported between instances of 'str' and 'int'"
     ]
    }
   ],
   "source": [
    "l.sort()"
   ]
  },
  {
   "cell_type": "code",
   "execution_count": 56,
   "id": "2364baa0",
   "metadata": {},
   "outputs": [],
   "source": [
    "l1.sort()"
   ]
  },
  {
   "cell_type": "markdown",
   "id": "7771221b",
   "metadata": {},
   "source": [
    "# "
   ]
  },
  {
   "cell_type": "code",
   "execution_count": 57,
   "id": "a6801c52",
   "metadata": {},
   "outputs": [
    {
     "data": {
      "text/plain": [
       "[-111, 1, 1, 2, 3, 44, 55, 66, 77, 8888]"
      ]
     },
     "execution_count": 57,
     "metadata": {},
     "output_type": "execute_result"
    }
   ],
   "source": [
    "l1"
   ]
  },
  {
   "cell_type": "code",
   "execution_count": 58,
   "id": "e324f0ed",
   "metadata": {},
   "outputs": [],
   "source": [
    "l2.sort()"
   ]
  },
  {
   "cell_type": "code",
   "execution_count": 59,
   "id": "35d53a8c",
   "metadata": {},
   "outputs": [
    {
     "data": {
      "text/plain": [
       "['ineuron', 'kumar', 'sudh']"
      ]
     },
     "execution_count": 59,
     "metadata": {},
     "output_type": "execute_result"
    }
   ],
   "source": [
    "l2"
   ]
  },
  {
   "cell_type": "code",
   "execution_count": 60,
   "id": "7af8db62",
   "metadata": {},
   "outputs": [],
   "source": [
    "l2.sort(reverse=True)"
   ]
  },
  {
   "cell_type": "code",
   "execution_count": 61,
   "id": "940a48ca",
   "metadata": {},
   "outputs": [
    {
     "data": {
      "text/plain": [
       "['sudh', 'kumar', 'ineuron']"
      ]
     },
     "execution_count": 61,
     "metadata": {},
     "output_type": "execute_result"
    }
   ],
   "source": [
    "l2"
   ]
  },
  {
   "cell_type": "code",
   "execution_count": 63,
   "id": "1b690490",
   "metadata": {},
   "outputs": [],
   "source": [
    "l1.sort(reverse=True)"
   ]
  },
  {
   "cell_type": "markdown",
   "id": "07f077c8",
   "metadata": {},
   "source": [
    "# "
   ]
  },
  {
   "cell_type": "code",
   "execution_count": 64,
   "id": "427880b6",
   "metadata": {},
   "outputs": [
    {
     "data": {
      "text/plain": [
       "[8888, 77, 66, 55, 44, 3, 2, 1, 1, -111]"
      ]
     },
     "execution_count": 64,
     "metadata": {},
     "output_type": "execute_result"
    }
   ],
   "source": [
    "l1"
   ]
  },
  {
   "cell_type": "code",
   "execution_count": 65,
   "id": "8aeea9f0",
   "metadata": {},
   "outputs": [],
   "source": [
    "l1=[2,3,4]\n",
    "l2=[6,7,8]\n",
    "l3=[3,2,4]"
   ]
  },
  {
   "cell_type": "code",
   "execution_count": 66,
   "id": "b87949ea",
   "metadata": {},
   "outputs": [],
   "source": [
    "l4=[l1,l2,l3]"
   ]
  },
  {
   "cell_type": "code",
   "execution_count": 67,
   "id": "66afbcda",
   "metadata": {},
   "outputs": [
    {
     "data": {
      "text/plain": [
       "[[2, 3, 4], [6, 7, 8], [3, 2, 4]]"
      ]
     },
     "execution_count": 67,
     "metadata": {},
     "output_type": "execute_result"
    }
   ],
   "source": [
    "l4"
   ]
  },
  {
   "cell_type": "code",
   "execution_count": 69,
   "id": "3b3edec6",
   "metadata": {},
   "outputs": [
    {
     "data": {
      "text/plain": [
       "2"
      ]
     },
     "execution_count": 69,
     "metadata": {},
     "output_type": "execute_result"
    }
   ],
   "source": [
    "l4[2][1]"
   ]
  },
  {
   "cell_type": "code",
   "execution_count": 70,
   "id": "261cf475",
   "metadata": {},
   "outputs": [
    {
     "data": {
      "text/plain": [
       "[2, 3, 4, 5, 'sudh', 45.67, True, 'maybe']"
      ]
     },
     "execution_count": 70,
     "metadata": {},
     "output_type": "execute_result"
    }
   ],
   "source": [
    "l\n"
   ]
  },
  {
   "cell_type": "code",
   "execution_count": 72,
   "id": "0a618c75",
   "metadata": {},
   "outputs": [
    {
     "data": {
      "text/plain": [
       "1"
      ]
     },
     "execution_count": 72,
     "metadata": {},
     "output_type": "execute_result"
    }
   ],
   "source": [
    "l.count(2)"
   ]
  },
  {
   "cell_type": "code",
   "execution_count": 74,
   "id": "32b3e2c2",
   "metadata": {},
   "outputs": [],
   "source": [
    "l5=[1,1,1,1,1,72727,4,5,5,66,3,77,8,8]"
   ]
  },
  {
   "cell_type": "code",
   "execution_count": 75,
   "id": "92d80a96",
   "metadata": {},
   "outputs": [
    {
     "data": {
      "text/plain": [
       "5"
      ]
     },
     "execution_count": 75,
     "metadata": {},
     "output_type": "execute_result"
    }
   ],
   "source": [
    "l5.count(1)"
   ]
  },
  {
   "cell_type": "code",
   "execution_count": 76,
   "id": "5c83bb74",
   "metadata": {},
   "outputs": [
    {
     "data": {
      "text/plain": [
       "[2, 3, 4, 5, 'sudh', 45.67, True, 'maybe']"
      ]
     },
     "execution_count": 76,
     "metadata": {},
     "output_type": "execute_result"
    }
   ],
   "source": [
    "l"
   ]
  },
  {
   "cell_type": "code",
   "execution_count": 77,
   "id": "8d072555",
   "metadata": {},
   "outputs": [],
   "source": [
    "l.append([4,5,\"sudh\"])"
   ]
  },
  {
   "cell_type": "code",
   "execution_count": 78,
   "id": "bebb5f50",
   "metadata": {},
   "outputs": [
    {
     "data": {
      "text/plain": [
       "[2, 3, 4, 5, 'sudh', 45.67, True, 'maybe', [4, 5, 'sudh']]"
      ]
     },
     "execution_count": 78,
     "metadata": {},
     "output_type": "execute_result"
    }
   ],
   "source": [
    "l"
   ]
  },
  {
   "cell_type": "code",
   "execution_count": 79,
   "id": "61cfb4e9",
   "metadata": {},
   "outputs": [],
   "source": [
    "l.extend(\"sudh\")"
   ]
  },
  {
   "cell_type": "code",
   "execution_count": 80,
   "id": "a4f7e48f",
   "metadata": {},
   "outputs": [
    {
     "data": {
      "text/plain": [
       "[2, 3, 4, 5, 'sudh', 45.67, True, 'maybe', [4, 5, 'sudh'], 's', 'u', 'd', 'h']"
      ]
     },
     "execution_count": 80,
     "metadata": {},
     "output_type": "execute_result"
    }
   ],
   "source": [
    "l"
   ]
  },
  {
   "cell_type": "code",
   "execution_count": 81,
   "id": "41df099f",
   "metadata": {},
   "outputs": [],
   "source": [
    "l6=[1,2,3]"
   ]
  },
  {
   "cell_type": "code",
   "execution_count": 82,
   "id": "5fa38f44",
   "metadata": {},
   "outputs": [],
   "source": [
    "l6.append([4,5,6])"
   ]
  },
  {
   "cell_type": "code",
   "execution_count": 83,
   "id": "8da39493",
   "metadata": {},
   "outputs": [
    {
     "data": {
      "text/plain": [
       "[1, 2, 3, [4, 5, 6]]"
      ]
     },
     "execution_count": 83,
     "metadata": {},
     "output_type": "execute_result"
    }
   ],
   "source": [
    "l6"
   ]
  },
  {
   "cell_type": "code",
   "execution_count": 84,
   "id": "96564ee0",
   "metadata": {},
   "outputs": [],
   "source": [
    "l6.append(\"sudh\")"
   ]
  },
  {
   "cell_type": "code",
   "execution_count": 85,
   "id": "36e1e5b1",
   "metadata": {},
   "outputs": [
    {
     "data": {
      "text/plain": [
       "[1, 2, 3, [4, 5, 6], 'sudh']"
      ]
     },
     "execution_count": 85,
     "metadata": {},
     "output_type": "execute_result"
    }
   ],
   "source": [
    "l6"
   ]
  },
  {
   "cell_type": "code",
   "execution_count": 86,
   "id": "549e9b01",
   "metadata": {},
   "outputs": [
    {
     "ename": "TypeError",
     "evalue": "'int' object is not iterable",
     "output_type": "error",
     "traceback": [
      "\u001b[1;31m---------------------------------------------------------------------------\u001b[0m",
      "\u001b[1;31mTypeError\u001b[0m                                 Traceback (most recent call last)",
      "Input \u001b[1;32mIn [86]\u001b[0m, in \u001b[0;36m<cell line: 1>\u001b[1;34m()\u001b[0m\n\u001b[1;32m----> 1\u001b[0m \u001b[43ml6\u001b[49m\u001b[38;5;241;43m.\u001b[39;49m\u001b[43mextend\u001b[49m\u001b[43m(\u001b[49m\u001b[38;5;241;43m45\u001b[39;49m\u001b[43m)\u001b[49m\n",
      "\u001b[1;31mTypeError\u001b[0m: 'int' object is not iterable"
     ]
    }
   ],
   "source": [
    "l6.extend(45)"
   ]
  },
  {
   "cell_type": "code",
   "execution_count": 87,
   "id": "f03de33c",
   "metadata": {},
   "outputs": [],
   "source": [
    "l6.extend([56,64,78])"
   ]
  },
  {
   "cell_type": "code",
   "execution_count": 88,
   "id": "5bca96bb",
   "metadata": {},
   "outputs": [
    {
     "data": {
      "text/plain": [
       "[1, 2, 3, [4, 5, 6], 'sudh', 56, 64, 78]"
      ]
     },
     "execution_count": 88,
     "metadata": {},
     "output_type": "execute_result"
    }
   ],
   "source": [
    "l6"
   ]
  },
  {
   "cell_type": "code",
   "execution_count": 89,
   "id": "1451aaff",
   "metadata": {},
   "outputs": [],
   "source": [
    "l6.extend(\"sudh\")"
   ]
  },
  {
   "cell_type": "code",
   "execution_count": 90,
   "id": "979911b4",
   "metadata": {},
   "outputs": [
    {
     "data": {
      "text/plain": [
       "[1, 2, 3, [4, 5, 6], 'sudh', 56, 64, 78, 's', 'u', 'd', 'h']"
      ]
     },
     "execution_count": 90,
     "metadata": {},
     "output_type": "execute_result"
    }
   ],
   "source": [
    "l6"
   ]
  },
  {
   "cell_type": "code",
   "execution_count": 91,
   "id": "83a9c4b6",
   "metadata": {},
   "outputs": [],
   "source": [
    "l6.extend({1:\"maybe\"})"
   ]
  },
  {
   "cell_type": "code",
   "execution_count": 92,
   "id": "8d9c49e4",
   "metadata": {},
   "outputs": [
    {
     "data": {
      "text/plain": [
       "[1, 2, 3, [4, 5, 6], 'sudh', 56, 64, 78, 's', 'u', 'd', 'h', 1]"
      ]
     },
     "execution_count": 92,
     "metadata": {},
     "output_type": "execute_result"
    }
   ],
   "source": [
    "l6\n"
   ]
  },
  {
   "cell_type": "code",
   "execution_count": 93,
   "id": "13f85f5e",
   "metadata": {},
   "outputs": [
    {
     "data": {
      "text/plain": [
       "0"
      ]
     },
     "execution_count": 93,
     "metadata": {},
     "output_type": "execute_result"
    }
   ],
   "source": [
    "l6.index(1)"
   ]
  },
  {
   "cell_type": "code",
   "execution_count": 94,
   "id": "1276e64a",
   "metadata": {},
   "outputs": [],
   "source": [
    "l7=[1,2,3,4,55,6,6,7]"
   ]
  },
  {
   "cell_type": "code",
   "execution_count": 95,
   "id": "3e877ee4",
   "metadata": {},
   "outputs": [
    {
     "data": {
      "text/plain": [
       "5"
      ]
     },
     "execution_count": 95,
     "metadata": {},
     "output_type": "execute_result"
    }
   ],
   "source": [
    "l7.index(6)"
   ]
  },
  {
   "cell_type": "code",
   "execution_count": 96,
   "id": "8a63eac0",
   "metadata": {},
   "outputs": [
    {
     "data": {
      "text/plain": [
       "True"
      ]
     },
     "execution_count": 96,
     "metadata": {},
     "output_type": "execute_result"
    }
   ],
   "source": [
    "2in l7"
   ]
  },
  {
   "cell_type": "code",
   "execution_count": 97,
   "id": "02c8936f",
   "metadata": {},
   "outputs": [],
   "source": [
    "l=[1,2,3,4,56,7]"
   ]
  },
  {
   "cell_type": "code",
   "execution_count": 98,
   "id": "5a18d2c1",
   "metadata": {},
   "outputs": [],
   "source": [
    "l.append(78)"
   ]
  },
  {
   "cell_type": "code",
   "execution_count": 99,
   "id": "7f724a2f",
   "metadata": {},
   "outputs": [
    {
     "data": {
      "text/plain": [
       "[1, 2, 3, 4, 56, 7, 78]"
      ]
     },
     "execution_count": 99,
     "metadata": {},
     "output_type": "execute_result"
    }
   ],
   "source": [
    "l"
   ]
  },
  {
   "cell_type": "code",
   "execution_count": 100,
   "id": "d47cc40f",
   "metadata": {},
   "outputs": [],
   "source": [
    "l.insert(5,\"sudh\")"
   ]
  },
  {
   "cell_type": "code",
   "execution_count": 101,
   "id": "123299f5",
   "metadata": {},
   "outputs": [
    {
     "data": {
      "text/plain": [
       "[1, 2, 3, 4, 56, 'sudh', 7, 78]"
      ]
     },
     "execution_count": 101,
     "metadata": {},
     "output_type": "execute_result"
    }
   ],
   "source": [
    "l"
   ]
  },
  {
   "cell_type": "code",
   "execution_count": 102,
   "id": "3a0de9a8",
   "metadata": {},
   "outputs": [],
   "source": [
    "l.insert(0,{\"key\":\"man\"})"
   ]
  },
  {
   "cell_type": "code",
   "execution_count": 103,
   "id": "1bed2508",
   "metadata": {},
   "outputs": [
    {
     "data": {
      "text/plain": [
       "[{'key': 'man'}, 1, 2, 3, 4, 56, 'sudh', 7, 78]"
      ]
     },
     "execution_count": 103,
     "metadata": {},
     "output_type": "execute_result"
    }
   ],
   "source": [
    "l"
   ]
  },
  {
   "cell_type": "code",
   "execution_count": 104,
   "id": "b2b2e4f3",
   "metadata": {},
   "outputs": [
    {
     "data": {
      "text/plain": [
       "{'key': 'man'}"
      ]
     },
     "execution_count": 104,
     "metadata": {},
     "output_type": "execute_result"
    }
   ],
   "source": [
    "l.pop(0)"
   ]
  },
  {
   "cell_type": "code",
   "execution_count": 105,
   "id": "09666088",
   "metadata": {},
   "outputs": [
    {
     "data": {
      "text/plain": [
       "[1, 2, 3, 4, 56, 'sudh', 7, 78]"
      ]
     },
     "execution_count": 105,
     "metadata": {},
     "output_type": "execute_result"
    }
   ],
   "source": [
    "l"
   ]
  },
  {
   "cell_type": "code",
   "execution_count": 106,
   "id": "d621e7ae",
   "metadata": {},
   "outputs": [
    {
     "ename": "ValueError",
     "evalue": "list.remove(x): x not in list",
     "output_type": "error",
     "traceback": [
      "\u001b[1;31m---------------------------------------------------------------------------\u001b[0m",
      "\u001b[1;31mValueError\u001b[0m                                Traceback (most recent call last)",
      "Input \u001b[1;32mIn [106]\u001b[0m, in \u001b[0;36m<cell line: 1>\u001b[1;34m()\u001b[0m\n\u001b[1;32m----> 1\u001b[0m \u001b[43ml\u001b[49m\u001b[38;5;241;43m.\u001b[39;49m\u001b[43mremove\u001b[49m\u001b[43m(\u001b[49m\u001b[38;5;241;43m100\u001b[39;49m\u001b[43m)\u001b[49m\n",
      "\u001b[1;31mValueError\u001b[0m: list.remove(x): x not in list"
     ]
    }
   ],
   "source": [
    "l.remove(100)"
   ]
  },
  {
   "cell_type": "code",
   "execution_count": 107,
   "id": "07fc8053",
   "metadata": {},
   "outputs": [],
   "source": [
    "l.remove(4)"
   ]
  },
  {
   "cell_type": "code",
   "execution_count": 108,
   "id": "ca7e35e6",
   "metadata": {},
   "outputs": [
    {
     "data": {
      "text/plain": [
       "[1, 2, 3, 56, 'sudh', 7, 78]"
      ]
     },
     "execution_count": 108,
     "metadata": {},
     "output_type": "execute_result"
    }
   ],
   "source": [
    "l"
   ]
  },
  {
   "cell_type": "code",
   "execution_count": 109,
   "id": "ed09633f",
   "metadata": {},
   "outputs": [],
   "source": [
    "l.remove(3)"
   ]
  },
  {
   "cell_type": "code",
   "execution_count": 110,
   "id": "a8c222a7",
   "metadata": {},
   "outputs": [
    {
     "data": {
      "text/plain": [
       "[1, 2, 56, 'sudh', 7, 78]"
      ]
     },
     "execution_count": 110,
     "metadata": {},
     "output_type": "execute_result"
    }
   ],
   "source": [
    "l"
   ]
  },
  {
   "cell_type": "code",
   "execution_count": 154,
   "id": "d76a80a7",
   "metadata": {},
   "outputs": [],
   "source": [
    "l9=[1,11,1,1,1,1,1,1,11,1,1]"
   ]
  },
  {
   "cell_type": "code",
   "execution_count": 157,
   "id": "ca081c4e",
   "metadata": {},
   "outputs": [
    {
     "name": "stdout",
     "output_type": "stream",
     "text": [
      "[11, 11, 1]\n"
     ]
    }
   ],
   "source": [
    "for i in l9:\n",
    "    if i==1:\n",
    "     l9.remove(1)\n",
    "print(l9)"
   ]
  },
  {
   "cell_type": "code",
   "execution_count": 122,
   "id": "f5f4afb9",
   "metadata": {},
   "outputs": [],
   "source": [
    "l=[1,2,3,4,5]"
   ]
  },
  {
   "cell_type": "code",
   "execution_count": 123,
   "id": "8df3714d",
   "metadata": {},
   "outputs": [
    {
     "data": {
      "text/plain": [
       "3"
      ]
     },
     "execution_count": 123,
     "metadata": {},
     "output_type": "execute_result"
    }
   ],
   "source": [
    "l[2]"
   ]
  },
  {
   "cell_type": "code",
   "execution_count": 124,
   "id": "4513eb99",
   "metadata": {},
   "outputs": [],
   "source": [
    "l[2] =\"sudh\""
   ]
  },
  {
   "cell_type": "code",
   "execution_count": 125,
   "id": "a0c5db77",
   "metadata": {},
   "outputs": [
    {
     "data": {
      "text/plain": [
       "[1, 2, 'sudh', 4, 5]"
      ]
     },
     "execution_count": 125,
     "metadata": {},
     "output_type": "execute_result"
    }
   ],
   "source": [
    "l"
   ]
  },
  {
   "cell_type": "code",
   "execution_count": 126,
   "id": "496d54ca",
   "metadata": {},
   "outputs": [],
   "source": [
    "s=\"ineuron\""
   ]
  },
  {
   "cell_type": "code",
   "execution_count": 127,
   "id": "39d2ab3a",
   "metadata": {},
   "outputs": [
    {
     "data": {
      "text/plain": [
       "'e'"
      ]
     },
     "execution_count": 127,
     "metadata": {},
     "output_type": "execute_result"
    }
   ],
   "source": [
    "s[2]"
   ]
  },
  {
   "cell_type": "code",
   "execution_count": 128,
   "id": "5e61e0d0",
   "metadata": {},
   "outputs": [
    {
     "ename": "TypeError",
     "evalue": "'str' object does not support item assignment",
     "output_type": "error",
     "traceback": [
      "\u001b[1;31m---------------------------------------------------------------------------\u001b[0m",
      "\u001b[1;31mTypeError\u001b[0m                                 Traceback (most recent call last)",
      "Input \u001b[1;32mIn [128]\u001b[0m, in \u001b[0;36m<cell line: 1>\u001b[1;34m()\u001b[0m\n\u001b[1;32m----> 1\u001b[0m s[\u001b[38;5;241m2\u001b[39m]\u001b[38;5;241m=\u001b[39m\u001b[38;5;124m\"\u001b[39m\u001b[38;5;124mz\u001b[39m\u001b[38;5;124m\"\u001b[39m\n",
      "\u001b[1;31mTypeError\u001b[0m: 'str' object does not support item assignment"
     ]
    }
   ],
   "source": [
    "s[2]=\"z\""
   ]
  },
  {
   "cell_type": "code",
   "execution_count": 129,
   "id": "384b2793",
   "metadata": {},
   "outputs": [],
   "source": [
    "t=(4,5,6,7,56.89,\"sudh\",True)"
   ]
  },
  {
   "cell_type": "code",
   "execution_count": 130,
   "id": "16ad9d2d",
   "metadata": {},
   "outputs": [
    {
     "data": {
      "text/plain": [
       "tuple"
      ]
     },
     "execution_count": 130,
     "metadata": {},
     "output_type": "execute_result"
    }
   ],
   "source": [
    "type(t)"
   ]
  },
  {
   "cell_type": "code",
   "execution_count": 131,
   "id": "7fba27e2",
   "metadata": {},
   "outputs": [
    {
     "data": {
      "text/plain": [
       "4"
      ]
     },
     "execution_count": 131,
     "metadata": {},
     "output_type": "execute_result"
    }
   ],
   "source": [
    "t[0]"
   ]
  },
  {
   "cell_type": "code",
   "execution_count": 132,
   "id": "3e68ed02",
   "metadata": {},
   "outputs": [
    {
     "data": {
      "text/plain": [
       "(True, 'sudh', 56.89, 7, 6, 5, 4)"
      ]
     },
     "execution_count": 132,
     "metadata": {},
     "output_type": "execute_result"
    }
   ],
   "source": [
    "t[::-1]"
   ]
  },
  {
   "cell_type": "code",
   "execution_count": 133,
   "id": "fc5a063b",
   "metadata": {},
   "outputs": [
    {
     "data": {
      "text/plain": [
       "()"
      ]
     },
     "execution_count": 133,
     "metadata": {},
     "output_type": "execute_result"
    }
   ],
   "source": [
    "t[0:8:-1]"
   ]
  },
  {
   "cell_type": "code",
   "execution_count": 134,
   "id": "93268251",
   "metadata": {},
   "outputs": [
    {
     "data": {
      "text/plain": [
       "7"
      ]
     },
     "execution_count": 134,
     "metadata": {},
     "output_type": "execute_result"
    }
   ],
   "source": [
    "len(t)"
   ]
  },
  {
   "cell_type": "code",
   "execution_count": 138,
   "id": "8dd0bd2f",
   "metadata": {},
   "outputs": [
    {
     "data": {
      "text/plain": [
       "(True, 'sudh', 56.89, 7, 6, 5, 4)"
      ]
     },
     "execution_count": 138,
     "metadata": {},
     "output_type": "execute_result"
    }
   ],
   "source": [
    "t[7::-1]"
   ]
  },
  {
   "cell_type": "code",
   "execution_count": 139,
   "id": "44669a47",
   "metadata": {},
   "outputs": [],
   "source": [
    "l=[1,3,4,5,6,7,8]"
   ]
  },
  {
   "cell_type": "code",
   "execution_count": 140,
   "id": "86779db7",
   "metadata": {},
   "outputs": [],
   "source": [
    "l[5]=\"subham\""
   ]
  },
  {
   "cell_type": "code",
   "execution_count": 141,
   "id": "489313af",
   "metadata": {},
   "outputs": [
    {
     "data": {
      "text/plain": [
       "[1, 3, 4, 5, 6, 'subham']"
      ]
     },
     "execution_count": 141,
     "metadata": {},
     "output_type": "execute_result"
    }
   ],
   "source": [
    "l"
   ]
  },
  {
   "cell_type": "code",
   "execution_count": 142,
   "id": "3618c413",
   "metadata": {},
   "outputs": [
    {
     "ename": "TypeError",
     "evalue": "'tuple' object does not support item assignment",
     "output_type": "error",
     "traceback": [
      "\u001b[1;31m---------------------------------------------------------------------------\u001b[0m",
      "\u001b[1;31mTypeError\u001b[0m                                 Traceback (most recent call last)",
      "Input \u001b[1;32mIn [142]\u001b[0m, in \u001b[0;36m<cell line: 1>\u001b[1;34m()\u001b[0m\n\u001b[1;32m----> 1\u001b[0m t[\u001b[38;5;241m2\u001b[39m]\u001b[38;5;241m=\u001b[39m\u001b[38;5;124m\"\u001b[39m\u001b[38;5;124mshubh\u001b[39m\u001b[38;5;124m\"\u001b[39m\n",
      "\u001b[1;31mTypeError\u001b[0m: 'tuple' object does not support item assignment"
     ]
    }
   ],
   "source": [
    "t[2]=\"shubh\""
   ]
  },
  {
   "cell_type": "code",
   "execution_count": 143,
   "id": "ee1fab86",
   "metadata": {},
   "outputs": [],
   "source": [
    "t1=(3,4,5,67,7)"
   ]
  },
  {
   "cell_type": "code",
   "execution_count": 144,
   "id": "249b5cda",
   "metadata": {},
   "outputs": [
    {
     "data": {
      "text/plain": [
       "(3, 4, 5, 67, 7, 4, 5, 6, 7, 56.89, 'sudh', True)"
      ]
     },
     "execution_count": 144,
     "metadata": {},
     "output_type": "execute_result"
    }
   ],
   "source": [
    "t1+t"
   ]
  },
  {
   "cell_type": "code",
   "execution_count": 145,
   "id": "f224ce57",
   "metadata": {},
   "outputs": [
    {
     "data": {
      "text/plain": [
       "(4, 5, 6, 7, 56.89, 'sudh', True, 4, 5, 6, 7, 56.89, 'sudh', True)"
      ]
     },
     "execution_count": 145,
     "metadata": {},
     "output_type": "execute_result"
    }
   ],
   "source": [
    "t*2"
   ]
  },
  {
   "cell_type": "code",
   "execution_count": 146,
   "id": "adb8b03c",
   "metadata": {},
   "outputs": [
    {
     "data": {
      "text/plain": [
       "1"
      ]
     },
     "execution_count": 146,
     "metadata": {},
     "output_type": "execute_result"
    }
   ],
   "source": [
    "t.count(4)"
   ]
  },
  {
   "cell_type": "code",
   "execution_count": 148,
   "id": "7a2b944d",
   "metadata": {},
   "outputs": [
    {
     "data": {
      "text/plain": [
       "1"
      ]
     },
     "execution_count": 148,
     "metadata": {},
     "output_type": "execute_result"
    }
   ],
   "source": [
    "t.index(5)"
   ]
  },
  {
   "cell_type": "code",
   "execution_count": 158,
   "id": "7d268b02",
   "metadata": {},
   "outputs": [
    {
     "data": {
      "text/plain": [
       "(4, 5, 6, 7, 56.89, 'sudh', True)"
      ]
     },
     "execution_count": 158,
     "metadata": {},
     "output_type": "execute_result"
    }
   ],
   "source": [
    "t"
   ]
  },
  {
   "cell_type": "code",
   "execution_count": 159,
   "id": "66ea478b",
   "metadata": {},
   "outputs": [
    {
     "data": {
      "text/plain": [
       "5"
      ]
     },
     "execution_count": 159,
     "metadata": {},
     "output_type": "execute_result"
    }
   ],
   "source": [
    "t.index(\"sudh\")"
   ]
  },
  {
   "cell_type": "code",
   "execution_count": 160,
   "id": "537120b0",
   "metadata": {},
   "outputs": [
    {
     "data": {
      "text/plain": [
       "6"
      ]
     },
     "execution_count": 160,
     "metadata": {},
     "output_type": "execute_result"
    }
   ],
   "source": [
    "t.index(True)"
   ]
  },
  {
   "cell_type": "code",
   "execution_count": 162,
   "id": "ec755b57",
   "metadata": {},
   "outputs": [
    {
     "data": {
      "text/plain": [
       "[4, 5, 6, 7, 56.89, 'sudh', True]"
      ]
     },
     "execution_count": 162,
     "metadata": {},
     "output_type": "execute_result"
    }
   ],
   "source": [
    "list(t)\n"
   ]
  },
  {
   "cell_type": "code",
   "execution_count": 163,
   "id": "f54fb2bf",
   "metadata": {},
   "outputs": [
    {
     "data": {
      "text/plain": [
       "(4, 5, 6, 7, 56.89, 'sudh', True)"
      ]
     },
     "execution_count": 163,
     "metadata": {},
     "output_type": "execute_result"
    }
   ],
   "source": [
    "tuple(t)"
   ]
  },
  {
   "cell_type": "code",
   "execution_count": 164,
   "id": "4dc987b0",
   "metadata": {},
   "outputs": [],
   "source": [
    "d={}"
   ]
  },
  {
   "cell_type": "code",
   "execution_count": 165,
   "id": "3ffc6bcf",
   "metadata": {},
   "outputs": [
    {
     "data": {
      "text/plain": [
       "dict"
      ]
     },
     "execution_count": 165,
     "metadata": {},
     "output_type": "execute_result"
    }
   ],
   "source": [
    "type(d)"
   ]
  },
  {
   "cell_type": "code",
   "execution_count": 166,
   "id": "b452849e",
   "metadata": {},
   "outputs": [],
   "source": [
    "d2={\"key1\":\"value\",2324:\"xyz\",\"name\":\"shudh\",\"no\":127361263}"
   ]
  },
  {
   "cell_type": "code",
   "execution_count": 167,
   "id": "c13a244d",
   "metadata": {},
   "outputs": [
    {
     "data": {
      "text/plain": [
       "'shudh'"
      ]
     },
     "execution_count": 167,
     "metadata": {},
     "output_type": "execute_result"
    }
   ],
   "source": [
    "d2[\"name\"]"
   ]
  },
  {
   "cell_type": "code",
   "execution_count": 168,
   "id": "12b27459",
   "metadata": {},
   "outputs": [
    {
     "data": {
      "text/plain": [
       "127361263"
      ]
     },
     "execution_count": 168,
     "metadata": {},
     "output_type": "execute_result"
    }
   ],
   "source": [
    "d2[\"no\"]"
   ]
  },
  {
   "cell_type": "code",
   "execution_count": 169,
   "id": "6a3255dc",
   "metadata": {},
   "outputs": [],
   "source": [
    "d3={\"name\":\"sudh\",\"tech\":[\"python\",\"ml\",\"dl\",\"da\"]}"
   ]
  },
  {
   "cell_type": "code",
   "execution_count": 170,
   "id": "b19f29f1",
   "metadata": {},
   "outputs": [
    {
     "data": {
      "text/plain": [
       "['python', 'ml', 'dl', 'da']"
      ]
     },
     "execution_count": 170,
     "metadata": {},
     "output_type": "execute_result"
    }
   ],
   "source": [
    "d3[\"tech\"]"
   ]
  },
  {
   "cell_type": "code",
   "execution_count": 172,
   "id": "699ae53c",
   "metadata": {},
   "outputs": [
    {
     "data": {
      "text/plain": [
       "True"
      ]
     },
     "execution_count": 172,
     "metadata": {},
     "output_type": "execute_result"
    }
   ],
   "source": [
    "\"python\" in d3[\"tech\"]"
   ]
  },
  {
   "cell_type": "code",
   "execution_count": 173,
   "id": "e36977ab",
   "metadata": {},
   "outputs": [],
   "source": [
    "d4={\"name\":\"ineuron\",\"contact\":\"2323\",\"name\":\"python\"}"
   ]
  },
  {
   "cell_type": "code",
   "execution_count": 174,
   "id": "24d2c702",
   "metadata": {},
   "outputs": [
    {
     "data": {
      "text/plain": [
       "{'name': 'python', 'contact': '2323'}"
      ]
     },
     "execution_count": 174,
     "metadata": {},
     "output_type": "execute_result"
    }
   ],
   "source": [
    "d4"
   ]
  },
  {
   "cell_type": "code",
   "execution_count": 175,
   "id": "f9aabc5b",
   "metadata": {},
   "outputs": [],
   "source": [
    "d4[\"name\"]=\"new\""
   ]
  },
  {
   "cell_type": "code",
   "execution_count": 176,
   "id": "dff2119e",
   "metadata": {},
   "outputs": [
    {
     "data": {
      "text/plain": [
       "{'name': 'new', 'contact': '2323'}"
      ]
     },
     "execution_count": 176,
     "metadata": {},
     "output_type": "execute_result"
    }
   ],
   "source": [
    "d4"
   ]
  },
  {
   "cell_type": "code",
   "execution_count": 177,
   "id": "4007d9b3",
   "metadata": {},
   "outputs": [],
   "source": [
    "d4[\"k1\"]=\"sampu\""
   ]
  },
  {
   "cell_type": "code",
   "execution_count": 178,
   "id": "bb6886d8",
   "metadata": {},
   "outputs": [
    {
     "data": {
      "text/plain": [
       "{'name': 'new', 'contact': '2323', 'k1': 'sampu'}"
      ]
     },
     "execution_count": 178,
     "metadata": {},
     "output_type": "execute_result"
    }
   ],
   "source": [
    "d4"
   ]
  },
  {
   "cell_type": "code",
   "execution_count": 179,
   "id": "3b77f245",
   "metadata": {},
   "outputs": [],
   "source": [
    "d4[\"k2\"]=d2"
   ]
  },
  {
   "cell_type": "code",
   "execution_count": 180,
   "id": "f9d868ae",
   "metadata": {},
   "outputs": [
    {
     "data": {
      "text/plain": [
       "{'name': 'new',\n",
       " 'contact': '2323',\n",
       " 'k1': 'sampu',\n",
       " 'k2': {'key1': 'value', 2324: 'xyz', 'name': 'shudh', 'no': 127361263}}"
      ]
     },
     "execution_count": 180,
     "metadata": {},
     "output_type": "execute_result"
    }
   ],
   "source": [
    "d4"
   ]
  },
  {
   "cell_type": "code",
   "execution_count": 181,
   "id": "9e19ed10",
   "metadata": {},
   "outputs": [
    {
     "data": {
      "text/plain": [
       "127361263"
      ]
     },
     "execution_count": 181,
     "metadata": {},
     "output_type": "execute_result"
    }
   ],
   "source": [
    "d4[\"k2\"][\"no\"]"
   ]
  },
  {
   "cell_type": "code",
   "execution_count": 187,
   "id": "de768f5f",
   "metadata": {},
   "outputs": [
    {
     "ename": "SyntaxError",
     "evalue": "invalid syntax (4260484789.py, line 1)",
     "output_type": "error",
     "traceback": [
      "\u001b[1;36m  Input \u001b[1;32mIn [187]\u001b[1;36m\u001b[0m\n\u001b[1;33m    d99={@:111}\u001b[0m\n\u001b[1;37m         ^\u001b[0m\n\u001b[1;31mSyntaxError\u001b[0m\u001b[1;31m:\u001b[0m invalid syntax\n"
     ]
    }
   ],
   "source": [
    "d99={@:111}"
   ]
  },
  {
   "cell_type": "code",
   "execution_count": 195,
   "id": "d8214518",
   "metadata": {},
   "outputs": [
    {
     "ename": "TypeError",
     "evalue": "unhashable type: 'dict'",
     "output_type": "error",
     "traceback": [
      "\u001b[1;31m---------------------------------------------------------------------------\u001b[0m",
      "\u001b[1;31mTypeError\u001b[0m                                 Traceback (most recent call last)",
      "Input \u001b[1;32mIn [195]\u001b[0m, in \u001b[0;36m<cell line: 1>\u001b[1;34m()\u001b[0m\n\u001b[1;32m----> 1\u001b[0m d6 \u001b[38;5;241m=\u001b[39m{_:\u001b[38;5;124m\"\u001b[39m\u001b[38;5;124msu\u001b[39m\u001b[38;5;124m\"\u001b[39m}\n",
      "\u001b[1;31mTypeError\u001b[0m: unhashable type: 'dict'"
     ]
    }
   ],
   "source": [
    "d6 ={_:\"su\"}"
   ]
  },
  {
   "cell_type": "code",
   "execution_count": 196,
   "id": "c588ff9f",
   "metadata": {},
   "outputs": [],
   "source": [
    "d7={(1,2,3):\"shu\"}"
   ]
  },
  {
   "cell_type": "code",
   "execution_count": 197,
   "id": "5ac3c8f0",
   "metadata": {},
   "outputs": [
    {
     "data": {
      "text/plain": [
       "'shu'"
      ]
     },
     "execution_count": 197,
     "metadata": {},
     "output_type": "execute_result"
    }
   ],
   "source": [
    "d7[(1,2,3)]"
   ]
  },
  {
   "cell_type": "code",
   "execution_count": 198,
   "id": "7a7ba58f",
   "metadata": {},
   "outputs": [
    {
     "ename": "TypeError",
     "evalue": "unhashable type: 'list'",
     "output_type": "error",
     "traceback": [
      "\u001b[1;31m---------------------------------------------------------------------------\u001b[0m",
      "\u001b[1;31mTypeError\u001b[0m                                 Traceback (most recent call last)",
      "Input \u001b[1;32mIn [198]\u001b[0m, in \u001b[0;36m<cell line: 1>\u001b[1;34m()\u001b[0m\n\u001b[1;32m----> 1\u001b[0m d8\u001b[38;5;241m=\u001b[39m{[\u001b[38;5;241m1\u001b[39m,\u001b[38;5;241m2\u001b[39m,\u001b[38;5;241m3\u001b[39m]:\u001b[38;5;124m\"\u001b[39m\u001b[38;5;124msam\u001b[39m\u001b[38;5;124m\"\u001b[39m}\n",
      "\u001b[1;31mTypeError\u001b[0m: unhashable type: 'list'"
     ]
    }
   ],
   "source": [
    "d8={[1,2,3]:\"sam\"}"
   ]
  },
  {
   "cell_type": "code",
   "execution_count": 199,
   "id": "485068c4",
   "metadata": {},
   "outputs": [
    {
     "ename": "TypeError",
     "evalue": "unhashable type: 'dict'",
     "output_type": "error",
     "traceback": [
      "\u001b[1;31m---------------------------------------------------------------------------\u001b[0m",
      "\u001b[1;31mTypeError\u001b[0m                                 Traceback (most recent call last)",
      "Input \u001b[1;32mIn [199]\u001b[0m, in \u001b[0;36m<cell line: 1>\u001b[1;34m()\u001b[0m\n\u001b[1;32m----> 1\u001b[0m d9\u001b[38;5;241m=\u001b[39m{{\u001b[38;5;241m3\u001b[39m:\u001b[38;5;241m4\u001b[39m}:\u001b[38;5;124m\"\u001b[39m\u001b[38;5;124mkjdjaf\u001b[39m\u001b[38;5;124m\"\u001b[39m}\n",
      "\u001b[1;31mTypeError\u001b[0m: unhashable type: 'dict'"
     ]
    }
   ],
   "source": [
    "d9={{3:4}:\"kjdjaf\"}"
   ]
  },
  {
   "cell_type": "code",
   "execution_count": 203,
   "id": "ff2b0f7d",
   "metadata": {},
   "outputs": [
    {
     "ename": "NameError",
     "evalue": "name '_1' is not defined",
     "output_type": "error",
     "traceback": [
      "\u001b[1;31m---------------------------------------------------------------------------\u001b[0m",
      "\u001b[1;31mNameError\u001b[0m                                 Traceback (most recent call last)",
      "Input \u001b[1;32mIn [203]\u001b[0m, in \u001b[0;36m<cell line: 1>\u001b[1;34m()\u001b[0m\n\u001b[1;32m----> 1\u001b[0m d10\u001b[38;5;241m=\u001b[39m {\u001b[43m_1\u001b[49m:\u001b[38;5;124m\"\u001b[39m\u001b[38;5;124m1234\u001b[39m\u001b[38;5;124m\"\u001b[39m}\n",
      "\u001b[1;31mNameError\u001b[0m: name '_1' is not defined"
     ]
    }
   ],
   "source": [
    "d10= {_1:\"1234\"}"
   ]
  },
  {
   "cell_type": "code",
   "execution_count": 201,
   "id": "88ed8e88",
   "metadata": {},
   "outputs": [
    {
     "ename": "KeyError",
     "evalue": "'shu'",
     "output_type": "error",
     "traceback": [
      "\u001b[1;31m---------------------------------------------------------------------------\u001b[0m",
      "\u001b[1;31mKeyError\u001b[0m                                  Traceback (most recent call last)",
      "Input \u001b[1;32mIn [201]\u001b[0m, in \u001b[0;36m<cell line: 1>\u001b[1;34m()\u001b[0m\n\u001b[1;32m----> 1\u001b[0m \u001b[43md\u001b[49m\u001b[43m[\u001b[49m\u001b[43m_\u001b[49m\u001b[43m]\u001b[49m\n",
      "\u001b[1;31mKeyError\u001b[0m: 'shu'"
     ]
    }
   ],
   "source": [
    "d[_]"
   ]
  },
  {
   "cell_type": "code",
   "execution_count": 204,
   "id": "41843d02",
   "metadata": {},
   "outputs": [
    {
     "ename": "TypeError",
     "evalue": "unsupported operand type(s) for +: 'dict' and 'dict'",
     "output_type": "error",
     "traceback": [
      "\u001b[1;31m---------------------------------------------------------------------------\u001b[0m",
      "\u001b[1;31mTypeError\u001b[0m                                 Traceback (most recent call last)",
      "Input \u001b[1;32mIn [204]\u001b[0m, in \u001b[0;36m<cell line: 1>\u001b[1;34m()\u001b[0m\n\u001b[1;32m----> 1\u001b[0m \u001b[43md2\u001b[49m\u001b[38;5;241;43m+\u001b[39;49m\u001b[43md3\u001b[49m\n",
      "\u001b[1;31mTypeError\u001b[0m: unsupported operand type(s) for +: 'dict' and 'dict'"
     ]
    }
   ],
   "source": [
    "d2+d3"
   ]
  },
  {
   "cell_type": "code",
   "execution_count": 205,
   "id": "62b803ff",
   "metadata": {},
   "outputs": [
    {
     "data": {
      "text/plain": [
       "dict_keys(['key1', 2324, 'name', 'no'])"
      ]
     },
     "execution_count": 205,
     "metadata": {},
     "output_type": "execute_result"
    }
   ],
   "source": [
    "d2.keys()"
   ]
  },
  {
   "cell_type": "code",
   "execution_count": 207,
   "id": "5ecabcce",
   "metadata": {},
   "outputs": [
    {
     "data": {
      "text/plain": [
       "dict_values(['value', 'xyz', 'shudh', 127361263])"
      ]
     },
     "execution_count": 207,
     "metadata": {},
     "output_type": "execute_result"
    }
   ],
   "source": [
    "d2.values()"
   ]
  },
  {
   "cell_type": "code",
   "execution_count": 208,
   "id": "bdd06333",
   "metadata": {},
   "outputs": [
    {
     "data": {
      "text/plain": [
       "dict_items([('key1', 'value'), (2324, 'xyz'), ('name', 'shudh'), ('no', 127361263)])"
      ]
     },
     "execution_count": 208,
     "metadata": {},
     "output_type": "execute_result"
    }
   ],
   "source": [
    "d2.items()"
   ]
  },
  {
   "cell_type": "code",
   "execution_count": 209,
   "id": "1445a55f",
   "metadata": {},
   "outputs": [],
   "source": [
    "s={3,4,5,6,7,8}"
   ]
  },
  {
   "cell_type": "code",
   "execution_count": 210,
   "id": "2051aed7",
   "metadata": {},
   "outputs": [
    {
     "data": {
      "text/plain": [
       "set"
      ]
     },
     "execution_count": 210,
     "metadata": {},
     "output_type": "execute_result"
    }
   ],
   "source": [
    "type(s)"
   ]
  },
  {
   "cell_type": "code",
   "execution_count": 211,
   "id": "96e8e9a3",
   "metadata": {},
   "outputs": [],
   "source": [
    "s1={1,1,1,2,2,2,3,3,3,4,4,4,45,5,55,5,5,6,6,8,8,8,80,0,0,0}"
   ]
  },
  {
   "cell_type": "code",
   "execution_count": 212,
   "id": "78335240",
   "metadata": {},
   "outputs": [
    {
     "data": {
      "text/plain": [
       "{0, 1, 2, 3, 4, 5, 6, 8, 45, 55, 80}"
      ]
     },
     "execution_count": 212,
     "metadata": {},
     "output_type": "execute_result"
    }
   ],
   "source": [
    "s1"
   ]
  },
  {
   "cell_type": "code",
   "execution_count": 213,
   "id": "29682b7a",
   "metadata": {},
   "outputs": [],
   "source": [
    "s2={3245,4545,56456,34534,32525,6547,234324,436346}"
   ]
  },
  {
   "cell_type": "code",
   "execution_count": 214,
   "id": "7898822d",
   "metadata": {},
   "outputs": [
    {
     "data": {
      "text/plain": [
       "{3245, 4545, 6547, 32525, 34534, 56456, 234324, 436346}"
      ]
     },
     "execution_count": 214,
     "metadata": {},
     "output_type": "execute_result"
    }
   ],
   "source": [
    "s2"
   ]
  },
  {
   "cell_type": "code",
   "execution_count": 217,
   "id": "e4697463",
   "metadata": {},
   "outputs": [],
   "source": [
    "s3={\"subh\",12,34,5,\"6\",\"b\",645}"
   ]
  },
  {
   "cell_type": "code",
   "execution_count": 218,
   "id": "410d8411",
   "metadata": {},
   "outputs": [
    {
     "data": {
      "text/plain": [
       "{12, 34, 5, '6', 645, 'b', 'subh'}"
      ]
     },
     "execution_count": 218,
     "metadata": {},
     "output_type": "execute_result"
    }
   ],
   "source": [
    "s3"
   ]
  },
  {
   "cell_type": "code",
   "execution_count": 219,
   "id": "a16209b1",
   "metadata": {},
   "outputs": [
    {
     "ename": "TypeError",
     "evalue": "'set' object is not subscriptable",
     "output_type": "error",
     "traceback": [
      "\u001b[1;31m---------------------------------------------------------------------------\u001b[0m",
      "\u001b[1;31mTypeError\u001b[0m                                 Traceback (most recent call last)",
      "Input \u001b[1;32mIn [219]\u001b[0m, in \u001b[0;36m<cell line: 1>\u001b[1;34m()\u001b[0m\n\u001b[1;32m----> 1\u001b[0m \u001b[43ms3\u001b[49m\u001b[43m[\u001b[49m\u001b[38;5;241;43m3\u001b[39;49m\u001b[43m]\u001b[49m\n",
      "\u001b[1;31mTypeError\u001b[0m: 'set' object is not subscriptable"
     ]
    }
   ],
   "source": [
    "s3[3]"
   ]
  },
  {
   "cell_type": "code",
   "execution_count": 222,
   "id": "732833f1",
   "metadata": {},
   "outputs": [],
   "source": [
    "l33=list(s3)"
   ]
  },
  {
   "cell_type": "code",
   "execution_count": 223,
   "id": "ee4760d2",
   "metadata": {},
   "outputs": [
    {
     "data": {
      "text/plain": [
       "645"
      ]
     },
     "execution_count": 223,
     "metadata": {},
     "output_type": "execute_result"
    }
   ],
   "source": [
    "l33[4]"
   ]
  },
  {
   "cell_type": "code",
   "execution_count": 224,
   "id": "7715c023",
   "metadata": {},
   "outputs": [
    {
     "ename": "TypeError",
     "evalue": "unhashable type: 'list'",
     "output_type": "error",
     "traceback": [
      "\u001b[1;31m---------------------------------------------------------------------------\u001b[0m",
      "\u001b[1;31mTypeError\u001b[0m                                 Traceback (most recent call last)",
      "Input \u001b[1;32mIn [224]\u001b[0m, in \u001b[0;36m<cell line: 1>\u001b[1;34m()\u001b[0m\n\u001b[1;32m----> 1\u001b[0m \u001b[43ms2\u001b[49m\u001b[38;5;241;43m.\u001b[39;49m\u001b[43madd\u001b[49m\u001b[43m(\u001b[49m\u001b[43m[\u001b[49m\u001b[38;5;241;43m1\u001b[39;49m\u001b[43m,\u001b[49m\u001b[38;5;241;43m2\u001b[39;49m\u001b[43m,\u001b[49m\u001b[38;5;241;43m3\u001b[39;49m\u001b[43m,\u001b[49m\u001b[38;5;241;43m4\u001b[39;49m\u001b[43m,\u001b[49m\u001b[38;5;241;43m5\u001b[39;49m\u001b[43m]\u001b[49m\u001b[43m)\u001b[49m\n",
      "\u001b[1;31mTypeError\u001b[0m: unhashable type: 'list'"
     ]
    }
   ],
   "source": [
    "s2.add([1,2,3,4,5])"
   ]
  },
  {
   "cell_type": "code",
   "execution_count": 225,
   "id": "03f59e9b",
   "metadata": {},
   "outputs": [
    {
     "ename": "TypeError",
     "evalue": "unhashable type: 'set'",
     "output_type": "error",
     "traceback": [
      "\u001b[1;31m---------------------------------------------------------------------------\u001b[0m",
      "\u001b[1;31mTypeError\u001b[0m                                 Traceback (most recent call last)",
      "Input \u001b[1;32mIn [225]\u001b[0m, in \u001b[0;36m<cell line: 1>\u001b[1;34m()\u001b[0m\n\u001b[1;32m----> 1\u001b[0m \u001b[43ms2\u001b[49m\u001b[38;5;241;43m.\u001b[39;49m\u001b[43madd\u001b[49m\u001b[43m(\u001b[49m\u001b[38;5;28;43mset\u001b[39;49m\u001b[43m(\u001b[49m\u001b[43m[\u001b[49m\u001b[38;5;241;43m1\u001b[39;49m\u001b[43m,\u001b[49m\u001b[38;5;241;43m2\u001b[39;49m\u001b[43m,\u001b[49m\u001b[38;5;241;43m3\u001b[39;49m\u001b[43m,\u001b[49m\u001b[38;5;241;43m4\u001b[39;49m\u001b[43m]\u001b[49m\u001b[43m)\u001b[49m\u001b[43m)\u001b[49m\n",
      "\u001b[1;31mTypeError\u001b[0m: unhashable type: 'set'"
     ]
    }
   ],
   "source": [
    "s2.add(set([1,2,3,4]))"
   ]
  },
  {
   "cell_type": "code",
   "execution_count": 231,
   "id": "d6fcc643",
   "metadata": {},
   "outputs": [],
   "source": [
    "s={(1,2,3),(4,5,6),3,4,5,6,7}"
   ]
  },
  {
   "cell_type": "code",
   "execution_count": 232,
   "id": "59099701",
   "metadata": {},
   "outputs": [
    {
     "data": {
      "text/plain": [
       "{(1, 2, 3), (4, 5, 6), 3, 4, 5, 6, 7}"
      ]
     },
     "execution_count": 232,
     "metadata": {},
     "output_type": "execute_result"
    }
   ],
   "source": [
    "s"
   ]
  },
  {
   "cell_type": "code",
   "execution_count": 233,
   "id": "6a6df805",
   "metadata": {},
   "outputs": [
    {
     "ename": "TypeError",
     "evalue": "unhashable type: 'list'",
     "output_type": "error",
     "traceback": [
      "\u001b[1;31m---------------------------------------------------------------------------\u001b[0m",
      "\u001b[1;31mTypeError\u001b[0m                                 Traceback (most recent call last)",
      "Input \u001b[1;32mIn [233]\u001b[0m, in \u001b[0;36m<cell line: 1>\u001b[1;34m()\u001b[0m\n\u001b[1;32m----> 1\u001b[0m s1\u001b[38;5;241m=\u001b[39m{[\u001b[38;5;241m1\u001b[39m,\u001b[38;5;241m2\u001b[39m,\u001b[38;5;241m3\u001b[39m],[\u001b[38;5;241m4\u001b[39m,\u001b[38;5;241m5\u001b[39m,\u001b[38;5;241m6\u001b[39m]}\n",
      "\u001b[1;31mTypeError\u001b[0m: unhashable type: 'list'"
     ]
    }
   ],
   "source": [
    "s1={[1,2,3],[4,5,6]}"
   ]
  },
  {
   "cell_type": "code",
   "execution_count": 235,
   "id": "201649fc",
   "metadata": {},
   "outputs": [],
   "source": [
    "s.remove(3)\n"
   ]
  },
  {
   "cell_type": "code",
   "execution_count": 236,
   "id": "39b5122f",
   "metadata": {},
   "outputs": [
    {
     "data": {
      "text/plain": [
       "{(1, 2, 3), (4, 5, 6), 4, 5, 6, 7}"
      ]
     },
     "execution_count": 236,
     "metadata": {},
     "output_type": "execute_result"
    }
   ],
   "source": [
    "s"
   ]
  },
  {
   "cell_type": "code",
   "execution_count": 237,
   "id": "b2455741",
   "metadata": {},
   "outputs": [],
   "source": [
    "s.discard(7)"
   ]
  },
  {
   "cell_type": "code",
   "execution_count": 238,
   "id": "024d21df",
   "metadata": {},
   "outputs": [
    {
     "data": {
      "text/plain": [
       "{(1, 2, 3), (4, 5, 6), 4, 5, 6}"
      ]
     },
     "execution_count": 238,
     "metadata": {},
     "output_type": "execute_result"
    }
   ],
   "source": [
    "s"
   ]
  },
  {
   "cell_type": "code",
   "execution_count": 240,
   "id": "9a92ca73",
   "metadata": {},
   "outputs": [],
   "source": [
    "s.discard(8)"
   ]
  },
  {
   "cell_type": "code",
   "execution_count": 241,
   "id": "f79279b6",
   "metadata": {},
   "outputs": [
    {
     "data": {
      "text/plain": [
       "{(1, 2, 3), (4, 5, 6), 4, 5, 6}"
      ]
     },
     "execution_count": 241,
     "metadata": {},
     "output_type": "execute_result"
    }
   ],
   "source": [
    "s"
   ]
  },
  {
   "cell_type": "code",
   "execution_count": 242,
   "id": "7e282902",
   "metadata": {},
   "outputs": [
    {
     "ename": "KeyError",
     "evalue": "8",
     "output_type": "error",
     "traceback": [
      "\u001b[1;31m---------------------------------------------------------------------------\u001b[0m",
      "\u001b[1;31mKeyError\u001b[0m                                  Traceback (most recent call last)",
      "Input \u001b[1;32mIn [242]\u001b[0m, in \u001b[0;36m<cell line: 1>\u001b[1;34m()\u001b[0m\n\u001b[1;32m----> 1\u001b[0m \u001b[43ms\u001b[49m\u001b[38;5;241;43m.\u001b[39;49m\u001b[43mremove\u001b[49m\u001b[43m(\u001b[49m\u001b[38;5;241;43m8\u001b[39;49m\u001b[43m)\u001b[49m\n",
      "\u001b[1;31mKeyError\u001b[0m: 8"
     ]
    }
   ],
   "source": [
    "s.remove(8)"
   ]
  },
  {
   "cell_type": "code",
   "execution_count": null,
   "id": "919f0c81",
   "metadata": {},
   "outputs": [],
   "source": []
  }
 ],
 "metadata": {
  "kernelspec": {
   "display_name": "Python 3 (ipykernel)",
   "language": "python",
   "name": "python3"
  },
  "language_info": {
   "codemirror_mode": {
    "name": "ipython",
    "version": 3
   },
   "file_extension": ".py",
   "mimetype": "text/x-python",
   "name": "python",
   "nbconvert_exporter": "python",
   "pygments_lexer": "ipython3",
   "version": "3.9.12"
  }
 },
 "nbformat": 4,
 "nbformat_minor": 5
}
