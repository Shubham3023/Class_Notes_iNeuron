{
 "cells": [
  {
   "cell_type": "code",
   "execution_count": 1,
   "id": "1b57314e",
   "metadata": {},
   "outputs": [],
   "source": [
    "a=1\n",
    "b=10\n"
   ]
  },
  {
   "cell_type": "code",
   "execution_count": 2,
   "id": "276c199c",
   "metadata": {},
   "outputs": [
    {
     "name": "stdout",
     "output_type": "stream",
     "text": [
      "1\n",
      "2\n",
      "3\n",
      "4\n",
      "5\n",
      "6\n",
      "7\n",
      "8\n",
      "9\n",
      "10\n"
     ]
    }
   ],
   "source": [
    "while a<= b:\n",
    "    print(a)\n",
    "    a=a+1"
   ]
  },
  {
   "cell_type": "code",
   "execution_count": 3,
   "id": "0e87443e",
   "metadata": {},
   "outputs": [
    {
     "name": "stdout",
     "output_type": "stream",
     "text": [
      "1\n",
      "3\n",
      "5\n",
      "7\n",
      "9\n",
      "print this else block\n"
     ]
    }
   ],
   "source": [
    "a= 1\n",
    "b= 10\n",
    "while a <= b:\n",
    "    print(a)\n",
    "    a = a +2\n",
    "else:\n",
    "    print(\"print this else block\")"
   ]
  },
  {
   "cell_type": "code",
   "execution_count": 4,
   "id": "e053be46",
   "metadata": {},
   "outputs": [
    {
     "name": "stdout",
     "output_type": "stream",
     "text": [
      "1\n",
      "2\n",
      "3\n",
      "4\n",
      "5\n"
     ]
    }
   ],
   "source": [
    "a=1\n",
    "b=10\n",
    "while a<= b:\n",
    "    print(a)\n",
    "    if a== 5:\n",
    "        break\n",
    "    a= a+1\n",
    "else:\n",
    "    print(\"print this\")"
   ]
  },
  {
   "cell_type": "code",
   "execution_count": 1,
   "id": "6048f4c7",
   "metadata": {},
   "outputs": [
    {
     "data": {
      "text/plain": [
       "'a=1\\nb=10\\nwhile a<b:\\n    print(a)\\n    if a==3:\\n        continue\\n    a=a+1\\n    '"
      ]
     },
     "execution_count": 1,
     "metadata": {},
     "output_type": "execute_result"
    }
   ],
   "source": [
    "\"\"\"a=1     #this is an infinite loop case\n",
    "b=10\n",
    "while a<b:\n",
    "    print(a)\n",
    "    if a==3:\n",
    "        continue\n",
    "    a=a+1\n",
    "    \"\"\""
   ]
  },
  {
   "cell_type": "code",
   "execution_count": 2,
   "id": "a705042c",
   "metadata": {},
   "outputs": [
    {
     "name": "stdout",
     "output_type": "stream",
     "text": [
      "2\n",
      "4\n",
      "5\n",
      "6\n",
      "7\n",
      "8\n",
      "9\n",
      "10\n"
     ]
    }
   ],
   "source": [
    "a=1\n",
    "b=10\n",
    "while a<b:\n",
    "    a= a+1\n",
    "    if a==3:  \n",
    "        continue\n",
    "    print(a)\n",
    "   "
   ]
  },
  {
   "cell_type": "code",
   "execution_count": 2,
   "id": "6ea1a60b",
   "metadata": {},
   "outputs": [],
   "source": [
    "l=[1,2,3,4,65,56]"
   ]
  },
  {
   "cell_type": "code",
   "execution_count": 9,
   "id": "65f996f0",
   "metadata": {},
   "outputs": [
    {
     "name": "stdout",
     "output_type": "stream",
     "text": [
      "1\n",
      "2\n",
      "3\n",
      "4\n",
      "65\n",
      "56\n"
     ]
    }
   ],
   "source": [
    "a=0\n",
    "while a < len(l):\n",
    "    print(l[a])\n",
    "    a=a+1"
   ]
  },
  {
   "cell_type": "code",
   "execution_count": 82,
   "id": "8a41c0d1",
   "metadata": {},
   "outputs": [],
   "source": [
    "t=(6,4,5,6,7,8,6)"
   ]
  },
  {
   "cell_type": "code",
   "execution_count": 30,
   "id": "c0302c11",
   "metadata": {},
   "outputs": [
    {
     "name": "stdout",
     "output_type": "stream",
     "text": [
      "0\n",
      "3\n",
      "4\n",
      "6\n"
     ]
    }
   ],
   "source": [
    "a=0\n",
    "while a<= len(l):\n",
    "    if t[a]== 6 or t[a]==7:\n",
    "     print(a) \n",
    "\n",
    "    a=a+1"
   ]
  },
  {
   "cell_type": "code",
   "execution_count": 37,
   "id": "0d32e8e4",
   "metadata": {},
   "outputs": [
    {
     "name": "stdout",
     "output_type": "stream",
     "text": [
      "index is -1\n",
      "index is -3\n",
      "index is -4\n",
      "index is -7\n"
     ]
    }
   ],
   "source": [
    "a=len(t)-8\n",
    "# make this program generalise i.e remove 8 and 0\n",
    "while a<=0:\n",
    "    if t[a]== 6 or t[a]==7:\n",
    "       print(\"index is\",a)\n",
    "    if a==-len(t):\n",
    "     break\n",
    "    a=a-1"
   ]
  },
  {
   "cell_type": "code",
   "execution_count": 7,
   "id": "fa40d0b3",
   "metadata": {},
   "outputs": [],
   "source": [
    "d={\"k1\":\"shud\", \"k2\":[1,2,3,4],\"k3\":(2,3,4,5)}"
   ]
  },
  {
   "cell_type": "code",
   "execution_count": 8,
   "id": "7de47f86",
   "metadata": {},
   "outputs": [
    {
     "name": "stdout",
     "output_type": "stream",
     "text": [
      "shud\n",
      "[1, 2, 3, 4]\n",
      "(2, 3, 4, 5)\n"
     ]
    }
   ],
   "source": [
    "a= 0\n",
    "b= list(d.keys())\n",
    "while a< len(d):\n",
    "    print(d[b[a]])\n",
    "    a=a+1"
   ]
  },
  {
   "cell_type": "markdown",
   "id": "93b5ca65",
   "metadata": {},
   "source": [
    "functions\n",
    "len\n",
    "range\n",
    "print\n",
    "keys\n",
    "pop\n",
    "values\n",
    "insert\n",
    "extend\n",
    "append"
   ]
  },
  {
   "cell_type": "code",
   "execution_count": 9,
   "id": "7cd686fd",
   "metadata": {},
   "outputs": [],
   "source": [
    "# function"
   ]
  },
  {
   "cell_type": "code",
   "execution_count": 10,
   "id": "0fb17e4c",
   "metadata": {},
   "outputs": [],
   "source": [
    "def test():\n",
    "    print(\"this is my first function\")"
   ]
  },
  {
   "cell_type": "code",
   "execution_count": 11,
   "id": "3ff0ab14",
   "metadata": {},
   "outputs": [
    {
     "name": "stdout",
     "output_type": "stream",
     "text": [
      "this is my first function\n"
     ]
    }
   ],
   "source": [
    "test()"
   ]
  },
  {
   "cell_type": "code",
   "execution_count": 12,
   "id": "90c2856a",
   "metadata": {},
   "outputs": [
    {
     "name": "stdout",
     "output_type": "stream",
     "text": [
      "this is my first function\n"
     ]
    },
    {
     "ename": "TypeError",
     "evalue": "unsupported operand type(s) for +: 'NoneType' and 'str'",
     "output_type": "error",
     "traceback": [
      "\u001b[1;31m---------------------------------------------------------------------------\u001b[0m",
      "\u001b[1;31mTypeError\u001b[0m                                 Traceback (most recent call last)",
      "Input \u001b[1;32mIn [12]\u001b[0m, in \u001b[0;36m<cell line: 1>\u001b[1;34m()\u001b[0m\n\u001b[1;32m----> 1\u001b[0m \u001b[43mtest\u001b[49m\u001b[43m(\u001b[49m\u001b[43m)\u001b[49m\u001b[43m \u001b[49m\u001b[38;5;241;43m+\u001b[39;49m\u001b[43m \u001b[49m\u001b[38;5;124;43m\"\u001b[39;49m\u001b[38;5;124;43msudh\u001b[39;49m\u001b[38;5;124;43m\"\u001b[39;49m\n",
      "\u001b[1;31mTypeError\u001b[0m: unsupported operand type(s) for +: 'NoneType' and 'str'"
     ]
    }
   ],
   "source": [
    "test() + \"sudh\""
   ]
  },
  {
   "cell_type": "code",
   "execution_count": 13,
   "id": "bb0d1fca",
   "metadata": {},
   "outputs": [
    {
     "name": "stdout",
     "output_type": "stream",
     "text": [
      "this is my first function\n"
     ]
    },
    {
     "data": {
      "text/plain": [
       "NoneType"
      ]
     },
     "execution_count": 13,
     "metadata": {},
     "output_type": "execute_result"
    }
   ],
   "source": [
    "type(test())"
   ]
  },
  {
   "cell_type": "code",
   "execution_count": 14,
   "id": "b64755fd",
   "metadata": {},
   "outputs": [
    {
     "name": "stdout",
     "output_type": "stream",
     "text": [
      "\n"
     ]
    },
    {
     "data": {
      "text/plain": [
       "NoneType"
      ]
     },
     "execution_count": 14,
     "metadata": {},
     "output_type": "execute_result"
    }
   ],
   "source": [
    "type(print())"
   ]
  },
  {
   "cell_type": "code",
   "execution_count": 15,
   "id": "16a77d4b",
   "metadata": {},
   "outputs": [
    {
     "name": "stdout",
     "output_type": "stream",
     "text": [
      "\n"
     ]
    }
   ],
   "source": [
    "print()"
   ]
  },
  {
   "cell_type": "code",
   "execution_count": 16,
   "id": "36a4d35c",
   "metadata": {},
   "outputs": [],
   "source": [
    "def test1():\n",
    "    return \"this is my first function\""
   ]
  },
  {
   "cell_type": "code",
   "execution_count": 17,
   "id": "a803604b",
   "metadata": {},
   "outputs": [
    {
     "data": {
      "text/plain": [
       "str"
      ]
     },
     "execution_count": 17,
     "metadata": {},
     "output_type": "execute_result"
    }
   ],
   "source": [
    "type(test1())"
   ]
  },
  {
   "cell_type": "code",
   "execution_count": 20,
   "id": "cda5d5a8",
   "metadata": {},
   "outputs": [
    {
     "data": {
      "text/plain": [
       "'this is my first function, shudh'"
      ]
     },
     "execution_count": 20,
     "metadata": {},
     "output_type": "execute_result"
    }
   ],
   "source": [
    "test1() + \", shudh\""
   ]
  },
  {
   "cell_type": "code",
   "execution_count": 24,
   "id": "29837fdd",
   "metadata": {},
   "outputs": [
    {
     "ename": "IndentationError",
     "evalue": "expected an indented block (4176255230.py, line 2)",
     "output_type": "error",
     "traceback": [
      "\u001b[1;36m  Input \u001b[1;32mIn [24]\u001b[1;36m\u001b[0m\n\u001b[1;33m    \u001b[0m\n\u001b[1;37m    ^\u001b[0m\n\u001b[1;31mIndentationError\u001b[0m\u001b[1;31m:\u001b[0m expected an indented block\n"
     ]
    }
   ],
   "source": [
    "def test2():\n",
    "   "
   ]
  },
  {
   "cell_type": "code",
   "execution_count": 25,
   "id": "2d28801b",
   "metadata": {},
   "outputs": [],
   "source": [
    "def test2():\n",
    "    pass"
   ]
  },
  {
   "cell_type": "code",
   "execution_count": 26,
   "id": "fbab2e16",
   "metadata": {},
   "outputs": [],
   "source": [
    "def test3():\n",
    "    return 1,3,5, [1,2,3,4,5,67]"
   ]
  },
  {
   "cell_type": "code",
   "execution_count": 29,
   "id": "738e8cd8",
   "metadata": {},
   "outputs": [
    {
     "data": {
      "text/plain": [
       "(1, 3, 5, [1, 2, 3, 4, 5, 67])"
      ]
     },
     "execution_count": 29,
     "metadata": {},
     "output_type": "execute_result"
    }
   ],
   "source": [
    "test3() # function returns multiple objects in form of tuple"
   ]
  },
  {
   "cell_type": "code",
   "execution_count": 30,
   "id": "ded95872",
   "metadata": {},
   "outputs": [],
   "source": [
    "a= test3()"
   ]
  },
  {
   "cell_type": "code",
   "execution_count": 31,
   "id": "45b0c424",
   "metadata": {},
   "outputs": [
    {
     "data": {
      "text/plain": [
       "(1, 3, 5, [1, 2, 3, 4, 5, 67])"
      ]
     },
     "execution_count": 31,
     "metadata": {},
     "output_type": "execute_result"
    }
   ],
   "source": [
    "a\n"
   ]
  },
  {
   "cell_type": "code",
   "execution_count": 32,
   "id": "835acc8e",
   "metadata": {},
   "outputs": [],
   "source": [
    "a,b,c,d =test3()"
   ]
  },
  {
   "cell_type": "code",
   "execution_count": 33,
   "id": "1a0ceb67",
   "metadata": {},
   "outputs": [
    {
     "data": {
      "text/plain": [
       "1"
      ]
     },
     "execution_count": 33,
     "metadata": {},
     "output_type": "execute_result"
    }
   ],
   "source": [
    "a"
   ]
  },
  {
   "cell_type": "code",
   "execution_count": 34,
   "id": "fd9b53c8",
   "metadata": {},
   "outputs": [
    {
     "data": {
      "text/plain": [
       "3"
      ]
     },
     "execution_count": 34,
     "metadata": {},
     "output_type": "execute_result"
    }
   ],
   "source": [
    "b\n"
   ]
  },
  {
   "cell_type": "code",
   "execution_count": 35,
   "id": "095914d0",
   "metadata": {},
   "outputs": [
    {
     "data": {
      "text/plain": [
       "5"
      ]
     },
     "execution_count": 35,
     "metadata": {},
     "output_type": "execute_result"
    }
   ],
   "source": [
    "c"
   ]
  },
  {
   "cell_type": "code",
   "execution_count": 36,
   "id": "c8e414a6",
   "metadata": {},
   "outputs": [
    {
     "data": {
      "text/plain": [
       "[1, 2, 3, 4, 5, 67]"
      ]
     },
     "execution_count": 36,
     "metadata": {},
     "output_type": "execute_result"
    }
   ],
   "source": [
    "d"
   ]
  },
  {
   "cell_type": "code",
   "execution_count": 37,
   "id": "2888a222",
   "metadata": {},
   "outputs": [],
   "source": [
    "def test4():\n",
    "    a= 4*5\n",
    "    b= 6+4\n",
    "    return a,b"
   ]
  },
  {
   "cell_type": "code",
   "execution_count": 38,
   "id": "02019553",
   "metadata": {},
   "outputs": [],
   "source": [
    "g= test4()"
   ]
  },
  {
   "cell_type": "code",
   "execution_count": 39,
   "id": "425afb1d",
   "metadata": {},
   "outputs": [
    {
     "data": {
      "text/plain": [
       "(20, 10)"
      ]
     },
     "execution_count": 39,
     "metadata": {},
     "output_type": "execute_result"
    }
   ],
   "source": [
    "g"
   ]
  },
  {
   "cell_type": "code",
   "execution_count": 40,
   "id": "9ea5c040",
   "metadata": {},
   "outputs": [],
   "source": [
    "j,k= test4()"
   ]
  },
  {
   "cell_type": "code",
   "execution_count": 44,
   "id": "b82e457b",
   "metadata": {},
   "outputs": [
    {
     "data": {
      "text/plain": [
       "20"
      ]
     },
     "execution_count": 44,
     "metadata": {},
     "output_type": "execute_result"
    }
   ],
   "source": [
    "j\n"
   ]
  },
  {
   "cell_type": "code",
   "execution_count": 45,
   "id": "22ea68ab",
   "metadata": {},
   "outputs": [
    {
     "data": {
      "text/plain": [
       "10"
      ]
     },
     "execution_count": 45,
     "metadata": {},
     "output_type": "execute_result"
    }
   ],
   "source": [
    "k"
   ]
  },
  {
   "cell_type": "code",
   "execution_count": 46,
   "id": "04529e13",
   "metadata": {},
   "outputs": [],
   "source": [
    "_ , m = test4()"
   ]
  },
  {
   "cell_type": "code",
   "execution_count": 47,
   "id": "eb3c34e0",
   "metadata": {},
   "outputs": [
    {
     "data": {
      "text/plain": [
       "20"
      ]
     },
     "execution_count": 47,
     "metadata": {},
     "output_type": "execute_result"
    }
   ],
   "source": [
    "_"
   ]
  },
  {
   "cell_type": "code",
   "execution_count": 48,
   "id": "17217b20",
   "metadata": {},
   "outputs": [
    {
     "data": {
      "text/plain": [
       "10"
      ]
     },
     "execution_count": 48,
     "metadata": {},
     "output_type": "execute_result"
    }
   ],
   "source": [
    "m"
   ]
  },
  {
   "cell_type": "code",
   "execution_count": 49,
   "id": "d013c23d",
   "metadata": {},
   "outputs": [
    {
     "data": {
      "text/plain": [
       "(1, 3, 5, [1, 2, 3, 4, 5, 67])"
      ]
     },
     "execution_count": 49,
     "metadata": {},
     "output_type": "execute_result"
    }
   ],
   "source": [
    "test3()"
   ]
  },
  {
   "cell_type": "code",
   "execution_count": 50,
   "id": "644876be",
   "metadata": {},
   "outputs": [],
   "source": [
    "_ ,_ ,_ ,g = test3()"
   ]
  },
  {
   "cell_type": "code",
   "execution_count": 51,
   "id": "93e419f3",
   "metadata": {},
   "outputs": [
    {
     "data": {
      "text/plain": [
       "5"
      ]
     },
     "execution_count": 51,
     "metadata": {},
     "output_type": "execute_result"
    }
   ],
   "source": [
    "_"
   ]
  },
  {
   "cell_type": "code",
   "execution_count": 52,
   "id": "ab94b5c3",
   "metadata": {},
   "outputs": [
    {
     "data": {
      "text/plain": [
       "5"
      ]
     },
     "execution_count": 52,
     "metadata": {},
     "output_type": "execute_result"
    }
   ],
   "source": [
    "_"
   ]
  },
  {
   "cell_type": "code",
   "execution_count": 53,
   "id": "7a36b004",
   "metadata": {},
   "outputs": [
    {
     "data": {
      "text/plain": [
       "[1, 2, 3, 4, 5, 67]"
      ]
     },
     "execution_count": 53,
     "metadata": {},
     "output_type": "execute_result"
    }
   ],
   "source": [
    "g"
   ]
  },
  {
   "cell_type": "code",
   "execution_count": 57,
   "id": "a877a10e",
   "metadata": {},
   "outputs": [],
   "source": [
    "def test5():\n",
    "    \n",
    "    while a <= b:\n",
    "        print(a)\n",
    "        a = a +2\n",
    "    else:\n",
    "        print(\"print this else block\")"
   ]
  },
  {
   "cell_type": "code",
   "execution_count": 58,
   "id": "ffb54a8c",
   "metadata": {},
   "outputs": [
    {
     "ename": "UnboundLocalError",
     "evalue": "local variable 'a' referenced before assignment",
     "output_type": "error",
     "traceback": [
      "\u001b[1;31m---------------------------------------------------------------------------\u001b[0m",
      "\u001b[1;31mUnboundLocalError\u001b[0m                         Traceback (most recent call last)",
      "Input \u001b[1;32mIn [58]\u001b[0m, in \u001b[0;36m<cell line: 1>\u001b[1;34m()\u001b[0m\n\u001b[1;32m----> 1\u001b[0m \u001b[43mtest5\u001b[49m\u001b[43m(\u001b[49m\u001b[43m)\u001b[49m\n",
      "Input \u001b[1;32mIn [57]\u001b[0m, in \u001b[0;36mtest5\u001b[1;34m()\u001b[0m\n\u001b[0;32m      1\u001b[0m \u001b[38;5;28;01mdef\u001b[39;00m \u001b[38;5;21mtest5\u001b[39m():\n\u001b[1;32m----> 3\u001b[0m     \u001b[38;5;28;01mwhile\u001b[39;00m \u001b[43ma\u001b[49m \u001b[38;5;241m<\u001b[39m\u001b[38;5;241m=\u001b[39m b:\n\u001b[0;32m      4\u001b[0m         \u001b[38;5;28mprint\u001b[39m(a)\n\u001b[0;32m      5\u001b[0m         a \u001b[38;5;241m=\u001b[39m a \u001b[38;5;241m+\u001b[39m\u001b[38;5;241m2\u001b[39m\n",
      "\u001b[1;31mUnboundLocalError\u001b[0m: local variable 'a' referenced before assignment"
     ]
    }
   ],
   "source": [
    "test5()"
   ]
  },
  {
   "cell_type": "markdown",
   "id": "9b081d7e",
   "metadata": {},
   "source": [
    "since variable a and b is not defined"
   ]
  },
  {
   "cell_type": "code",
   "execution_count": 59,
   "id": "0cc24d7d",
   "metadata": {},
   "outputs": [],
   "source": [
    "def test5(a,b) :\n",
    "    while a <= b:\n",
    "        print(a)\n",
    "        a = a +2\n",
    "    else:\n",
    "        print(\"print this else block\")"
   ]
  },
  {
   "cell_type": "code",
   "execution_count": 60,
   "id": "7cd625bd",
   "metadata": {},
   "outputs": [
    {
     "ename": "TypeError",
     "evalue": "test5() missing 2 required positional arguments: 'a' and 'b'",
     "output_type": "error",
     "traceback": [
      "\u001b[1;31m---------------------------------------------------------------------------\u001b[0m",
      "\u001b[1;31mTypeError\u001b[0m                                 Traceback (most recent call last)",
      "Input \u001b[1;32mIn [60]\u001b[0m, in \u001b[0;36m<cell line: 1>\u001b[1;34m()\u001b[0m\n\u001b[1;32m----> 1\u001b[0m \u001b[43mtest5\u001b[49m\u001b[43m(\u001b[49m\u001b[43m)\u001b[49m\n",
      "\u001b[1;31mTypeError\u001b[0m: test5() missing 2 required positional arguments: 'a' and 'b'"
     ]
    }
   ],
   "source": [
    "test5()"
   ]
  },
  {
   "cell_type": "code",
   "execution_count": 61,
   "id": "01b73015",
   "metadata": {},
   "outputs": [
    {
     "name": "stdout",
     "output_type": "stream",
     "text": [
      "1\n",
      "3\n",
      "5\n",
      "7\n",
      "9\n",
      "print this else block\n"
     ]
    }
   ],
   "source": [
    "test5(1,10)"
   ]
  },
  {
   "cell_type": "code",
   "execution_count": 62,
   "id": "675f5705",
   "metadata": {},
   "outputs": [
    {
     "name": "stdout",
     "output_type": "stream",
     "text": [
      "3\n",
      "5\n",
      "7\n",
      "9\n",
      "11\n",
      "13\n",
      "15\n",
      "17\n",
      "19\n",
      "21\n",
      "23\n",
      "25\n",
      "27\n",
      "29\n",
      "31\n",
      "33\n",
      "35\n",
      "37\n",
      "39\n",
      "41\n",
      "43\n",
      "45\n",
      "47\n",
      "49\n",
      "51\n",
      "53\n",
      "55\n",
      "print this else block\n"
     ]
    }
   ],
   "source": [
    "test5(3,56)"
   ]
  },
  {
   "cell_type": "code",
   "execution_count": 63,
   "id": "0f5cfb17",
   "metadata": {},
   "outputs": [
    {
     "name": "stdout",
     "output_type": "stream",
     "text": [
      "print this else block\n"
     ]
    }
   ],
   "source": [
    "test5(30,3)"
   ]
  },
  {
   "cell_type": "code",
   "execution_count": 64,
   "id": "8e98bac6",
   "metadata": {},
   "outputs": [
    {
     "name": "stdout",
     "output_type": "stream",
     "text": [
      "print this else block\n"
     ]
    },
    {
     "data": {
      "text/plain": [
       "NoneType"
      ]
     },
     "execution_count": 64,
     "metadata": {},
     "output_type": "execute_result"
    }
   ],
   "source": [
    "type(test5(30,3))"
   ]
  },
  {
   "cell_type": "code",
   "execution_count": 66,
   "id": "3a7404f5",
   "metadata": {},
   "outputs": [],
   "source": [
    "def test6(a,b) :\n",
    "    while a <= b:\n",
    "        return a\n",
    "        a = a +2\n",
    "    else:\n",
    "        print(\"print this else block\")"
   ]
  },
  {
   "cell_type": "code",
   "execution_count": 67,
   "id": "43b8ee19",
   "metadata": {},
   "outputs": [
    {
     "data": {
      "text/plain": [
       "1"
      ]
     },
     "execution_count": 67,
     "metadata": {},
     "output_type": "execute_result"
    }
   ],
   "source": [
    "test6(1,10)"
   ]
  },
  {
   "cell_type": "markdown",
   "id": "3f9f4449",
   "metadata": {},
   "source": [
    "return just gives 1 data"
   ]
  },
  {
   "cell_type": "code",
   "execution_count": 120,
   "id": "eca06f16",
   "metadata": {},
   "outputs": [],
   "source": [
    "\n",
    "def test6(a,b) :  \n",
    "    l=[]\n",
    "    while a <= b:\n",
    "        \n",
    "        l.append(a)\n",
    "        a = a +2\n",
    "    else:\n",
    "        print(\"print this else block\")\n",
    "    return l"
   ]
  },
  {
   "cell_type": "code",
   "execution_count": 121,
   "id": "28ee8bf2",
   "metadata": {},
   "outputs": [
    {
     "name": "stdout",
     "output_type": "stream",
     "text": [
      "print this else block\n"
     ]
    },
    {
     "data": {
      "text/plain": [
       "[1, 3, 5, 7, 9]"
      ]
     },
     "execution_count": 121,
     "metadata": {},
     "output_type": "execute_result"
    }
   ],
   "source": [
    "test6(1,10)"
   ]
  },
  {
   "cell_type": "code",
   "execution_count": 73,
   "id": "b2975f8c",
   "metadata": {},
   "outputs": [],
   "source": [
    "l= [4,5,6,67,7,8,8,9,9,9,9,[3,4,5,6,7,7,],\"sudh\"]"
   ]
  },
  {
   "cell_type": "code",
   "execution_count": 74,
   "id": "7dbbf349",
   "metadata": {},
   "outputs": [],
   "source": [
    "l1=[]\n",
    "for i in l:\n",
    "    if type(i) ==int:\n",
    "        l1.append(i)"
   ]
  },
  {
   "cell_type": "code",
   "execution_count": 75,
   "id": "3c5c7e0f",
   "metadata": {},
   "outputs": [
    {
     "data": {
      "text/plain": [
       "[4, 5, 6, 67, 7, 8, 8, 9, 9, 9, 9]"
      ]
     },
     "execution_count": 75,
     "metadata": {},
     "output_type": "execute_result"
    }
   ],
   "source": [
    "l1"
   ]
  },
  {
   "cell_type": "code",
   "execution_count": 77,
   "id": "473c824d",
   "metadata": {},
   "outputs": [],
   "source": [
    "def test7():\n",
    "    l1=[]\n",
    "    for i in l:\n",
    "        if type(i) ==int:\n",
    "            l1.append(i)\n",
    "    return l1\n",
    "    "
   ]
  },
  {
   "cell_type": "code",
   "execution_count": 78,
   "id": "b4ad3f9b",
   "metadata": {},
   "outputs": [
    {
     "data": {
      "text/plain": [
       "[4, 5, 6, 67, 7, 8, 8, 9, 9, 9, 9]"
      ]
     },
     "execution_count": 78,
     "metadata": {},
     "output_type": "execute_result"
    }
   ],
   "source": [
    "test7()"
   ]
  },
  {
   "cell_type": "code",
   "execution_count": 79,
   "id": "e8654772",
   "metadata": {},
   "outputs": [],
   "source": [
    "l3=[345,34,5,6,7,\"sudh\",(3,4,56,5)]"
   ]
  },
  {
   "cell_type": "code",
   "execution_count": 80,
   "id": "106a5b10",
   "metadata": {},
   "outputs": [],
   "source": [
    "def test8(l):\n",
    "    l1=[]\n",
    "    for i in l:\n",
    "        if type(i) ==int:\n",
    "            l1.append(i)\n",
    "    return l1"
   ]
  },
  {
   "cell_type": "code",
   "execution_count": 81,
   "id": "f5804bfe",
   "metadata": {},
   "outputs": [
    {
     "data": {
      "text/plain": [
       "[345, 34, 5, 6, 7]"
      ]
     },
     "execution_count": 81,
     "metadata": {},
     "output_type": "execute_result"
    }
   ],
   "source": [
    "test8(l3)"
   ]
  },
  {
   "cell_type": "code",
   "execution_count": 101,
   "id": "7f5a8632",
   "metadata": {},
   "outputs": [],
   "source": [
    "def test9(t):\n",
    "    a=-1\n",
    "    # make this program generalise i.e remove 8 and 0\n",
    "    while a>=-len(t):\n",
    "        if t[a]== 6 or t[a]==7:\n",
    "            print(\"index is\",a)\n",
    "            if a==-len(t):\n",
    "                break\n",
    "        a=a-1"
   ]
  },
  {
   "cell_type": "code",
   "execution_count": 102,
   "id": "7c2882c4",
   "metadata": {},
   "outputs": [
    {
     "name": "stdout",
     "output_type": "stream",
     "text": [
      "index is -1\n",
      "index is -3\n",
      "index is -4\n",
      "index is -7\n"
     ]
    }
   ],
   "source": [
    "test9(t)"
   ]
  },
  {
   "cell_type": "code",
   "execution_count": 103,
   "id": "e6d86c0d",
   "metadata": {},
   "outputs": [],
   "source": [
    "t10=(4,5,6,7,8,9,1,2,3,4,5,10)"
   ]
  },
  {
   "cell_type": "code",
   "execution_count": 104,
   "id": "16b07b4b",
   "metadata": {},
   "outputs": [
    {
     "name": "stdout",
     "output_type": "stream",
     "text": [
      "index is -9\n",
      "index is -10\n"
     ]
    }
   ],
   "source": [
    "test9(t10)"
   ]
  },
  {
   "cell_type": "code",
   "execution_count": 108,
   "id": "c925239e",
   "metadata": {},
   "outputs": [],
   "source": [
    "l=[1,11,1,1,1,1,1,11,1]"
   ]
  },
  {
   "cell_type": "code",
   "execution_count": 111,
   "id": "6d2ccab3",
   "metadata": {},
   "outputs": [
    {
     "name": "stdout",
     "output_type": "stream",
     "text": [
      "[11, 11]\n"
     ]
    }
   ],
   "source": [
    "for i in l:\n",
    "    if i==1:\n",
    "     l.remove(1)\n",
    "print(l)\n",
    "\n",
    "#[11,11,1]\n",
    "\n",
    "#how ??\n",
    "#[11,11] is expected"
   ]
  },
  {
   "cell_type": "code",
   "execution_count": null,
   "id": "19eb70f9",
   "metadata": {},
   "outputs": [],
   "source": []
  }
 ],
 "metadata": {
  "kernelspec": {
   "display_name": "Python 3 (ipykernel)",
   "language": "python",
   "name": "python3"
  },
  "language_info": {
   "codemirror_mode": {
    "name": "ipython",
    "version": 3
   },
   "file_extension": ".py",
   "mimetype": "text/x-python",
   "name": "python",
   "nbconvert_exporter": "python",
   "pygments_lexer": "ipython3",
   "version": "3.9.12"
  }
 },
 "nbformat": 4,
 "nbformat_minor": 5
}
