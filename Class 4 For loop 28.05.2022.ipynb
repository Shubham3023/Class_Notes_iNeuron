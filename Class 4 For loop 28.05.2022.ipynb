{
 "cells": [
  {
   "cell_type": "code",
   "execution_count": 1,
   "id": "ecbc420d",
   "metadata": {},
   "outputs": [],
   "source": [
    "l=[1,2,3,4,\"sudh\",\"kumar\",45.56]"
   ]
  },
  {
   "cell_type": "code",
   "execution_count": 2,
   "id": "c3814f24",
   "metadata": {},
   "outputs": [
    {
     "name": "stdout",
     "output_type": "stream",
     "text": [
      "1\n",
      "2\n",
      "3\n",
      "4\n",
      "sudh\n",
      "kumar\n",
      "45.56\n"
     ]
    }
   ],
   "source": [
    "for i in l:\n",
    "    print(i)"
   ]
  },
  {
   "cell_type": "code",
   "execution_count": 4,
   "id": "38515e5c",
   "metadata": {},
   "outputs": [],
   "source": [
    "for i in l:\n",
    "    pass"
   ]
  },
  {
   "cell_type": "code",
   "execution_count": 7,
   "id": "535f5dc6",
   "metadata": {},
   "outputs": [],
   "source": [
    "s=\"sudh\""
   ]
  },
  {
   "cell_type": "code",
   "execution_count": 8,
   "id": "8d1fcc5a",
   "metadata": {},
   "outputs": [
    {
     "name": "stdout",
     "output_type": "stream",
     "text": [
      "s\n",
      "u\n",
      "d\n",
      "h\n"
     ]
    }
   ],
   "source": [
    "for i in s:\n",
    "    print(i)"
   ]
  },
  {
   "cell_type": "code",
   "execution_count": 9,
   "id": "9149ead2",
   "metadata": {},
   "outputs": [
    {
     "name": "stdout",
     "output_type": "stream",
     "text": [
      "1\n",
      "2\n",
      "3\n",
      "4\n",
      "sudh\n",
      "kumar\n",
      "45.56\n",
      "if for loop is going to complete itself then it will execute else\n"
     ]
    }
   ],
   "source": [
    "for i in l :\n",
    "    print(i)\n",
    "else:\n",
    "    print(\"if for loop is going to complete itself then it will execute else\")"
   ]
  },
  {
   "cell_type": "code",
   "execution_count": 10,
   "id": "0dd906c2",
   "metadata": {},
   "outputs": [
    {
     "name": "stdout",
     "output_type": "stream",
     "text": [
      "1\n",
      "2\n",
      "3\n"
     ]
    }
   ],
   "source": [
    "for i in l :\n",
    "    if i == 4:\n",
    "        break\n",
    "    print(i)\n",
    "else:\n",
    "    print(\"if for loop is going to complete itself then it will execute else\")"
   ]
  },
  {
   "cell_type": "code",
   "execution_count": 13,
   "id": "93086b62",
   "metadata": {},
   "outputs": [
    {
     "name": "stdout",
     "output_type": "stream",
     "text": [
      "s\n",
      "h\n",
      "u\n",
      "d\n",
      "h\n",
      "a\n",
      "n\n",
      "s\n",
      "h\n",
      "u\n",
      "print string shudhanshu\n"
     ]
    }
   ],
   "source": [
    "s = \"shudhanshu\"\n",
    "for i in s:\n",
    "    if i == 'z':\n",
    "        break\n",
    "    print(i)\n",
    "else:\n",
    "    print(\"print string\", s)"
   ]
  },
  {
   "cell_type": "code",
   "execution_count": 14,
   "id": "de4843d4",
   "metadata": {},
   "outputs": [
    {
     "name": "stdout",
     "output_type": "stream",
     "text": [
      "4\n",
      "5\n",
      "6\n",
      "7\n",
      "8\n",
      "6\n",
      "sudh\n"
     ]
    }
   ],
   "source": [
    "t=(4,5,6,7,8,6,\"sudh\")\n",
    "for i in t:\n",
    "    print(i)"
   ]
  },
  {
   "cell_type": "code",
   "execution_count": 16,
   "id": "6d84a922",
   "metadata": {},
   "outputs": [
    {
     "name": "stdout",
     "output_type": "stream",
     "text": [
      "<class 'set'>\n",
      "{'sudh', 4, 5, 6, 7, 8}\n",
      "sudh\n",
      "4\n",
      "5\n",
      "6\n",
      "7\n",
      "8\n"
     ]
    }
   ],
   "source": [
    "b={4,5,6,7,7,7,7,7,8,\"sudh\"}\n",
    "print(type(b))\n",
    "\n",
    "print(b)\n",
    "for i in b:\n",
    "    print(i)"
   ]
  },
  {
   "cell_type": "code",
   "execution_count": 17,
   "id": "27091060",
   "metadata": {},
   "outputs": [],
   "source": [
    "d={'key1':\"sudh\",'contact':842346934,'position':\"xyz\"}"
   ]
  },
  {
   "cell_type": "code",
   "execution_count": 18,
   "id": "7bc98599",
   "metadata": {},
   "outputs": [
    {
     "name": "stdout",
     "output_type": "stream",
     "text": [
      "key1\n",
      "contact\n",
      "position\n"
     ]
    }
   ],
   "source": [
    "for i in d:\n",
    "    print(i)\n",
    "    "
   ]
  },
  {
   "cell_type": "code",
   "execution_count": 19,
   "id": "7161c60a",
   "metadata": {},
   "outputs": [
    {
     "name": "stdout",
     "output_type": "stream",
     "text": [
      "sudh\n",
      "842346934\n",
      "xyz\n"
     ]
    }
   ],
   "source": [
    "for i in d:\n",
    "    print(d[i])"
   ]
  },
  {
   "cell_type": "code",
   "execution_count": 22,
   "id": "8ab905cb",
   "metadata": {},
   "outputs": [
    {
     "name": "stdout",
     "output_type": "stream",
     "text": [
      "key1 : sudh\n",
      "contact : 842346934\n",
      "position : xyz\n"
     ]
    }
   ],
   "source": [
    "for i in d:\n",
    "    print(i,\":\", d[i])"
   ]
  },
  {
   "cell_type": "code",
   "execution_count": 23,
   "id": "cdde6d12",
   "metadata": {},
   "outputs": [
    {
     "data": {
      "text/plain": [
       "range(0, 9)"
      ]
     },
     "execution_count": 23,
     "metadata": {},
     "output_type": "execute_result"
    }
   ],
   "source": [
    "range(0,9) #range is generator"
   ]
  },
  {
   "cell_type": "code",
   "execution_count": 24,
   "id": "27ee39bc",
   "metadata": {},
   "outputs": [
    {
     "data": {
      "text/plain": [
       "[0, 1, 2, 3, 4, 5, 6, 7, 8]"
      ]
     },
     "execution_count": 24,
     "metadata": {},
     "output_type": "execute_result"
    }
   ],
   "source": [
    "list(range(9))"
   ]
  },
  {
   "cell_type": "code",
   "execution_count": 25,
   "id": "e41c1da4",
   "metadata": {},
   "outputs": [
    {
     "name": "stdout",
     "output_type": "stream",
     "text": [
      "0\n",
      "1\n",
      "2\n",
      "3\n",
      "4\n",
      "5\n",
      "6\n",
      "7\n",
      "8\n"
     ]
    }
   ],
   "source": [
    "for i in range(9):\n",
    "    print(i)"
   ]
  },
  {
   "cell_type": "code",
   "execution_count": 26,
   "id": "7ede0a49",
   "metadata": {},
   "outputs": [
    {
     "data": {
      "text/plain": [
       "[0, 2, 4, 6, 8]"
      ]
     },
     "execution_count": 26,
     "metadata": {},
     "output_type": "execute_result"
    }
   ],
   "source": [
    "list(range(0,9,2))"
   ]
  },
  {
   "cell_type": "code",
   "execution_count": 27,
   "id": "7adcf3f1",
   "metadata": {},
   "outputs": [
    {
     "data": {
      "text/plain": [
       "[]"
      ]
     },
     "execution_count": 27,
     "metadata": {},
     "output_type": "execute_result"
    }
   ],
   "source": [
    "list(range(0,9,-1)) #isnce direction of step is in opposite direction\n"
   ]
  },
  {
   "cell_type": "code",
   "execution_count": 28,
   "id": "ad65e31e",
   "metadata": {},
   "outputs": [
    {
     "data": {
      "text/plain": [
       "[9, 8, 7, 6, 5, 4, 3, 2, 1]"
      ]
     },
     "execution_count": 28,
     "metadata": {},
     "output_type": "execute_result"
    }
   ],
   "source": [
    "list(range(9,0,-1))"
   ]
  },
  {
   "cell_type": "code",
   "execution_count": 29,
   "id": "6d7cf781",
   "metadata": {},
   "outputs": [
    {
     "name": "stdout",
     "output_type": "stream",
     "text": [
      "sudh \n",
      "\n",
      "sudh sudh \n",
      "\n",
      "sudh sudh sudh \n",
      "\n",
      "sudh sudh sudh sudh \n",
      "\n"
     ]
    }
   ],
   "source": [
    "n=4\n",
    "for i in range(4):\n",
    "    for j in range(0, i+1):\n",
    "        print(\"sudh\", end=\" \")\n",
    "    print(\"\\n\")\n",
    "        "
   ]
  },
  {
   "cell_type": "code",
   "execution_count": 39,
   "id": "c5341781",
   "metadata": {
    "scrolled": true
   },
   "outputs": [
    {
     "name": "stdout",
     "output_type": "stream",
     "text": [
      "          sudh \n",
      "\n",
      "     sudh sudh sudh \n",
      "\n",
      "sudh sudh sudh sudh sudh \n",
      "\n"
     ]
    }
   ],
   "source": [
    "n=3\n",
    "for i in range(n):\n",
    "    for j in range(i,n-1):\n",
    "        print(\" \"* len(\"sudh\"), end=\" \")\n",
    "    for j in range(i+1):\n",
    "        print(\"sudh\", end=\" \")\n",
    "    for j in range(i):\n",
    "        print(\"sudh\", end=\" \") \n",
    "    print(\"\\n\")\n",
    "    "
   ]
  },
  {
   "cell_type": "code",
   "execution_count": 47,
   "id": "8bbbe484",
   "metadata": {},
   "outputs": [
    {
     "data": {
      "text/plain": [
       "[0, 1, 2, 3, 4, 5, 6, 7]"
      ]
     },
     "execution_count": 47,
     "metadata": {},
     "output_type": "execute_result"
    }
   ],
   "source": [
    "list(range(len(t)))"
   ]
  },
  {
   "cell_type": "code",
   "execution_count": 40,
   "id": "716f70ef",
   "metadata": {},
   "outputs": [],
   "source": [
    "t=(3,23,45,67,2,4,5,6)"
   ]
  },
  {
   "cell_type": "code",
   "execution_count": 46,
   "id": "69f71df6",
   "metadata": {},
   "outputs": [
    {
     "name": "stdout",
     "output_type": "stream",
     "text": [
      "0 : 3\n",
      "1 : 23\n",
      "2 : 45\n",
      "3 : 67\n",
      "4 : 2\n",
      "5 : 4\n",
      "6 : 5\n",
      "7 : 6\n"
     ]
    }
   ],
   "source": [
    "for i in range(len(t)): #range can be used to produce index\n",
    "    print(i,\":\",t[i])"
   ]
  },
  {
   "cell_type": "code",
   "execution_count": 48,
   "id": "51a94589",
   "metadata": {},
   "outputs": [],
   "source": [
    "s=\"ineuron\""
   ]
  },
  {
   "cell_type": "code",
   "execution_count": 50,
   "id": "1c8d1eb0",
   "metadata": {},
   "outputs": [
    {
     "name": "stdout",
     "output_type": "stream",
     "text": [
      "0 : i\n",
      "1 : n\n",
      "2 : e\n",
      "3 : u\n",
      "4 : r\n",
      "5 : o\n",
      "6 : n\n"
     ]
    }
   ],
   "source": [
    "for i in range(len(s)):\n",
    "    print(i,\":\", s[i])"
   ]
  },
  {
   "cell_type": "code",
   "execution_count": 59,
   "id": "4ccd2e35",
   "metadata": {},
   "outputs": [
    {
     "data": {
      "text/plain": [
       "[6, 5, 4, 3, 2, 1, 0]"
      ]
     },
     "execution_count": 59,
     "metadata": {},
     "output_type": "execute_result"
    }
   ],
   "source": [
    "list(range(len(s)-1,-1,-1))"
   ]
  },
  {
   "cell_type": "code",
   "execution_count": 61,
   "id": "e99c538e",
   "metadata": {},
   "outputs": [
    {
     "name": "stdout",
     "output_type": "stream",
     "text": [
      "6 n\n",
      "5 o\n",
      "4 r\n",
      "3 u\n",
      "2 e\n",
      "1 n\n",
      "0 i\n"
     ]
    }
   ],
   "source": [
    "for i in range(len(s)-1,-1,-1):\n",
    "    print(i, s[i])"
   ]
  },
  {
   "cell_type": "code",
   "execution_count": 62,
   "id": "6178e596",
   "metadata": {},
   "outputs": [
    {
     "data": {
      "text/plain": [
       "{'key1': 'sudh', 'contact': 842346934, 'position': 'xyz'}"
      ]
     },
     "execution_count": 62,
     "metadata": {},
     "output_type": "execute_result"
    }
   ],
   "source": [
    "d\n"
   ]
  },
  {
   "cell_type": "code",
   "execution_count": 65,
   "id": "72376f29",
   "metadata": {},
   "outputs": [
    {
     "name": "stdout",
     "output_type": "stream",
     "text": [
      "('key1', 'sudh') <class 'tuple'> <class 'str'>\n",
      "('contact', 842346934) <class 'tuple'> <class 'int'>\n",
      "('position', 'xyz') <class 'tuple'> <class 'str'>\n"
     ]
    }
   ],
   "source": [
    "for i in d.items():\n",
    "    print(i, type(i), type(i[1]))"
   ]
  },
  {
   "cell_type": "code",
   "execution_count": 66,
   "id": "43f2567d",
   "metadata": {},
   "outputs": [],
   "source": [
    "l1=[\"sudh\",\"kumar\",7669696,\"s@gmail.com\",696,324823]"
   ]
  },
  {
   "cell_type": "code",
   "execution_count": 72,
   "id": "b2d77e1d",
   "metadata": {},
   "outputs": [
    {
     "name": "stdout",
     "output_type": "stream",
     "text": [
      "[7669696, 696, 324823]\n"
     ]
    }
   ],
   "source": [
    "l2=[]\n",
    "for i in l1:\n",
    "    if type(i)== int:\n",
    "        l2.append(i)\n",
    "print(l2)"
   ]
  },
  {
   "cell_type": "code",
   "execution_count": 73,
   "id": "cb65e96f",
   "metadata": {},
   "outputs": [],
   "source": [
    "d={1:32746276, \"name\":\"sudh\", \"email\":\"s@gmail.com\", 324324:\"ysda\", \"43\":\"ewf\",232:\"8423\"}"
   ]
  },
  {
   "cell_type": "code",
   "execution_count": 75,
   "id": "437a2de9",
   "metadata": {},
   "outputs": [
    {
     "name": "stdout",
     "output_type": "stream",
     "text": [
      "[1, 324324, 232]\n"
     ]
    }
   ],
   "source": [
    "l3=[]\n",
    "for i in d:\n",
    "    if type(i)== int:\n",
    "        l3.append(i)\n",
    "print(l3)"
   ]
  },
  {
   "cell_type": "code",
   "execution_count": 78,
   "id": "f1ba9eb6",
   "metadata": {},
   "outputs": [
    {
     "name": "stdout",
     "output_type": "stream",
     "text": [
      "1 : 32746276\n",
      "324324 : ysda\n",
      "232 : 8423\n"
     ]
    }
   ],
   "source": [
    "l3=[]\n",
    "for i in d:\n",
    "    if type(i)== int:\n",
    "     print(i,\":\",d[i])"
   ]
  },
  {
   "cell_type": "code",
   "execution_count": 83,
   "id": "aea08f82",
   "metadata": {},
   "outputs": [],
   "source": [
    "s=\"aaaabbccd\""
   ]
  },
  {
   "cell_type": "code",
   "execution_count": 85,
   "id": "9f38ca32",
   "metadata": {},
   "outputs": [
    {
     "name": "stdout",
     "output_type": "stream",
     "text": [
      "c : 2\n",
      "d : 1\n",
      "a : 4\n",
      "b : 2\n"
     ]
    }
   ],
   "source": [
    "for i in set(s):\n",
    "    print(i, \":\", s.count(i))"
   ]
  },
  {
   "cell_type": "code",
   "execution_count": 93,
   "id": "e41eadc8",
   "metadata": {},
   "outputs": [],
   "source": [
    "i=23423492492349235"
   ]
  },
  {
   "cell_type": "code",
   "execution_count": 96,
   "id": "78c0a4bf",
   "metadata": {},
   "outputs": [
    {
     "name": "stdout",
     "output_type": "stream",
     "text": [
      "2 <class 'int'>\n",
      "3 <class 'int'>\n",
      "4 <class 'int'>\n",
      "2 <class 'int'>\n",
      "3 <class 'int'>\n",
      "4 <class 'int'>\n",
      "9 <class 'int'>\n",
      "2 <class 'int'>\n",
      "4 <class 'int'>\n",
      "9 <class 'int'>\n",
      "2 <class 'int'>\n",
      "3 <class 'int'>\n",
      "4 <class 'int'>\n",
      "9 <class 'int'>\n",
      "2 <class 'int'>\n",
      "3 <class 'int'>\n",
      "5 <class 'int'>\n"
     ]
    }
   ],
   "source": [
    "for j in str(i): #int is not iterable\n",
    "    print(int(j), type(int(j)))"
   ]
  },
  {
   "cell_type": "code",
   "execution_count": 116,
   "id": "b14a2669",
   "metadata": {},
   "outputs": [],
   "source": [
    "t=(\"sudh\",\"kumar\",[1,2,3,4,5],(1,2,3,4,5),{3:3,\"key2\":324})"
   ]
  },
  {
   "cell_type": "code",
   "execution_count": 117,
   "id": "7b4e4170",
   "metadata": {},
   "outputs": [
    {
     "name": "stdout",
     "output_type": "stream",
     "text": [
      "3\n",
      "3\n",
      "3\n",
      "3\n"
     ]
    }
   ],
   "source": [
    "for i in t:\n",
    "    if type(i)== list or type(i)== tuple :\n",
    "        for j in i:\n",
    "            if j==3:\n",
    "                print(j)\n",
    "    if type(i)== dict:\n",
    "        for k,v in i.items():\n",
    "            if k== 3 or v==3:\n",
    "               print(v)\n",
    "               print(k)\n",
    "            \n",
    "     \n",
    "        "
   ]
  },
  {
   "cell_type": "code",
   "execution_count": 118,
   "id": "483bcfbf",
   "metadata": {},
   "outputs": [],
   "source": [
    "d={4:5,\"key1\":\"sudh\",\"key2\":\"kumar\"}"
   ]
  },
  {
   "cell_type": "code",
   "execution_count": 121,
   "id": "a0d850fb",
   "metadata": {},
   "outputs": [
    {
     "name": "stdout",
     "output_type": "stream",
     "text": [
      "(4, 5)\n",
      "('key1', 'sudh')\n",
      "('key2', 'kumar')\n"
     ]
    }
   ],
   "source": [
    "for i in d.items():\n",
    "    print(i)"
   ]
  },
  {
   "cell_type": "code",
   "execution_count": 122,
   "id": "c2499e7e",
   "metadata": {},
   "outputs": [
    {
     "name": "stdout",
     "output_type": "stream",
     "text": [
      "4 5\n",
      "key1 sudh\n",
      "key2 kumar\n"
     ]
    }
   ],
   "source": [
    "for i,j in d.items():\n",
    "    print(i,j)"
   ]
  },
  {
   "cell_type": "code",
   "execution_count": null,
   "id": "27796866",
   "metadata": {},
   "outputs": [],
   "source": []
  }
 ],
 "metadata": {
  "kernelspec": {
   "display_name": "Python 3 (ipykernel)",
   "language": "python",
   "name": "python3"
  },
  "language_info": {
   "codemirror_mode": {
    "name": "ipython",
    "version": 3
   },
   "file_extension": ".py",
   "mimetype": "text/x-python",
   "name": "python",
   "nbconvert_exporter": "python",
   "pygments_lexer": "ipython3",
   "version": "3.9.12"
  }
 },
 "nbformat": 4,
 "nbformat_minor": 5
}
