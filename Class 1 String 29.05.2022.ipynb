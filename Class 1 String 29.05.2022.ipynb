{
 "cells": [
  {
   "cell_type": "code",
   "execution_count": 1,
   "id": "bc0082a0",
   "metadata": {},
   "outputs": [],
   "source": [
    "s='ineuron'"
   ]
  },
  {
   "cell_type": "code",
   "execution_count": 2,
   "id": "50228bec",
   "metadata": {},
   "outputs": [
    {
     "data": {
      "text/plain": [
       "str"
      ]
     },
     "execution_count": 2,
     "metadata": {},
     "output_type": "execute_result"
    }
   ],
   "source": [
    "type(s)"
   ]
  },
  {
   "cell_type": "code",
   "execution_count": 3,
   "id": "60827fdb",
   "metadata": {},
   "outputs": [
    {
     "data": {
      "text/plain": [
       "'i'"
      ]
     },
     "execution_count": 3,
     "metadata": {},
     "output_type": "execute_result"
    }
   ],
   "source": [
    "s[0]"
   ]
  },
  {
   "cell_type": "code",
   "execution_count": 4,
   "id": "25d739eb",
   "metadata": {},
   "outputs": [
    {
     "data": {
      "text/plain": [
       "'o'"
      ]
     },
     "execution_count": 4,
     "metadata": {},
     "output_type": "execute_result"
    }
   ],
   "source": [
    "s[5]"
   ]
  },
  {
   "cell_type": "code",
   "execution_count": 5,
   "id": "f7d6782a",
   "metadata": {},
   "outputs": [
    {
     "data": {
      "text/plain": [
       "'n'"
      ]
     },
     "execution_count": 5,
     "metadata": {},
     "output_type": "execute_result"
    }
   ],
   "source": [
    "s[-1]"
   ]
  },
  {
   "cell_type": "code",
   "execution_count": 6,
   "id": "ca36a3bf",
   "metadata": {},
   "outputs": [],
   "source": [
    "s1=\"subh\""
   ]
  },
  {
   "cell_type": "code",
   "execution_count": 7,
   "id": "fc799944",
   "metadata": {},
   "outputs": [
    {
     "data": {
      "text/plain": [
       "'b'"
      ]
     },
     "execution_count": 7,
     "metadata": {},
     "output_type": "execute_result"
    }
   ],
   "source": [
    "s1[-2]"
   ]
  },
  {
   "cell_type": "code",
   "execution_count": 9,
   "id": "0145d4ad",
   "metadata": {},
   "outputs": [],
   "source": [
    "s2=\"this is my very first programming class\""
   ]
  },
  {
   "cell_type": "code",
   "execution_count": 10,
   "id": "504b60e6",
   "metadata": {},
   "outputs": [
    {
     "data": {
      "text/plain": [
       "'m'"
      ]
     },
     "execution_count": 10,
     "metadata": {},
     "output_type": "execute_result"
    }
   ],
   "source": [
    "s2[8]"
   ]
  },
  {
   "cell_type": "code",
   "execution_count": 11,
   "id": "cad0621f",
   "metadata": {},
   "outputs": [
    {
     "data": {
      "text/plain": [
       "'his '"
      ]
     },
     "execution_count": 11,
     "metadata": {},
     "output_type": "execute_result"
    }
   ],
   "source": [
    "s2[1:5]"
   ]
  },
  {
   "cell_type": "code",
   "execution_count": 12,
   "id": "ece526a3",
   "metadata": {},
   "outputs": [
    {
     "data": {
      "text/plain": [
       "'s my very first programm'"
      ]
     },
     "execution_count": 12,
     "metadata": {},
     "output_type": "execute_result"
    }
   ],
   "source": [
    "s2[6:30]"
   ]
  },
  {
   "cell_type": "code",
   "execution_count": 13,
   "id": "1a103dd3",
   "metadata": {},
   "outputs": [
    {
     "data": {
      "text/plain": [
       "'sm eyfrtporm'"
      ]
     },
     "execution_count": 13,
     "metadata": {},
     "output_type": "execute_result"
    }
   ],
   "source": [
    "s2[6:30:2]"
   ]
  },
  {
   "cell_type": "code",
   "execution_count": 14,
   "id": "e5174eb4",
   "metadata": {},
   "outputs": [
    {
     "data": {
      "text/plain": [
       "'sye r oai a'"
      ]
     },
     "execution_count": 14,
     "metadata": {},
     "output_type": "execute_result"
    }
   ],
   "source": [
    "s2[6::3]"
   ]
  },
  {
   "cell_type": "code",
   "execution_count": 15,
   "id": "a84b5d47",
   "metadata": {},
   "outputs": [],
   "source": [
    "s=\"shudhanshu\""
   ]
  },
  {
   "cell_type": "code",
   "execution_count": 16,
   "id": "5ebf3504",
   "metadata": {},
   "outputs": [
    {
     "data": {
      "text/plain": [
       "'shudhansh'"
      ]
     },
     "execution_count": 16,
     "metadata": {},
     "output_type": "execute_result"
    }
   ],
   "source": [
    "s[0:9:1]"
   ]
  },
  {
   "cell_type": "code",
   "execution_count": 17,
   "id": "6caf561e",
   "metadata": {},
   "outputs": [
    {
     "data": {
      "text/plain": [
       "''"
      ]
     },
     "execution_count": 17,
     "metadata": {},
     "output_type": "execute_result"
    }
   ],
   "source": [
    "s[0:8:-1]"
   ]
  },
  {
   "cell_type": "code",
   "execution_count": 18,
   "id": "f52b648f",
   "metadata": {},
   "outputs": [
    {
     "data": {
      "text/plain": [
       "'hsnahduh'"
      ]
     },
     "execution_count": 18,
     "metadata": {},
     "output_type": "execute_result"
    }
   ],
   "source": [
    " s[8:0:-1]"
   ]
  },
  {
   "cell_type": "code",
   "execution_count": 19,
   "id": "96af95dc",
   "metadata": {},
   "outputs": [
    {
     "data": {
      "text/plain": [
       "'hnhu'"
      ]
     },
     "execution_count": 19,
     "metadata": {},
     "output_type": "execute_result"
    }
   ],
   "source": [
    "s[8:0:-2]"
   ]
  },
  {
   "cell_type": "code",
   "execution_count": 20,
   "id": "2db9311a",
   "metadata": {},
   "outputs": [
    {
     "data": {
      "text/plain": [
       "'shudhan'"
      ]
     },
     "execution_count": 20,
     "metadata": {},
     "output_type": "execute_result"
    }
   ],
   "source": [
    "s[:-3]"
   ]
  },
  {
   "cell_type": "code",
   "execution_count": 21,
   "id": "c7318797",
   "metadata": {},
   "outputs": [
    {
     "data": {
      "text/plain": [
       "'hu'"
      ]
     },
     "execution_count": 21,
     "metadata": {},
     "output_type": "execute_result"
    }
   ],
   "source": [
    "s[-2:]"
   ]
  },
  {
   "cell_type": "code",
   "execution_count": 22,
   "id": "9cfd7e25",
   "metadata": {},
   "outputs": [
    {
     "data": {
      "text/plain": [
       "'shudhanshu'"
      ]
     },
     "execution_count": 22,
     "metadata": {},
     "output_type": "execute_result"
    }
   ],
   "source": [
    "s[::1]"
   ]
  },
  {
   "cell_type": "code",
   "execution_count": 23,
   "id": "e035bbbc",
   "metadata": {},
   "outputs": [
    {
     "data": {
      "text/plain": [
       "'uhsnahduhs'"
      ]
     },
     "execution_count": 23,
     "metadata": {},
     "output_type": "execute_result"
    }
   ],
   "source": [
    "s[::-1]"
   ]
  },
  {
   "cell_type": "code",
   "execution_count": 24,
   "id": "a37e9bb9",
   "metadata": {},
   "outputs": [
    {
     "data": {
      "text/plain": [
       "'ssalc gnimmargorp tsrif yrev ym si siht'"
      ]
     },
     "execution_count": 24,
     "metadata": {},
     "output_type": "execute_result"
    }
   ],
   "source": [
    "s2[::-1]"
   ]
  },
  {
   "cell_type": "code",
   "execution_count": 25,
   "id": "b7b79a82",
   "metadata": {},
   "outputs": [],
   "source": [
    "s3=\"ineuron\""
   ]
  },
  {
   "cell_type": "code",
   "execution_count": 26,
   "id": "fba91771",
   "metadata": {},
   "outputs": [
    {
     "data": {
      "text/plain": [
       "'norueni'"
      ]
     },
     "execution_count": 26,
     "metadata": {},
     "output_type": "execute_result"
    }
   ],
   "source": [
    "s3[::-1]"
   ]
  },
  {
   "cell_type": "code",
   "execution_count": 27,
   "id": "b6db0f22",
   "metadata": {},
   "outputs": [
    {
     "data": {
      "text/plain": [
       "''"
      ]
     },
     "execution_count": 27,
     "metadata": {},
     "output_type": "execute_result"
    }
   ],
   "source": [
    "s3[-3:-7:1]"
   ]
  },
  {
   "cell_type": "code",
   "execution_count": 28,
   "id": "ffb0da97",
   "metadata": {},
   "outputs": [
    {
     "data": {
      "text/plain": [
       "'ineur'"
      ]
     },
     "execution_count": 28,
     "metadata": {},
     "output_type": "execute_result"
    }
   ],
   "source": [
    "s3[-7:-2:1]"
   ]
  },
  {
   "cell_type": "code",
   "execution_count": 29,
   "id": "c12d1493",
   "metadata": {},
   "outputs": [
    {
     "data": {
      "text/plain": [
       "''"
      ]
     },
     "execution_count": 29,
     "metadata": {},
     "output_type": "execute_result"
    }
   ],
   "source": [
    "s[:-1:-1]"
   ]
  },
  {
   "cell_type": "code",
   "execution_count": 30,
   "id": "523bb769",
   "metadata": {},
   "outputs": [],
   "source": [
    "s=\"shudhanshu\""
   ]
  },
  {
   "cell_type": "code",
   "execution_count": 34,
   "id": "635e16c2",
   "metadata": {},
   "outputs": [
    {
     "data": {
      "text/plain": [
       "'shudhanshu1'"
      ]
     },
     "execution_count": 34,
     "metadata": {},
     "output_type": "execute_result"
    }
   ],
   "source": [
    "s + str(1)"
   ]
  },
  {
   "cell_type": "code",
   "execution_count": 35,
   "id": "8d6764e0",
   "metadata": {},
   "outputs": [
    {
     "data": {
      "text/plain": [
       "10"
      ]
     },
     "execution_count": 35,
     "metadata": {},
     "output_type": "execute_result"
    }
   ],
   "source": [
    "len(s)"
   ]
  },
  {
   "cell_type": "code",
   "execution_count": 38,
   "id": "0c30177b",
   "metadata": {},
   "outputs": [
    {
     "data": {
      "text/plain": [
       "'shudhanshushudhanshushudhanshu'"
      ]
     },
     "execution_count": 38,
     "metadata": {},
     "output_type": "execute_result"
    }
   ],
   "source": [
    "s* 3"
   ]
  },
  {
   "cell_type": "code",
   "execution_count": 41,
   "id": "ec434454",
   "metadata": {},
   "outputs": [
    {
     "data": {
      "text/plain": [
       "1"
      ]
     },
     "execution_count": 41,
     "metadata": {},
     "output_type": "execute_result"
    }
   ],
   "source": [
    "s.count(\"dh\")"
   ]
  },
  {
   "cell_type": "code",
   "execution_count": 42,
   "id": "779ae69e",
   "metadata": {},
   "outputs": [
    {
     "data": {
      "text/plain": [
       "['sh', 'dhansh', '']"
      ]
     },
     "execution_count": 42,
     "metadata": {},
     "output_type": "execute_result"
    }
   ],
   "source": [
    "s.split(\"u\")"
   ]
  },
  {
   "cell_type": "code",
   "execution_count": 43,
   "id": "86cd4f32",
   "metadata": {},
   "outputs": [],
   "source": [
    "sw=\"At the start of the war in 2014, Russia invaded and annexed Crimea, and Russian-backed separatists seized part of the Donbas, the south-eastern region of Ukraine (consisting of Luhansk and Donetsk oblasts), sparking a regional war.[21][22] In 2021, Russia began a large military build-up along its border with Ukraine, amassing up to 190,000 troops and their equipment. In a televised address shortly before the invasion, Russian president Vladimir Putin espoused irredentist views,[23] challenged Ukraine's right to statehood,[24][25] and falsely[26] accused Ukraine of being governed by neo-Nazis who persecute the ethnic Russian minority.[27] Putin also alleged that eastward expansion by the North Atlantic Treaty Organization (NATO) threatens Russia's national security, something NATO has disputed.[28] Russia demanded NATO stop expanding and permanently bar Ukraine from ever joining the alliance.[29] Multiple nations accused Russia of planning to attack or invade Ukraine, which Russian officials repeatedly denied as late as 23 February 2022.[33]\""
   ]
  },
  {
   "cell_type": "code",
   "execution_count": 44,
   "id": "375fec50",
   "metadata": {},
   "outputs": [
    {
     "data": {
      "text/plain": [
       "\"At the start of the war in 2014, Russia invaded and annexed Crimea, and Russian-backed separatists seized part of the Donbas, the south-eastern region of Ukraine (consisting of Luhansk and Donetsk oblasts), sparking a regional war.[21][22] In 2021, Russia began a large military build-up along its border with Ukraine, amassing up to 190,000 troops and their equipment. In a televised address shortly before the invasion, Russian president Vladimir Putin espoused irredentist views,[23] challenged Ukraine's right to statehood,[24][25] and falsely[26] accused Ukraine of being governed by neo-Nazis who persecute the ethnic Russian minority.[27] Putin also alleged that eastward expansion by the North Atlantic Treaty Organization (NATO) threatens Russia's national security, something NATO has disputed.[28] Russia demanded NATO stop expanding and permanently bar Ukraine from ever joining the alliance.[29] Multiple nations accused Russia of planning to attack or invade Ukraine, which Russian officials repeatedly denied as late as 23 February 2022.[33]\""
      ]
     },
     "execution_count": 44,
     "metadata": {},
     "output_type": "execute_result"
    }
   ],
   "source": [
    "sw"
   ]
  },
  {
   "cell_type": "code",
   "execution_count": 45,
   "id": "06e41a59",
   "metadata": {},
   "outputs": [
    {
     "data": {
      "text/plain": [
       "['At',\n",
       " 'the',\n",
       " 'start',\n",
       " 'of',\n",
       " 'the',\n",
       " 'war',\n",
       " 'in',\n",
       " '2014,',\n",
       " 'Russia',\n",
       " 'invaded',\n",
       " 'and',\n",
       " 'annexed',\n",
       " 'Crimea,',\n",
       " 'and',\n",
       " 'Russian-backed',\n",
       " 'separatists',\n",
       " 'seized',\n",
       " 'part',\n",
       " 'of',\n",
       " 'the',\n",
       " 'Donbas,',\n",
       " 'the',\n",
       " 'south-eastern',\n",
       " 'region',\n",
       " 'of',\n",
       " 'Ukraine',\n",
       " '(consisting',\n",
       " 'of',\n",
       " 'Luhansk',\n",
       " 'and',\n",
       " 'Donetsk',\n",
       " 'oblasts),',\n",
       " 'sparking',\n",
       " 'a',\n",
       " 'regional',\n",
       " 'war.[21][22]',\n",
       " 'In',\n",
       " '2021,',\n",
       " 'Russia',\n",
       " 'began',\n",
       " 'a',\n",
       " 'large',\n",
       " 'military',\n",
       " 'build-up',\n",
       " 'along',\n",
       " 'its',\n",
       " 'border',\n",
       " 'with',\n",
       " 'Ukraine,',\n",
       " 'amassing',\n",
       " 'up',\n",
       " 'to',\n",
       " '190,000',\n",
       " 'troops',\n",
       " 'and',\n",
       " 'their',\n",
       " 'equipment.',\n",
       " 'In',\n",
       " 'a',\n",
       " 'televised',\n",
       " 'address',\n",
       " 'shortly',\n",
       " 'before',\n",
       " 'the',\n",
       " 'invasion,',\n",
       " 'Russian',\n",
       " 'president',\n",
       " 'Vladimir',\n",
       " 'Putin',\n",
       " 'espoused',\n",
       " 'irredentist',\n",
       " 'views,[23]',\n",
       " 'challenged',\n",
       " \"Ukraine's\",\n",
       " 'right',\n",
       " 'to',\n",
       " 'statehood,[24][25]',\n",
       " 'and',\n",
       " 'falsely[26]',\n",
       " 'accused',\n",
       " 'Ukraine',\n",
       " 'of',\n",
       " 'being',\n",
       " 'governed',\n",
       " 'by',\n",
       " 'neo-Nazis',\n",
       " 'who',\n",
       " 'persecute',\n",
       " 'the',\n",
       " 'ethnic',\n",
       " 'Russian',\n",
       " 'minority.[27]',\n",
       " 'Putin',\n",
       " 'also',\n",
       " 'alleged',\n",
       " 'that',\n",
       " 'eastward',\n",
       " 'expansion',\n",
       " 'by',\n",
       " 'the',\n",
       " 'North',\n",
       " 'Atlantic',\n",
       " 'Treaty',\n",
       " 'Organization',\n",
       " '(NATO)',\n",
       " 'threatens',\n",
       " \"Russia's\",\n",
       " 'national',\n",
       " 'security,',\n",
       " 'something',\n",
       " 'NATO',\n",
       " 'has',\n",
       " 'disputed.[28]',\n",
       " 'Russia',\n",
       " 'demanded',\n",
       " 'NATO',\n",
       " 'stop',\n",
       " 'expanding',\n",
       " 'and',\n",
       " 'permanently',\n",
       " 'bar',\n",
       " 'Ukraine',\n",
       " 'from',\n",
       " 'ever',\n",
       " 'joining',\n",
       " 'the',\n",
       " 'alliance.[29]',\n",
       " 'Multiple',\n",
       " 'nations',\n",
       " 'accused',\n",
       " 'Russia',\n",
       " 'of',\n",
       " 'planning',\n",
       " 'to',\n",
       " 'attack',\n",
       " 'or',\n",
       " 'invade',\n",
       " 'Ukraine,',\n",
       " 'which',\n",
       " 'Russian',\n",
       " 'officials',\n",
       " 'repeatedly',\n",
       " 'denied',\n",
       " 'as',\n",
       " 'late',\n",
       " 'as',\n",
       " '23',\n",
       " 'February',\n",
       " '2022.[33]']"
      ]
     },
     "execution_count": 45,
     "metadata": {},
     "output_type": "execute_result"
    }
   ],
   "source": [
    "sw.split(\" \")"
   ]
  },
  {
   "cell_type": "code",
   "execution_count": 46,
   "id": "82af566f",
   "metadata": {},
   "outputs": [
    {
     "data": {
      "text/plain": [
       "\"AT THE START OF THE WAR IN 2014, RUSSIA INVADED AND ANNEXED CRIMEA, AND RUSSIAN-BACKED SEPARATISTS SEIZED PART OF THE DONBAS, THE SOUTH-EASTERN REGION OF UKRAINE (CONSISTING OF LUHANSK AND DONETSK OBLASTS), SPARKING A REGIONAL WAR.[21][22] IN 2021, RUSSIA BEGAN A LARGE MILITARY BUILD-UP ALONG ITS BORDER WITH UKRAINE, AMASSING UP TO 190,000 TROOPS AND THEIR EQUIPMENT. IN A TELEVISED ADDRESS SHORTLY BEFORE THE INVASION, RUSSIAN PRESIDENT VLADIMIR PUTIN ESPOUSED IRREDENTIST VIEWS,[23] CHALLENGED UKRAINE'S RIGHT TO STATEHOOD,[24][25] AND FALSELY[26] ACCUSED UKRAINE OF BEING GOVERNED BY NEO-NAZIS WHO PERSECUTE THE ETHNIC RUSSIAN MINORITY.[27] PUTIN ALSO ALLEGED THAT EASTWARD EXPANSION BY THE NORTH ATLANTIC TREATY ORGANIZATION (NATO) THREATENS RUSSIA'S NATIONAL SECURITY, SOMETHING NATO HAS DISPUTED.[28] RUSSIA DEMANDED NATO STOP EXPANDING AND PERMANENTLY BAR UKRAINE FROM EVER JOINING THE ALLIANCE.[29] MULTIPLE NATIONS ACCUSED RUSSIA OF PLANNING TO ATTACK OR INVADE UKRAINE, WHICH RUSSIAN OFFICIALS REPEATEDLY DENIED AS LATE AS 23 FEBRUARY 2022.[33]\""
      ]
     },
     "execution_count": 46,
     "metadata": {},
     "output_type": "execute_result"
    }
   ],
   "source": [
    "sw.upper()"
   ]
  },
  {
   "cell_type": "code",
   "execution_count": 47,
   "id": "5ba41521",
   "metadata": {},
   "outputs": [
    {
     "data": {
      "text/plain": [
       "\"at the start of the war in 2014, russia invaded and annexed crimea, and russian-backed separatists seized part of the donbas, the south-eastern region of ukraine (consisting of luhansk and donetsk oblasts), sparking a regional war.[21][22] in 2021, russia began a large military build-up along its border with ukraine, amassing up to 190,000 troops and their equipment. in a televised address shortly before the invasion, russian president vladimir putin espoused irredentist views,[23] challenged ukraine's right to statehood,[24][25] and falsely[26] accused ukraine of being governed by neo-nazis who persecute the ethnic russian minority.[27] putin also alleged that eastward expansion by the north atlantic treaty organization (nato) threatens russia's national security, something nato has disputed.[28] russia demanded nato stop expanding and permanently bar ukraine from ever joining the alliance.[29] multiple nations accused russia of planning to attack or invade ukraine, which russian officials repeatedly denied as late as 23 february 2022.[33]\""
      ]
     },
     "execution_count": 47,
     "metadata": {},
     "output_type": "execute_result"
    }
   ],
   "source": [
    "sw.lower()"
   ]
  },
  {
   "cell_type": "code",
   "execution_count": 48,
   "id": "1ce0c6d2",
   "metadata": {},
   "outputs": [
    {
     "data": {
      "text/plain": [
       "\"AT THE START OF THE WAR IN 2014, RUSSIA INVADED AND ANNEXED CRIMEA, AND RUSSIAN-BACKED SEPARATISTS SEIZED PART OF THE DONBAS, THE SOUTH-EASTERN REGION OF UKRAINE (CONSISTING OF LUHANSK AND DONETSK OBLASTS), SPARKING A REGIONAL WAR.[21][22] IN 2021, RUSSIA BEGAN A LARGE MILITARY BUILD-UP ALONG ITS BORDER WITH UKRAINE, AMASSING UP TO 190,000 TROOPS AND THEIR EQUIPMENT. IN A TELEVISED ADDRESS SHORTLY BEFORE THE INVASION, RUSSIAN PRESIDENT VLADIMIR PUTIN ESPOUSED IRREDENTIST VIEWS,[23] CHALLENGED UKRAINE'S RIGHT TO STATEHOOD,[24][25] AND FALSELY[26] ACCUSED UKRAINE OF BEING GOVERNED BY NEO-NAZIS WHO PERSECUTE THE ETHNIC RUSSIAN MINORITY.[27] PUTIN ALSO ALLEGED THAT EASTWARD EXPANSION BY THE NORTH ATLANTIC TREATY ORGANIZATION (NATO) THREATENS RUSSIA'S NATIONAL SECURITY, SOMETHING NATO HAS DISPUTED.[28] RUSSIA DEMANDED NATO STOP EXPANDING AND PERMANENTLY BAR UKRAINE FROM EVER JOINING THE ALLIANCE.[29] MULTIPLE NATIONS ACCUSED RUSSIA OF PLANNING TO ATTACK OR INVADE UKRAINE, WHICH RUSSIAN OFFICIALS REPEATEDLY DENIED AS LATE AS 23 FEBRUARY 2022.[33]\""
      ]
     },
     "execution_count": 48,
     "metadata": {},
     "output_type": "execute_result"
    }
   ],
   "source": [
    "sw.upper()"
   ]
  },
  {
   "cell_type": "code",
   "execution_count": 49,
   "id": "5d94b8be",
   "metadata": {},
   "outputs": [
    {
     "data": {
      "text/plain": [
       "\"at the start of the war in 2014, russia invaded and annexed crimea, and russian-backed separatists seized part of the donbas, the south-eastern region of ukraine (consisting of luhansk and donetsk oblasts), sparking a regional war.[21][22] in 2021, russia began a large military build-up along its border with ukraine, amassing up to 190,000 troops and their equipment. in a televised address shortly before the invasion, russian president vladimir putin espoused irredentist views,[23] challenged ukraine's right to statehood,[24][25] and falsely[26] accused ukraine of being governed by neo-nazis who persecute the ethnic russian minority.[27] putin also alleged that eastward expansion by the north atlantic treaty organization (nato) threatens russia's national security, something nato has disputed.[28] russia demanded nato stop expanding and permanently bar ukraine from ever joining the alliance.[29] multiple nations accused russia of planning to attack or invade ukraine, which russian officials repeatedly denied as late as 23 february 2022.[33]\""
      ]
     },
     "execution_count": 49,
     "metadata": {},
     "output_type": "execute_result"
    }
   ],
   "source": [
    "sw.lower()"
   ]
  },
  {
   "cell_type": "code",
   "execution_count": 59,
   "id": "c5214898",
   "metadata": {},
   "outputs": [],
   "source": [
    "s=\"sudhanshu kuMAR\""
   ]
  },
  {
   "cell_type": "code",
   "execution_count": 60,
   "id": "5f68a569",
   "metadata": {},
   "outputs": [
    {
     "data": {
      "text/plain": [
       "'Sudhanshu Kumar'"
      ]
     },
     "execution_count": 60,
     "metadata": {},
     "output_type": "execute_result"
    }
   ],
   "source": [
    "s.title()"
   ]
  },
  {
   "cell_type": "code",
   "execution_count": 61,
   "id": "b540157f",
   "metadata": {},
   "outputs": [
    {
     "data": {
      "text/plain": [
       "'Sudhanshu kumar'"
      ]
     },
     "execution_count": 61,
     "metadata": {},
     "output_type": "execute_result"
    }
   ],
   "source": [
    "s.capitalize()"
   ]
  },
  {
   "cell_type": "code",
   "execution_count": 62,
   "id": "c9634b70",
   "metadata": {},
   "outputs": [
    {
     "data": {
      "text/plain": [
       "'SUDHANSHU KUmar'"
      ]
     },
     "execution_count": 62,
     "metadata": {},
     "output_type": "execute_result"
    }
   ],
   "source": [
    "s.swapcase()"
   ]
  },
  {
   "cell_type": "code",
   "execution_count": 64,
   "id": "c49b0c4e",
   "metadata": {},
   "outputs": [
    {
     "data": {
      "text/plain": [
       "'RAMuk uhsnahdus'"
      ]
     },
     "execution_count": 64,
     "metadata": {},
     "output_type": "execute_result"
    }
   ],
   "source": [
    "''.join(reversed(s))"
   ]
  },
  {
   "cell_type": "code",
   "execution_count": 65,
   "id": "6710ee37",
   "metadata": {},
   "outputs": [
    {
     "data": {
      "text/plain": [
       "'RAMuk uhsnahdus'"
      ]
     },
     "execution_count": 65,
     "metadata": {},
     "output_type": "execute_result"
    }
   ],
   "source": [
    "s[::-1]"
   ]
  },
  {
   "cell_type": "code",
   "execution_count": 73,
   "id": "fd6df875",
   "metadata": {},
   "outputs": [],
   "source": [
    "s=\"ram\""
   ]
  },
  {
   "cell_type": "code",
   "execution_count": 74,
   "id": "3c572622",
   "metadata": {},
   "outputs": [
    {
     "data": {
      "text/plain": [
       "'ram'"
      ]
     },
     "execution_count": 74,
     "metadata": {},
     "output_type": "execute_result"
    }
   ],
   "source": [
    "s.strip()"
   ]
  },
  {
   "cell_type": "code",
   "execution_count": 75,
   "id": "5ea21c1c",
   "metadata": {},
   "outputs": [
    {
     "data": {
      "text/plain": [
       "'ram'"
      ]
     },
     "execution_count": 75,
     "metadata": {},
     "output_type": "execute_result"
    }
   ],
   "source": [
    "s.lstrip()"
   ]
  },
  {
   "cell_type": "code",
   "execution_count": 76,
   "id": "4332a105",
   "metadata": {},
   "outputs": [
    {
     "data": {
      "text/plain": [
       "'ram'"
      ]
     },
     "execution_count": 76,
     "metadata": {},
     "output_type": "execute_result"
    }
   ],
   "source": [
    "s.rstrip()"
   ]
  },
  {
   "cell_type": "code",
   "execution_count": 77,
   "id": "297699b3",
   "metadata": {},
   "outputs": [
    {
     "data": {
      "text/plain": [
       "'s * h * u * d * h * a * n * s * h * u'"
      ]
     },
     "execution_count": 77,
     "metadata": {},
     "output_type": "execute_result"
    }
   ],
   "source": [
    "\" * \".join(\"shudhanshu\")"
   ]
  },
  {
   "cell_type": "code",
   "execution_count": 79,
   "id": "e82a6fa2",
   "metadata": {},
   "outputs": [
    {
     "data": {
      "text/plain": [
       "'zzzzzzzzramzzzzzzzzz'"
      ]
     },
     "execution_count": 79,
     "metadata": {},
     "output_type": "execute_result"
    }
   ],
   "source": [
    "s.center(20,'z')"
   ]
  },
  {
   "cell_type": "code",
   "execution_count": 80,
   "id": "9ad864c5",
   "metadata": {},
   "outputs": [],
   "source": [
    "s=\"sudhanshu\""
   ]
  },
  {
   "cell_type": "code",
   "execution_count": 81,
   "id": "1c508f51",
   "metadata": {},
   "outputs": [
    {
     "data": {
      "text/plain": [
       "False"
      ]
     },
     "execution_count": 81,
     "metadata": {},
     "output_type": "execute_result"
    }
   ],
   "source": [
    "s.isupper()"
   ]
  },
  {
   "cell_type": "code",
   "execution_count": 82,
   "id": "c2ef1f59",
   "metadata": {},
   "outputs": [],
   "source": [
    "s=\"SUDH\""
   ]
  },
  {
   "cell_type": "code",
   "execution_count": 83,
   "id": "4f9bf596",
   "metadata": {},
   "outputs": [
    {
     "data": {
      "text/plain": [
       "False"
      ]
     },
     "execution_count": 83,
     "metadata": {},
     "output_type": "execute_result"
    }
   ],
   "source": [
    "s.islower()"
   ]
  },
  {
   "cell_type": "code",
   "execution_count": 84,
   "id": "e6bdb322",
   "metadata": {},
   "outputs": [
    {
     "data": {
      "text/plain": [
       "False"
      ]
     },
     "execution_count": 84,
     "metadata": {},
     "output_type": "execute_result"
    }
   ],
   "source": [
    "s.islower()"
   ]
  },
  {
   "cell_type": "code",
   "execution_count": 85,
   "id": "0cb46bf2",
   "metadata": {},
   "outputs": [
    {
     "data": {
      "text/plain": [
       "False"
      ]
     },
     "execution_count": 85,
     "metadata": {},
     "output_type": "execute_result"
    }
   ],
   "source": [
    "s.isspace()"
   ]
  },
  {
   "cell_type": "code",
   "execution_count": 86,
   "id": "60836437",
   "metadata": {},
   "outputs": [],
   "source": [
    "s4=\"  \""
   ]
  },
  {
   "cell_type": "code",
   "execution_count": 87,
   "id": "491aa709",
   "metadata": {},
   "outputs": [
    {
     "data": {
      "text/plain": [
       "True"
      ]
     },
     "execution_count": 87,
     "metadata": {},
     "output_type": "execute_result"
    }
   ],
   "source": [
    "s4.isspace()"
   ]
  },
  {
   "cell_type": "code",
   "execution_count": 88,
   "id": "abf2ac44",
   "metadata": {},
   "outputs": [
    {
     "data": {
      "text/plain": [
       "False"
      ]
     },
     "execution_count": 88,
     "metadata": {},
     "output_type": "execute_result"
    }
   ],
   "source": [
    "s.isdigit()"
   ]
  },
  {
   "cell_type": "code",
   "execution_count": 91,
   "id": "6fe3d92f",
   "metadata": {},
   "outputs": [],
   "source": [
    "s5=\"32831\""
   ]
  },
  {
   "cell_type": "code",
   "execution_count": 92,
   "id": "36a23cdb",
   "metadata": {},
   "outputs": [
    {
     "data": {
      "text/plain": [
       "True"
      ]
     },
     "execution_count": 92,
     "metadata": {},
     "output_type": "execute_result"
    }
   ],
   "source": [
    "s5.isdigit()"
   ]
  },
  {
   "cell_type": "code",
   "execution_count": 95,
   "id": "98afcba8",
   "metadata": {},
   "outputs": [],
   "source": [
    "s=\"jncsc\""
   ]
  },
  {
   "cell_type": "code",
   "execution_count": 96,
   "id": "a31e8916",
   "metadata": {},
   "outputs": [
    {
     "data": {
      "text/plain": [
       "True"
      ]
     },
     "execution_count": 96,
     "metadata": {},
     "output_type": "execute_result"
    }
   ],
   "source": [
    "s.isalnum()"
   ]
  },
  {
   "cell_type": "code",
   "execution_count": 105,
   "id": "b11b60fe",
   "metadata": {},
   "outputs": [],
   "source": [
    "s=\"shudhanshu    \""
   ]
  },
  {
   "cell_type": "code",
   "execution_count": 106,
   "id": "aa29f91a",
   "metadata": {},
   "outputs": [
    {
     "data": {
      "text/plain": [
       "False"
      ]
     },
     "execution_count": 106,
     "metadata": {},
     "output_type": "execute_result"
    }
   ],
   "source": [
    "s.endswith(\"u\")"
   ]
  },
  {
   "cell_type": "code",
   "execution_count": 107,
   "id": "31042d5f",
   "metadata": {},
   "outputs": [
    {
     "data": {
      "text/plain": [
       "False"
      ]
     },
     "execution_count": 107,
     "metadata": {},
     "output_type": "execute_result"
    }
   ],
   "source": [
    "s.startswith(\"p\")"
   ]
  },
  {
   "cell_type": "code",
   "execution_count": 109,
   "id": "70819881",
   "metadata": {},
   "outputs": [
    {
     "data": {
      "text/plain": [
       "'shudhanshu'"
      ]
     },
     "execution_count": 109,
     "metadata": {},
     "output_type": "execute_result"
    }
   ],
   "source": [
    "s.strip()"
   ]
  },
  {
   "cell_type": "code",
   "execution_count": 111,
   "id": "3d8c0def",
   "metadata": {},
   "outputs": [
    {
     "data": {
      "text/plain": [
       "['s', 'ud', 'ans', 'u    ']"
      ]
     },
     "execution_count": 111,
     "metadata": {},
     "output_type": "execute_result"
    }
   ],
   "source": [
    "s.split(\"h\")"
   ]
  },
  {
   "cell_type": "code",
   "execution_count": 112,
   "id": "7b936c64",
   "metadata": {},
   "outputs": [
    {
     "data": {
      "text/plain": [
       "True"
      ]
     },
     "execution_count": 112,
     "metadata": {},
     "output_type": "execute_result"
    }
   ],
   "source": [
    "s.isascii()"
   ]
  },
  {
   "cell_type": "code",
   "execution_count": 113,
   "id": "11b21081",
   "metadata": {},
   "outputs": [],
   "source": [
    "s=\"qwid123 \""
   ]
  },
  {
   "cell_type": "code",
   "execution_count": 114,
   "id": "c767945f",
   "metadata": {},
   "outputs": [
    {
     "data": {
      "text/plain": [
       "False"
      ]
     },
     "execution_count": 114,
     "metadata": {},
     "output_type": "execute_result"
    }
   ],
   "source": [
    "s.isalnum()"
   ]
  },
  {
   "cell_type": "code",
   "execution_count": 117,
   "id": "33607393",
   "metadata": {},
   "outputs": [
    {
     "data": {
      "text/plain": [
       "'######qwid123 #####'"
      ]
     },
     "execution_count": 117,
     "metadata": {},
     "output_type": "execute_result"
    }
   ],
   "source": [
    "s.center(19,\"#\")"
   ]
  },
  {
   "cell_type": "code",
   "execution_count": 118,
   "id": "77f90f7b",
   "metadata": {},
   "outputs": [],
   "source": [
    "s=\"  \""
   ]
  },
  {
   "cell_type": "code",
   "execution_count": 119,
   "id": "6084ca86",
   "metadata": {},
   "outputs": [
    {
     "data": {
      "text/plain": [
       "True"
      ]
     },
     "execution_count": 119,
     "metadata": {},
     "output_type": "execute_result"
    }
   ],
   "source": [
    "s.isspace()"
   ]
  },
  {
   "cell_type": "code",
   "execution_count": 128,
   "id": "bd21f972",
   "metadata": {},
   "outputs": [],
   "source": [
    "s=\"344.2323\""
   ]
  },
  {
   "cell_type": "code",
   "execution_count": 129,
   "id": "28ea861b",
   "metadata": {},
   "outputs": [
    {
     "data": {
      "text/plain": [
       "False"
      ]
     },
     "execution_count": 129,
     "metadata": {},
     "output_type": "execute_result"
    }
   ],
   "source": [
    "s.isdigit()"
   ]
  },
  {
   "cell_type": "code",
   "execution_count": 130,
   "id": "aaf9493b",
   "metadata": {},
   "outputs": [
    {
     "data": {
      "text/plain": [
       "False"
      ]
     },
     "execution_count": 130,
     "metadata": {},
     "output_type": "execute_result"
    }
   ],
   "source": [
    "s.isdecimal()"
   ]
  },
  {
   "cell_type": "code",
   "execution_count": 131,
   "id": "fba8b6f8",
   "metadata": {},
   "outputs": [],
   "source": [
    "s=\"sudhanshu\\tkumar\\tineurrion\""
   ]
  },
  {
   "cell_type": "code",
   "execution_count": 132,
   "id": "0c887f89",
   "metadata": {},
   "outputs": [
    {
     "data": {
      "text/plain": [
       "'sudhanshu\\tkumar\\tineurrion'"
      ]
     },
     "execution_count": 132,
     "metadata": {},
     "output_type": "execute_result"
    }
   ],
   "source": [
    "s"
   ]
  },
  {
   "cell_type": "code",
   "execution_count": 133,
   "id": "39c2a065",
   "metadata": {},
   "outputs": [
    {
     "data": {
      "text/plain": [
       "'sudhanshu       kumar   ineurrion'"
      ]
     },
     "execution_count": 133,
     "metadata": {},
     "output_type": "execute_result"
    }
   ],
   "source": [
    "s.expandtabs()"
   ]
  },
  {
   "cell_type": "code",
   "execution_count": 139,
   "id": "ccf5f935",
   "metadata": {},
   "outputs": [
    {
     "data": {
      "text/plain": [
       "'noirrueni       ramuk   uhsnahdus'"
      ]
     },
     "execution_count": 139,
     "metadata": {},
     "output_type": "execute_result"
    }
   ],
   "source": [
    "\"\".join(reversed(s)).expandtabs()"
   ]
  },
  {
   "cell_type": "code",
   "execution_count": 140,
   "id": "f77fd69a",
   "metadata": {},
   "outputs": [],
   "source": [
    "s=\"my name is shubham\""
   ]
  },
  {
   "cell_type": "code",
   "execution_count": 141,
   "id": "9fbd8448",
   "metadata": {},
   "outputs": [
    {
     "data": {
      "text/plain": [
       "'your name is shubham'"
      ]
     },
     "execution_count": 141,
     "metadata": {},
     "output_type": "execute_result"
    }
   ],
   "source": [
    "s.replace(\"my\",\"your\")"
   ]
  },
  {
   "cell_type": "code",
   "execution_count": null,
   "id": "3102e949",
   "metadata": {},
   "outputs": [],
   "source": []
  }
 ],
 "metadata": {
  "kernelspec": {
   "display_name": "Python 3 (ipykernel)",
   "language": "python",
   "name": "python3"
  },
  "language_info": {
   "codemirror_mode": {
    "name": "ipython",
    "version": 3
   },
   "file_extension": ".py",
   "mimetype": "text/x-python",
   "name": "python",
   "nbconvert_exporter": "python",
   "pygments_lexer": "ipython3",
   "version": "3.9.12"
  }
 },
 "nbformat": 4,
 "nbformat_minor": 5
}
